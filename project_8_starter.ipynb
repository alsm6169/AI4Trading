{
 "cells": [
  {
   "cell_type": "markdown",
   "metadata": {},
   "source": [
    "# Project 8: Backtesting\n",
    "\n",
    "In this project, you will build a fairly realistic backtester that uses the Barra data. The backtester will perform portfolio optimization that includes transaction costs, and you'll implement it with computational efficiency in mind, to allow for a reasonably fast backtest. You'll also use performance attribution to identify the major drivers of your portfolio's profit-and-loss (PnL). You will have the option to modify and customize the backtest as well.\n",
    "\n",
    "\n",
    "## Instructions\n",
    "\n",
    "Each problem consists of a function to implement and instructions on how to implement the function.  The parts of the function that need to be implemented are marked with a `# TODO` comment. Your code will be checked for the correct solution when you submit it to Udacity.\n",
    "\n",
    "\n",
    "## Packages\n",
    "\n",
    "When you implement the functions, you'll only need to you use the packages you've used in the classroom, like [Pandas](https://pandas.pydata.org/) and [Numpy](http://www.numpy.org/). These packages will be imported for you. We recommend you don't add any import statements, otherwise the grader might not be able to run your code.\n",
    "\n",
    "### Install Packages"
   ]
  },
  {
   "cell_type": "code",
   "execution_count": 1,
   "metadata": {},
   "outputs": [
    {
     "name": "stdout",
     "output_type": "stream",
     "text": [
      "Requirement already satisfied: matplotlib==2.1.2 in /anaconda3/envs/ai4trading-section2/lib/python3.6/site-packages (from -r requirements.txt (line 1)) (2.1.2)\n",
      "Requirement already satisfied: numpy==1.17.0 in /anaconda3/envs/ai4trading-section2/lib/python3.6/site-packages (from -r requirements.txt (line 2)) (1.17.0)\n",
      "Requirement already satisfied: pandas==0.24.1 in /anaconda3/envs/ai4trading-section2/lib/python3.6/site-packages (from -r requirements.txt (line 3)) (0.24.1)\n",
      "Requirement already satisfied: patsy==0.5.1 in /anaconda3/envs/ai4trading-section2/lib/python3.6/site-packages (from -r requirements.txt (line 4)) (0.5.1)\n",
      "Requirement already satisfied: scipy==1.0.1 in /anaconda3/envs/ai4trading-section2/lib/python3.6/site-packages (from -r requirements.txt (line 5)) (1.0.1)\n",
      "Requirement already satisfied: statsmodels==0.9.0 in /anaconda3/envs/ai4trading-section2/lib/python3.6/site-packages (from -r requirements.txt (line 6)) (0.9.0)\n",
      "Requirement already satisfied: tqdm==4.19.5 in /anaconda3/envs/ai4trading-section2/lib/python3.6/site-packages (from -r requirements.txt (line 7)) (4.19.5)\n",
      "Requirement already satisfied: python-dateutil>=2.1 in /anaconda3/envs/ai4trading-section2/lib/python3.6/site-packages (from matplotlib==2.1.2->-r requirements.txt (line 1)) (2.6.1)\n",
      "Requirement already satisfied: cycler>=0.10 in /anaconda3/envs/ai4trading-section2/lib/python3.6/site-packages (from matplotlib==2.1.2->-r requirements.txt (line 1)) (0.10.0)\n",
      "Requirement already satisfied: pytz in /anaconda3/envs/ai4trading-section2/lib/python3.6/site-packages (from matplotlib==2.1.2->-r requirements.txt (line 1)) (2017.3)\n",
      "Requirement already satisfied: pyparsing!=2.0.4,!=2.1.2,!=2.1.6,>=2.0.1 in /anaconda3/envs/ai4trading-section2/lib/python3.6/site-packages (from matplotlib==2.1.2->-r requirements.txt (line 1)) (2.2.0)\n",
      "Requirement already satisfied: six>=1.10 in /anaconda3/envs/ai4trading-section2/lib/python3.6/site-packages (from matplotlib==2.1.2->-r requirements.txt (line 1)) (1.11.0)\n"
     ]
    }
   ],
   "source": [
    "import sys\n",
    "!{sys.executable} -m pip install -r requirements.txt"
   ]
  },
  {
   "cell_type": "markdown",
   "metadata": {},
   "source": [
    "### Load Packages"
   ]
  },
  {
   "cell_type": "code",
   "execution_count": 2,
   "metadata": {},
   "outputs": [],
   "source": [
    "import scipy\n",
    "import patsy\n",
    "import pickle\n",
    "\n",
    "import numpy as np\n",
    "import pandas as pd\n",
    "\n",
    "import scipy.sparse\n",
    "import matplotlib.pyplot as plt\n",
    "\n",
    "from statistics import median\n",
    "from scipy.stats import gaussian_kde\n",
    "from statsmodels.formula.api import ols\n",
    "from tqdm import tqdm"
   ]
  },
  {
   "cell_type": "markdown",
   "metadata": {},
   "source": [
    "## Load Data\n",
    "\n",
    "We’ll be using the Barra dataset to get factors that can be used to predict risk. Loading and parsing the raw Barra data can be a very slow process that can significantly slow down your backtesting. For this reason, it's important to pre-process the data beforehand. For your convenience, the Barra data has already been pre-processed for you and saved into pickle files. You will load the Barra data from these pickle files.\n",
    "\n",
    "In the code below, we start by loading `2004` factor data from the `pandas-frames.2004.pickle` file. We also load the `2003` and `2004` covariance data from the `covaraince.2003.pickle`  and `covaraince.2004.pickle` files. You are encouraged  to customize the data range for your backtest. For example, we recommend starting with two or three years of factor data. Remember that the covariance data should include all the years that you choose for the factor data,   and also one year earlier. For example, in the code below we are using  `2004` factor data, therefore, we must include `2004` in our covariance data, but also the previous year, `2003`. If you don't remember why must include this previous year, feel free to review the lessons."
   ]
  },
  {
   "cell_type": "code",
   "execution_count": 3,
   "metadata": {},
   "outputs": [],
   "source": [
    "barra_dir = 'data/project_8_barra/'\n",
    "\n",
    "data = {}\n",
    "for year in [2004]:\n",
    "    fil = barra_dir + \"pandas-frames.\" + str(year) + \".pickle\"\n",
    "    data.update(pickle.load( open( fil, \"rb\" ) ))\n",
    "    \n",
    "covariance = {}\n",
    "for year in [2004]:\n",
    "    fil = barra_dir + \"covariance.\" + str(year) + \".pickle\"\n",
    "    covariance.update(pickle.load( open(fil, \"rb\" ) ))\n",
    "    \n",
    "daily_return = {}\n",
    "for year in [2004, 2005]:\n",
    "    fil = barra_dir + \"price.\" + str(year) + \".pickle\"\n",
    "    daily_return.update(pickle.load( open(fil, \"rb\" ) ))"
   ]
  },
  {
   "cell_type": "markdown",
   "metadata": {},
   "source": [
    "## Shift Daily Returns Data (TODO)\n",
    "\n",
    "In the cell below, we want to incorporate a realistic time delay that exists in live trading, we’ll use a two day delay for the `daily_return` data. That means the `daily_return` should be two days after the data in `data` and `cov_data`. Combine `daily_return` and `data` together in a dict called `frames`.\n",
    "\n",
    "Since reporting of PnL is usually for the date of the returns, make sure to use the two day delay dates (dates that match the `daily_return`) when building `frames`. This means calling `frames['20040108']` will get you the prices from \"20040108\" and the data from `data` at \"20040106\".\n",
    "\n",
    "Note: We're not shifting `covariance`, since we'll use the \"DataDate\" field in `frames` to lookup the covariance data. The \"DataDate\" field contains the date when the `data` in `frames` was recorded. For example, `frames['20040108']` will give you a value of \"20040106\" for the field \"DataDate\"."
   ]
  },
  {
   "cell_type": "code",
   "execution_count": 4,
   "metadata": {},
   "outputs": [
    {
     "data": {
      "text/plain": [
       "list"
      ]
     },
     "execution_count": 4,
     "metadata": {},
     "output_type": "execute_result"
    }
   ],
   "source": [
    "type(sorted(data.keys()))"
   ]
  },
  {
   "cell_type": "code",
   "execution_count": 5,
   "metadata": {},
   "outputs": [
    {
     "name": "stdout",
     "output_type": "stream",
     "text": [
      "252 20040102 20041231 <class 'str'>\n"
     ]
    }
   ],
   "source": [
    "data_dates = [dt for dt in data.keys()]\n",
    "print(len(data_dates), data_dates[0], data_dates[-1], type(data_dates[0]))"
   ]
  },
  {
   "cell_type": "code",
   "execution_count": 6,
   "metadata": {},
   "outputs": [
    {
     "name": "stdout",
     "output_type": "stream",
     "text": [
      "504 20040102 20040106 20051230 <class 'str'>\n"
     ]
    }
   ],
   "source": [
    "ret_dates = [dt for dt in daily_return.keys()]\n",
    "print(len(ret_dates), ret_dates[0], ret_dates[2], ret_dates[-1], type(ret_dates[0]))"
   ]
  },
  {
   "cell_type": "code",
   "execution_count": 7,
   "metadata": {},
   "outputs": [
    {
     "data": {
      "text/html": [
       "<div>\n",
       "<style scoped>\n",
       "    .dataframe tbody tr th:only-of-type {\n",
       "        vertical-align: middle;\n",
       "    }\n",
       "\n",
       "    .dataframe tbody tr th {\n",
       "        vertical-align: top;\n",
       "    }\n",
       "\n",
       "    .dataframe thead th {\n",
       "        text-align: right;\n",
       "    }\n",
       "</style>\n",
       "<table border=\"1\" class=\"dataframe\">\n",
       "  <thead>\n",
       "    <tr style=\"text-align: right;\">\n",
       "      <th></th>\n",
       "      <th>Barrid</th>\n",
       "      <th>USFASTD_1DREVRSL</th>\n",
       "      <th>USFASTD_AERODEF</th>\n",
       "      <th>USFASTD_AIRLINES</th>\n",
       "      <th>USFASTD_ALUMSTEL</th>\n",
       "      <th>USFASTD_APPAREL</th>\n",
       "      <th>USFASTD_AUTO</th>\n",
       "      <th>USFASTD_BANKS</th>\n",
       "      <th>USFASTD_BETA</th>\n",
       "      <th>USFASTD_BEVTOB</th>\n",
       "      <th>...</th>\n",
       "      <th>BidAskSpread</th>\n",
       "      <th>DailyVolume</th>\n",
       "      <th>ADTCA_30</th>\n",
       "      <th>IssuerMarketCap</th>\n",
       "      <th>Yield</th>\n",
       "      <th>TotalRisk</th>\n",
       "      <th>SpecRisk</th>\n",
       "      <th>HistBeta</th>\n",
       "      <th>PredBeta</th>\n",
       "      <th>DataDate</th>\n",
       "    </tr>\n",
       "  </thead>\n",
       "  <tbody>\n",
       "    <tr>\n",
       "      <th>0</th>\n",
       "      <td>USA0001</td>\n",
       "      <td>-0.032</td>\n",
       "      <td>0.000</td>\n",
       "      <td>0.0</td>\n",
       "      <td>0.0</td>\n",
       "      <td>0.0</td>\n",
       "      <td>0.0</td>\n",
       "      <td>0.0</td>\n",
       "      <td>-2.177</td>\n",
       "      <td>0.0</td>\n",
       "      <td>...</td>\n",
       "      <td>NaN</td>\n",
       "      <td>NaN</td>\n",
       "      <td>NaN</td>\n",
       "      <td>5.392988e+10</td>\n",
       "      <td>0.188679</td>\n",
       "      <td>13.959397</td>\n",
       "      <td>9.014505</td>\n",
       "      <td>-0.000189</td>\n",
       "      <td>0.156387</td>\n",
       "      <td>20040102</td>\n",
       "    </tr>\n",
       "    <tr>\n",
       "      <th>1</th>\n",
       "      <td>USA0011</td>\n",
       "      <td>-0.059</td>\n",
       "      <td>0.000</td>\n",
       "      <td>0.0</td>\n",
       "      <td>0.0</td>\n",
       "      <td>0.0</td>\n",
       "      <td>0.0</td>\n",
       "      <td>0.0</td>\n",
       "      <td>-2.176</td>\n",
       "      <td>0.0</td>\n",
       "      <td>...</td>\n",
       "      <td>NaN</td>\n",
       "      <td>NaN</td>\n",
       "      <td>NaN</td>\n",
       "      <td>5.874999e+09</td>\n",
       "      <td>0.000000</td>\n",
       "      <td>17.033359</td>\n",
       "      <td>11.726327</td>\n",
       "      <td>0.000013</td>\n",
       "      <td>0.147900</td>\n",
       "      <td>20040102</td>\n",
       "    </tr>\n",
       "    <tr>\n",
       "      <th>2</th>\n",
       "      <td>USA0031</td>\n",
       "      <td>0.457</td>\n",
       "      <td>0.000</td>\n",
       "      <td>0.0</td>\n",
       "      <td>0.0</td>\n",
       "      <td>0.0</td>\n",
       "      <td>0.0</td>\n",
       "      <td>0.0</td>\n",
       "      <td>-2.061</td>\n",
       "      <td>0.0</td>\n",
       "      <td>...</td>\n",
       "      <td>NaN</td>\n",
       "      <td>NaN</td>\n",
       "      <td>NaN</td>\n",
       "      <td>7.304963e+10</td>\n",
       "      <td>2.103004</td>\n",
       "      <td>21.738218</td>\n",
       "      <td>18.047415</td>\n",
       "      <td>0.053033</td>\n",
       "      <td>0.216422</td>\n",
       "      <td>20040102</td>\n",
       "    </tr>\n",
       "    <tr>\n",
       "      <th>3</th>\n",
       "      <td>USA0062</td>\n",
       "      <td>-0.128</td>\n",
       "      <td>0.431</td>\n",
       "      <td>0.0</td>\n",
       "      <td>0.0</td>\n",
       "      <td>0.0</td>\n",
       "      <td>0.0</td>\n",
       "      <td>0.0</td>\n",
       "      <td>-2.003</td>\n",
       "      <td>0.0</td>\n",
       "      <td>...</td>\n",
       "      <td>NaN</td>\n",
       "      <td>NaN</td>\n",
       "      <td>NaN</td>\n",
       "      <td>2.866562e+10</td>\n",
       "      <td>2.243494</td>\n",
       "      <td>23.129496</td>\n",
       "      <td>20.830128</td>\n",
       "      <td>0.079755</td>\n",
       "      <td>0.355564</td>\n",
       "      <td>20040102</td>\n",
       "    </tr>\n",
       "    <tr>\n",
       "      <th>4</th>\n",
       "      <td>USA00E2</td>\n",
       "      <td>0.374</td>\n",
       "      <td>0.000</td>\n",
       "      <td>0.0</td>\n",
       "      <td>0.0</td>\n",
       "      <td>0.0</td>\n",
       "      <td>0.0</td>\n",
       "      <td>0.0</td>\n",
       "      <td>-1.967</td>\n",
       "      <td>0.0</td>\n",
       "      <td>...</td>\n",
       "      <td>NaN</td>\n",
       "      <td>NaN</td>\n",
       "      <td>NaN</td>\n",
       "      <td>5.720420e+10</td>\n",
       "      <td>2.167256</td>\n",
       "      <td>25.391653</td>\n",
       "      <td>21.458171</td>\n",
       "      <td>0.096238</td>\n",
       "      <td>0.412602</td>\n",
       "      <td>20040102</td>\n",
       "    </tr>\n",
       "  </tbody>\n",
       "</table>\n",
       "<p>5 rows × 92 columns</p>\n",
       "</div>"
      ],
      "text/plain": [
       "    Barrid  USFASTD_1DREVRSL  USFASTD_AERODEF  USFASTD_AIRLINES  \\\n",
       "0  USA0001            -0.032            0.000               0.0   \n",
       "1  USA0011            -0.059            0.000               0.0   \n",
       "2  USA0031             0.457            0.000               0.0   \n",
       "3  USA0062            -0.128            0.431               0.0   \n",
       "4  USA00E2             0.374            0.000               0.0   \n",
       "\n",
       "   USFASTD_ALUMSTEL  USFASTD_APPAREL  USFASTD_AUTO  USFASTD_BANKS  \\\n",
       "0               0.0              0.0           0.0            0.0   \n",
       "1               0.0              0.0           0.0            0.0   \n",
       "2               0.0              0.0           0.0            0.0   \n",
       "3               0.0              0.0           0.0            0.0   \n",
       "4               0.0              0.0           0.0            0.0   \n",
       "\n",
       "   USFASTD_BETA  USFASTD_BEVTOB  ...  BidAskSpread  DailyVolume  ADTCA_30  \\\n",
       "0        -2.177             0.0  ...           NaN          NaN       NaN   \n",
       "1        -2.176             0.0  ...           NaN          NaN       NaN   \n",
       "2        -2.061             0.0  ...           NaN          NaN       NaN   \n",
       "3        -2.003             0.0  ...           NaN          NaN       NaN   \n",
       "4        -1.967             0.0  ...           NaN          NaN       NaN   \n",
       "\n",
       "   IssuerMarketCap     Yield  TotalRisk   SpecRisk  HistBeta  PredBeta  \\\n",
       "0     5.392988e+10  0.188679  13.959397   9.014505 -0.000189  0.156387   \n",
       "1     5.874999e+09  0.000000  17.033359  11.726327  0.000013  0.147900   \n",
       "2     7.304963e+10  2.103004  21.738218  18.047415  0.053033  0.216422   \n",
       "3     2.866562e+10  2.243494  23.129496  20.830128  0.079755  0.355564   \n",
       "4     5.720420e+10  2.167256  25.391653  21.458171  0.096238  0.412602   \n",
       "\n",
       "   DataDate  \n",
       "0  20040102  \n",
       "1  20040102  \n",
       "2  20040102  \n",
       "3  20040102  \n",
       "4  20040102  \n",
       "\n",
       "[5 rows x 92 columns]"
      ]
     },
     "execution_count": 7,
     "metadata": {},
     "output_type": "execute_result"
    }
   ],
   "source": [
    "data[data_dates[0]].head()"
   ]
  },
  {
   "cell_type": "code",
   "execution_count": 8,
   "metadata": {},
   "outputs": [
    {
     "data": {
      "text/html": [
       "<div>\n",
       "<style scoped>\n",
       "    .dataframe tbody tr th:only-of-type {\n",
       "        vertical-align: middle;\n",
       "    }\n",
       "\n",
       "    .dataframe tbody tr th {\n",
       "        vertical-align: top;\n",
       "    }\n",
       "\n",
       "    .dataframe thead th {\n",
       "        text-align: right;\n",
       "    }\n",
       "</style>\n",
       "<table border=\"1\" class=\"dataframe\">\n",
       "  <thead>\n",
       "    <tr style=\"text-align: right;\">\n",
       "      <th></th>\n",
       "      <th>Barrid</th>\n",
       "      <th>DlyReturn</th>\n",
       "    </tr>\n",
       "  </thead>\n",
       "  <tbody>\n",
       "    <tr>\n",
       "      <th>76</th>\n",
       "      <td>USA0001</td>\n",
       "      <td>0.0</td>\n",
       "    </tr>\n",
       "    <tr>\n",
       "      <th>77</th>\n",
       "      <td>USA0011</td>\n",
       "      <td>0.0</td>\n",
       "    </tr>\n",
       "    <tr>\n",
       "      <th>78</th>\n",
       "      <td>USA0031</td>\n",
       "      <td>0.0</td>\n",
       "    </tr>\n",
       "    <tr>\n",
       "      <th>79</th>\n",
       "      <td>USA0062</td>\n",
       "      <td>0.0</td>\n",
       "    </tr>\n",
       "    <tr>\n",
       "      <th>80</th>\n",
       "      <td>USA00E2</td>\n",
       "      <td>0.0</td>\n",
       "    </tr>\n",
       "  </tbody>\n",
       "</table>\n",
       "</div>"
      ],
      "text/plain": [
       "     Barrid  DlyReturn\n",
       "76  USA0001        0.0\n",
       "77  USA0011        0.0\n",
       "78  USA0031        0.0\n",
       "79  USA0062        0.0\n",
       "80  USA00E2        0.0"
      ]
     },
     "execution_count": 8,
     "metadata": {},
     "output_type": "execute_result"
    }
   ],
   "source": [
    "daily_return[data_dates[2]].head()"
   ]
  },
  {
   "cell_type": "code",
   "execution_count": 9,
   "metadata": {},
   "outputs": [
    {
     "name": "stdout",
     "output_type": "stream",
     "text": [
      "252\n"
     ]
    }
   ],
   "source": [
    "frames ={}\n",
    "dlyreturn_n_days_delay = 2\n",
    "\n",
    "# TODO: Implement\n",
    "data_dates = sorted(data.keys())\n",
    "ret_dates = sorted(daily_return.keys())\n",
    "for idx, dt in enumerate(data_dates):\n",
    "    data_dt = dt\n",
    "    ret_dt = ret_dates[idx+dlyreturn_n_days_delay]\n",
    "    # print('data_dt: {}, ret_dt: {}'.format(data_dt, ret_dt))\n",
    "    frames[ret_dt] = data[data_dt].merge(daily_return[ret_dt], on = 'Barrid')\n",
    "\n",
    "print(len(frames))\n"
   ]
  },
  {
   "cell_type": "code",
   "execution_count": 11,
   "metadata": {},
   "outputs": [],
   "source": [
    "# frames['20040102']"
   ]
  },
  {
   "cell_type": "code",
   "execution_count": 12,
   "metadata": {},
   "outputs": [
    {
     "data": {
      "text/html": [
       "<div>\n",
       "<style scoped>\n",
       "    .dataframe tbody tr th:only-of-type {\n",
       "        vertical-align: middle;\n",
       "    }\n",
       "\n",
       "    .dataframe tbody tr th {\n",
       "        vertical-align: top;\n",
       "    }\n",
       "\n",
       "    .dataframe thead th {\n",
       "        text-align: right;\n",
       "    }\n",
       "</style>\n",
       "<table border=\"1\" class=\"dataframe\">\n",
       "  <thead>\n",
       "    <tr style=\"text-align: right;\">\n",
       "      <th></th>\n",
       "      <th>Barrid</th>\n",
       "      <th>USFASTD_1DREVRSL</th>\n",
       "      <th>USFASTD_AERODEF</th>\n",
       "      <th>USFASTD_AIRLINES</th>\n",
       "      <th>USFASTD_ALUMSTEL</th>\n",
       "      <th>USFASTD_APPAREL</th>\n",
       "      <th>USFASTD_AUTO</th>\n",
       "      <th>USFASTD_BANKS</th>\n",
       "      <th>USFASTD_BETA</th>\n",
       "      <th>USFASTD_BEVTOB</th>\n",
       "      <th>...</th>\n",
       "      <th>DailyVolume</th>\n",
       "      <th>ADTCA_30</th>\n",
       "      <th>IssuerMarketCap</th>\n",
       "      <th>Yield</th>\n",
       "      <th>TotalRisk</th>\n",
       "      <th>SpecRisk</th>\n",
       "      <th>HistBeta</th>\n",
       "      <th>PredBeta</th>\n",
       "      <th>DataDate</th>\n",
       "      <th>DlyReturn</th>\n",
       "    </tr>\n",
       "  </thead>\n",
       "  <tbody>\n",
       "    <tr>\n",
       "      <th>0</th>\n",
       "      <td>USA0001</td>\n",
       "      <td>-0.032</td>\n",
       "      <td>0.000</td>\n",
       "      <td>0.0</td>\n",
       "      <td>0.0</td>\n",
       "      <td>0.0</td>\n",
       "      <td>0.0</td>\n",
       "      <td>0.0</td>\n",
       "      <td>-2.177</td>\n",
       "      <td>0.0</td>\n",
       "      <td>...</td>\n",
       "      <td>NaN</td>\n",
       "      <td>NaN</td>\n",
       "      <td>5.392988e+10</td>\n",
       "      <td>0.188679</td>\n",
       "      <td>13.959397</td>\n",
       "      <td>9.014505</td>\n",
       "      <td>-0.000189</td>\n",
       "      <td>0.156387</td>\n",
       "      <td>20040102</td>\n",
       "      <td>0.0</td>\n",
       "    </tr>\n",
       "    <tr>\n",
       "      <th>1</th>\n",
       "      <td>USA0011</td>\n",
       "      <td>-0.059</td>\n",
       "      <td>0.000</td>\n",
       "      <td>0.0</td>\n",
       "      <td>0.0</td>\n",
       "      <td>0.0</td>\n",
       "      <td>0.0</td>\n",
       "      <td>0.0</td>\n",
       "      <td>-2.176</td>\n",
       "      <td>0.0</td>\n",
       "      <td>...</td>\n",
       "      <td>NaN</td>\n",
       "      <td>NaN</td>\n",
       "      <td>5.874999e+09</td>\n",
       "      <td>0.000000</td>\n",
       "      <td>17.033359</td>\n",
       "      <td>11.726327</td>\n",
       "      <td>0.000013</td>\n",
       "      <td>0.147900</td>\n",
       "      <td>20040102</td>\n",
       "      <td>0.0</td>\n",
       "    </tr>\n",
       "    <tr>\n",
       "      <th>2</th>\n",
       "      <td>USA0031</td>\n",
       "      <td>0.457</td>\n",
       "      <td>0.000</td>\n",
       "      <td>0.0</td>\n",
       "      <td>0.0</td>\n",
       "      <td>0.0</td>\n",
       "      <td>0.0</td>\n",
       "      <td>0.0</td>\n",
       "      <td>-2.061</td>\n",
       "      <td>0.0</td>\n",
       "      <td>...</td>\n",
       "      <td>NaN</td>\n",
       "      <td>NaN</td>\n",
       "      <td>7.304963e+10</td>\n",
       "      <td>2.103004</td>\n",
       "      <td>21.738218</td>\n",
       "      <td>18.047415</td>\n",
       "      <td>0.053033</td>\n",
       "      <td>0.216422</td>\n",
       "      <td>20040102</td>\n",
       "      <td>0.0</td>\n",
       "    </tr>\n",
       "    <tr>\n",
       "      <th>3</th>\n",
       "      <td>USA0062</td>\n",
       "      <td>-0.128</td>\n",
       "      <td>0.431</td>\n",
       "      <td>0.0</td>\n",
       "      <td>0.0</td>\n",
       "      <td>0.0</td>\n",
       "      <td>0.0</td>\n",
       "      <td>0.0</td>\n",
       "      <td>-2.003</td>\n",
       "      <td>0.0</td>\n",
       "      <td>...</td>\n",
       "      <td>NaN</td>\n",
       "      <td>NaN</td>\n",
       "      <td>2.866562e+10</td>\n",
       "      <td>2.243494</td>\n",
       "      <td>23.129496</td>\n",
       "      <td>20.830128</td>\n",
       "      <td>0.079755</td>\n",
       "      <td>0.355564</td>\n",
       "      <td>20040102</td>\n",
       "      <td>0.0</td>\n",
       "    </tr>\n",
       "    <tr>\n",
       "      <th>4</th>\n",
       "      <td>USA00E2</td>\n",
       "      <td>0.374</td>\n",
       "      <td>0.000</td>\n",
       "      <td>0.0</td>\n",
       "      <td>0.0</td>\n",
       "      <td>0.0</td>\n",
       "      <td>0.0</td>\n",
       "      <td>0.0</td>\n",
       "      <td>-1.967</td>\n",
       "      <td>0.0</td>\n",
       "      <td>...</td>\n",
       "      <td>NaN</td>\n",
       "      <td>NaN</td>\n",
       "      <td>5.720420e+10</td>\n",
       "      <td>2.167256</td>\n",
       "      <td>25.391653</td>\n",
       "      <td>21.458171</td>\n",
       "      <td>0.096238</td>\n",
       "      <td>0.412602</td>\n",
       "      <td>20040102</td>\n",
       "      <td>0.0</td>\n",
       "    </tr>\n",
       "  </tbody>\n",
       "</table>\n",
       "<p>5 rows × 93 columns</p>\n",
       "</div>"
      ],
      "text/plain": [
       "    Barrid  USFASTD_1DREVRSL  USFASTD_AERODEF  USFASTD_AIRLINES  \\\n",
       "0  USA0001            -0.032            0.000               0.0   \n",
       "1  USA0011            -0.059            0.000               0.0   \n",
       "2  USA0031             0.457            0.000               0.0   \n",
       "3  USA0062            -0.128            0.431               0.0   \n",
       "4  USA00E2             0.374            0.000               0.0   \n",
       "\n",
       "   USFASTD_ALUMSTEL  USFASTD_APPAREL  USFASTD_AUTO  USFASTD_BANKS  \\\n",
       "0               0.0              0.0           0.0            0.0   \n",
       "1               0.0              0.0           0.0            0.0   \n",
       "2               0.0              0.0           0.0            0.0   \n",
       "3               0.0              0.0           0.0            0.0   \n",
       "4               0.0              0.0           0.0            0.0   \n",
       "\n",
       "   USFASTD_BETA  USFASTD_BEVTOB  ...  DailyVolume  ADTCA_30  IssuerMarketCap  \\\n",
       "0        -2.177             0.0  ...          NaN       NaN     5.392988e+10   \n",
       "1        -2.176             0.0  ...          NaN       NaN     5.874999e+09   \n",
       "2        -2.061             0.0  ...          NaN       NaN     7.304963e+10   \n",
       "3        -2.003             0.0  ...          NaN       NaN     2.866562e+10   \n",
       "4        -1.967             0.0  ...          NaN       NaN     5.720420e+10   \n",
       "\n",
       "      Yield  TotalRisk   SpecRisk  HistBeta  PredBeta  DataDate  DlyReturn  \n",
       "0  0.188679  13.959397   9.014505 -0.000189  0.156387  20040102        0.0  \n",
       "1  0.000000  17.033359  11.726327  0.000013  0.147900  20040102        0.0  \n",
       "2  2.103004  21.738218  18.047415  0.053033  0.216422  20040102        0.0  \n",
       "3  2.243494  23.129496  20.830128  0.079755  0.355564  20040102        0.0  \n",
       "4  2.167256  25.391653  21.458171  0.096238  0.412602  20040102        0.0  \n",
       "\n",
       "[5 rows x 93 columns]"
      ]
     },
     "execution_count": 12,
     "metadata": {},
     "output_type": "execute_result"
    }
   ],
   "source": [
    "frames['20040106'].head()"
   ]
  },
  {
   "cell_type": "markdown",
   "metadata": {},
   "source": [
    "## Add Daily Returns date column (Optional)\n",
    "Name the column `DlyReturnDate`.\n",
    "**Hint**: create a list containing copies of the date, then create a pandas series."
   ]
  },
  {
   "cell_type": "code",
   "execution_count": 13,
   "metadata": {},
   "outputs": [],
   "source": [
    "# Optional\n",
    "for dt in frames.keys():\n",
    "    frames[dt]['DlyReturnDate'] = [dt]*len(frames[dt])"
   ]
  },
  {
   "cell_type": "code",
   "execution_count": 14,
   "metadata": {},
   "outputs": [
    {
     "data": {
      "text/html": [
       "<div>\n",
       "<style scoped>\n",
       "    .dataframe tbody tr th:only-of-type {\n",
       "        vertical-align: middle;\n",
       "    }\n",
       "\n",
       "    .dataframe tbody tr th {\n",
       "        vertical-align: top;\n",
       "    }\n",
       "\n",
       "    .dataframe thead th {\n",
       "        text-align: right;\n",
       "    }\n",
       "</style>\n",
       "<table border=\"1\" class=\"dataframe\">\n",
       "  <thead>\n",
       "    <tr style=\"text-align: right;\">\n",
       "      <th></th>\n",
       "      <th>Barrid</th>\n",
       "      <th>USFASTD_1DREVRSL</th>\n",
       "      <th>USFASTD_AERODEF</th>\n",
       "      <th>USFASTD_AIRLINES</th>\n",
       "      <th>USFASTD_ALUMSTEL</th>\n",
       "      <th>USFASTD_APPAREL</th>\n",
       "      <th>USFASTD_AUTO</th>\n",
       "      <th>USFASTD_BANKS</th>\n",
       "      <th>USFASTD_BETA</th>\n",
       "      <th>USFASTD_BEVTOB</th>\n",
       "      <th>...</th>\n",
       "      <th>ADTCA_30</th>\n",
       "      <th>IssuerMarketCap</th>\n",
       "      <th>Yield</th>\n",
       "      <th>TotalRisk</th>\n",
       "      <th>SpecRisk</th>\n",
       "      <th>HistBeta</th>\n",
       "      <th>PredBeta</th>\n",
       "      <th>DataDate</th>\n",
       "      <th>DlyReturn</th>\n",
       "      <th>DlyReturnDate</th>\n",
       "    </tr>\n",
       "  </thead>\n",
       "  <tbody>\n",
       "    <tr>\n",
       "      <th>0</th>\n",
       "      <td>USA0001</td>\n",
       "      <td>-0.032</td>\n",
       "      <td>0.000</td>\n",
       "      <td>0.0</td>\n",
       "      <td>0.0</td>\n",
       "      <td>0.0</td>\n",
       "      <td>0.0</td>\n",
       "      <td>0.0</td>\n",
       "      <td>-2.177</td>\n",
       "      <td>0.0</td>\n",
       "      <td>...</td>\n",
       "      <td>NaN</td>\n",
       "      <td>5.392988e+10</td>\n",
       "      <td>0.188679</td>\n",
       "      <td>13.959397</td>\n",
       "      <td>9.014505</td>\n",
       "      <td>-0.000189</td>\n",
       "      <td>0.156387</td>\n",
       "      <td>20040102</td>\n",
       "      <td>0.0</td>\n",
       "      <td>20040106</td>\n",
       "    </tr>\n",
       "    <tr>\n",
       "      <th>1</th>\n",
       "      <td>USA0011</td>\n",
       "      <td>-0.059</td>\n",
       "      <td>0.000</td>\n",
       "      <td>0.0</td>\n",
       "      <td>0.0</td>\n",
       "      <td>0.0</td>\n",
       "      <td>0.0</td>\n",
       "      <td>0.0</td>\n",
       "      <td>-2.176</td>\n",
       "      <td>0.0</td>\n",
       "      <td>...</td>\n",
       "      <td>NaN</td>\n",
       "      <td>5.874999e+09</td>\n",
       "      <td>0.000000</td>\n",
       "      <td>17.033359</td>\n",
       "      <td>11.726327</td>\n",
       "      <td>0.000013</td>\n",
       "      <td>0.147900</td>\n",
       "      <td>20040102</td>\n",
       "      <td>0.0</td>\n",
       "      <td>20040106</td>\n",
       "    </tr>\n",
       "    <tr>\n",
       "      <th>2</th>\n",
       "      <td>USA0031</td>\n",
       "      <td>0.457</td>\n",
       "      <td>0.000</td>\n",
       "      <td>0.0</td>\n",
       "      <td>0.0</td>\n",
       "      <td>0.0</td>\n",
       "      <td>0.0</td>\n",
       "      <td>0.0</td>\n",
       "      <td>-2.061</td>\n",
       "      <td>0.0</td>\n",
       "      <td>...</td>\n",
       "      <td>NaN</td>\n",
       "      <td>7.304963e+10</td>\n",
       "      <td>2.103004</td>\n",
       "      <td>21.738218</td>\n",
       "      <td>18.047415</td>\n",
       "      <td>0.053033</td>\n",
       "      <td>0.216422</td>\n",
       "      <td>20040102</td>\n",
       "      <td>0.0</td>\n",
       "      <td>20040106</td>\n",
       "    </tr>\n",
       "    <tr>\n",
       "      <th>3</th>\n",
       "      <td>USA0062</td>\n",
       "      <td>-0.128</td>\n",
       "      <td>0.431</td>\n",
       "      <td>0.0</td>\n",
       "      <td>0.0</td>\n",
       "      <td>0.0</td>\n",
       "      <td>0.0</td>\n",
       "      <td>0.0</td>\n",
       "      <td>-2.003</td>\n",
       "      <td>0.0</td>\n",
       "      <td>...</td>\n",
       "      <td>NaN</td>\n",
       "      <td>2.866562e+10</td>\n",
       "      <td>2.243494</td>\n",
       "      <td>23.129496</td>\n",
       "      <td>20.830128</td>\n",
       "      <td>0.079755</td>\n",
       "      <td>0.355564</td>\n",
       "      <td>20040102</td>\n",
       "      <td>0.0</td>\n",
       "      <td>20040106</td>\n",
       "    </tr>\n",
       "    <tr>\n",
       "      <th>4</th>\n",
       "      <td>USA00E2</td>\n",
       "      <td>0.374</td>\n",
       "      <td>0.000</td>\n",
       "      <td>0.0</td>\n",
       "      <td>0.0</td>\n",
       "      <td>0.0</td>\n",
       "      <td>0.0</td>\n",
       "      <td>0.0</td>\n",
       "      <td>-1.967</td>\n",
       "      <td>0.0</td>\n",
       "      <td>...</td>\n",
       "      <td>NaN</td>\n",
       "      <td>5.720420e+10</td>\n",
       "      <td>2.167256</td>\n",
       "      <td>25.391653</td>\n",
       "      <td>21.458171</td>\n",
       "      <td>0.096238</td>\n",
       "      <td>0.412602</td>\n",
       "      <td>20040102</td>\n",
       "      <td>0.0</td>\n",
       "      <td>20040106</td>\n",
       "    </tr>\n",
       "  </tbody>\n",
       "</table>\n",
       "<p>5 rows × 94 columns</p>\n",
       "</div>"
      ],
      "text/plain": [
       "    Barrid  USFASTD_1DREVRSL  USFASTD_AERODEF  USFASTD_AIRLINES  \\\n",
       "0  USA0001            -0.032            0.000               0.0   \n",
       "1  USA0011            -0.059            0.000               0.0   \n",
       "2  USA0031             0.457            0.000               0.0   \n",
       "3  USA0062            -0.128            0.431               0.0   \n",
       "4  USA00E2             0.374            0.000               0.0   \n",
       "\n",
       "   USFASTD_ALUMSTEL  USFASTD_APPAREL  USFASTD_AUTO  USFASTD_BANKS  \\\n",
       "0               0.0              0.0           0.0            0.0   \n",
       "1               0.0              0.0           0.0            0.0   \n",
       "2               0.0              0.0           0.0            0.0   \n",
       "3               0.0              0.0           0.0            0.0   \n",
       "4               0.0              0.0           0.0            0.0   \n",
       "\n",
       "   USFASTD_BETA  USFASTD_BEVTOB  ...  ADTCA_30  IssuerMarketCap     Yield  \\\n",
       "0        -2.177             0.0  ...       NaN     5.392988e+10  0.188679   \n",
       "1        -2.176             0.0  ...       NaN     5.874999e+09  0.000000   \n",
       "2        -2.061             0.0  ...       NaN     7.304963e+10  2.103004   \n",
       "3        -2.003             0.0  ...       NaN     2.866562e+10  2.243494   \n",
       "4        -1.967             0.0  ...       NaN     5.720420e+10  2.167256   \n",
       "\n",
       "   TotalRisk   SpecRisk  HistBeta  PredBeta  DataDate  DlyReturn  \\\n",
       "0  13.959397   9.014505 -0.000189  0.156387  20040102        0.0   \n",
       "1  17.033359  11.726327  0.000013  0.147900  20040102        0.0   \n",
       "2  21.738218  18.047415  0.053033  0.216422  20040102        0.0   \n",
       "3  23.129496  20.830128  0.079755  0.355564  20040102        0.0   \n",
       "4  25.391653  21.458171  0.096238  0.412602  20040102        0.0   \n",
       "\n",
       "   DlyReturnDate  \n",
       "0       20040106  \n",
       "1       20040106  \n",
       "2       20040106  \n",
       "3       20040106  \n",
       "4       20040106  \n",
       "\n",
       "[5 rows x 94 columns]"
      ]
     },
     "execution_count": 14,
     "metadata": {},
     "output_type": "execute_result"
    }
   ],
   "source": [
    "frames['20040106'].head()"
   ]
  },
  {
   "cell_type": "markdown",
   "metadata": {},
   "source": [
    "## Winsorize\n",
    "\n",
    "As we have done in other projects, we'll want to avoid extremely positive or negative values in our data. Will therefore create a function, `wins`, that will clip our values to a minimum and maximum range. This process is called **Winsorizing**. Remember that this helps us handle noise, which may otherwise cause unusually large positions."
   ]
  },
  {
   "cell_type": "code",
   "execution_count": 15,
   "metadata": {},
   "outputs": [],
   "source": [
    "def wins(x,a,b):\n",
    "    return np.where(x <= a,a, np.where(x >= b, b, x))"
   ]
  },
  {
   "cell_type": "markdown",
   "metadata": {},
   "source": [
    "## Density Plot\n",
    "\n",
    "Let's check our `wins` function by taking a look at the distribution of returns for a single day `20040102`. We will clip our data from `-0.1` to `0.1` and plot it using our `density_plot` function."
   ]
  },
  {
   "cell_type": "code",
   "execution_count": 16,
   "metadata": {},
   "outputs": [
    {
     "data": {
      "image/png": "[encoded data removed]",
      "text/plain": [
       "<matplotlib.figure.Figure at 0x1bd400be0>"
      ]
     },
     "metadata": {
      "needs_background": "light"
     },
     "output_type": "display_data"
    }
   ],
   "source": [
    "def density_plot(data): \n",
    "    density = gaussian_kde(data)\n",
    "    xs = np.linspace(np.min(data),np.max(data),200)\n",
    "    density.covariance_factor = lambda : .25\n",
    "    density._compute_covariance()\n",
    "    plt.plot(xs,density(xs))\n",
    "    plt.xlabel('Daily Returns')\n",
    "    plt.ylabel('Density')\n",
    "    plt.show()\n",
    "    \n",
    "test = frames['20040108']\n",
    "test['DlyReturn'] = wins(test['DlyReturn'],-0.1,0.1)\n",
    "density_plot(test['DlyReturn'])"
   ]
  },
  {
   "cell_type": "markdown",
   "metadata": {},
   "source": [
    "## Factor Exposures and Factor Returns\n",
    "\n",
    "Recall that:\n",
    "\n",
    "$r_{i,t} = \\sum_{j=1}^{k} (\\beta_{i,j,t-2} \\times f_{j,t})$  \n",
    "where $i=1...N$ (N assets),   \n",
    "and $j=1...k$ (k factors).\n",
    "\n",
    "where $r_{i,t}$ is the return, $\\beta_{i,j,t-2}$ is the factor exposure, and $f_{j,t}$ is the factor return. Since we get the factor exposures from the Barra data, and we know the returns, it is possible to estimate the factor returns. In this notebook, we will use the Ordinary Least Squares (OLS) method to estimate the factor exposures, $f_{j,t}$, by using $\\beta_{i,j,t-2}$ as the independent variable, and $r_{i,t}$ as the dependent variable."
   ]
  },
  {
   "cell_type": "code",
   "execution_count": 17,
   "metadata": {},
   "outputs": [],
   "source": [
    "def get_formula(factors, Y):\n",
    "    L = [\"0\"]\n",
    "    L.extend(factors)\n",
    "    return Y + \" ~ \" + \" + \".join(L)\n",
    "\n",
    "def factors_from_names(n):\n",
    "    return list(filter(lambda x: \"USFASTD_\" in x, n))\n",
    "\n",
    "def estimate_factor_returns(df): \n",
    "    ## build universe based on filters \n",
    "    estu = df.loc[df.IssuerMarketCap > 1e9].copy(deep=True)\n",
    "  \n",
    "    ## winsorize returns for fitting \n",
    "    estu['DlyReturn'] = wins(estu['DlyReturn'], -0.25, 0.25)\n",
    "  \n",
    "    all_factors = factors_from_names(list(df))\n",
    "    form = get_formula(all_factors, \"DlyReturn\")\n",
    "    model = ols(form, data=estu)\n",
    "    results = model.fit()\n",
    "    return results"
   ]
  },
  {
   "cell_type": "code",
   "execution_count": 18,
   "metadata": {},
   "outputs": [],
   "source": [
    "facret = {}\n",
    "\n",
    "for date in frames:\n",
    "    facret[date] = estimate_factor_returns(frames[date]).params"
   ]
  },
  {
   "cell_type": "code",
   "execution_count": 19,
   "metadata": {},
   "outputs": [
    {
     "data": {
      "text/plain": [
       "USFASTD_1DREVRSL    0.002149\n",
       "USFASTD_AERODEF    -0.005674\n",
       "USFASTD_AIRLINES    0.024307\n",
       "USFASTD_ALUMSTEL   -0.014083\n",
       "USFASTD_APPAREL     0.020012\n",
       "USFASTD_AUTO       -0.008794\n",
       "USFASTD_BANKS       0.003202\n",
       "USFASTD_BETA        0.000190\n",
       "USFASTD_BEVTOB      0.007957\n",
       "USFASTD_BIOLIFE    -0.000997\n",
       "USFASTD_BLDGPROD   -0.008233\n",
       "USFASTD_CHEM       -0.010823\n",
       "USFASTD_CNSTENG     0.010757\n",
       "USFASTD_CNSTMACH   -0.005609\n",
       "USFASTD_CNSTMATL    0.007889\n",
       "USFASTD_COMMEQP     0.013832\n",
       "USFASTD_COMPELEC    0.005842\n",
       "USFASTD_COMSVCS     0.004218\n",
       "USFASTD_CONGLOM    -0.005888\n",
       "USFASTD_CONTAINR    0.009584\n",
       "USFASTD_DISTRIB     0.021059\n",
       "USFASTD_DIVFIN      0.005279\n",
       "USFASTD_DIVYILD    -0.000673\n",
       "USFASTD_DWNRISK     0.000628\n",
       "USFASTD_EARNQLTY   -0.000016\n",
       "USFASTD_EARNYILD    0.000642\n",
       "USFASTD_ELECEQP    -0.006211\n",
       "USFASTD_ELECUTIL   -0.001521\n",
       "USFASTD_FOODPROD    0.001521\n",
       "USFASTD_FOODRET     0.005754\n",
       "                      ...   \n",
       "USFASTD_MULTUTIL   -0.010404\n",
       "USFASTD_OILGSCON   -0.000756\n",
       "USFASTD_OILGSDRL   -0.001847\n",
       "USFASTD_OILGSEQP    0.002559\n",
       "USFASTD_OILGSEXP   -0.003381\n",
       "USFASTD_PAPER      -0.009523\n",
       "USFASTD_PHARMA     -0.004535\n",
       "USFASTD_PRECMTLS   -0.010080\n",
       "USFASTD_PROFIT      0.000267\n",
       "USFASTD_PROSPECT   -0.000849\n",
       "USFASTD_PSNLPROD   -0.009975\n",
       "USFASTD_REALEST     0.001814\n",
       "USFASTD_RESTAUR     0.011882\n",
       "USFASTD_RESVOL      0.000828\n",
       "USFASTD_ROADRAIL   -0.005077\n",
       "USFASTD_SEASON      0.000863\n",
       "USFASTD_SEMICOND    0.008728\n",
       "USFASTD_SEMIEQP     0.003404\n",
       "USFASTD_SENTMT      0.000851\n",
       "USFASTD_SIZE        0.000140\n",
       "USFASTD_SOFTWARE    0.011677\n",
       "USFASTD_SPLTYRET    0.000491\n",
       "USFASTD_SPTYCHEM   -0.004643\n",
       "USFASTD_SPTYSTOR    0.006050\n",
       "USFASTD_STREVRSL    0.002620\n",
       "USFASTD_TELECOM     0.003482\n",
       "USFASTD_TRADECO     0.002727\n",
       "USFASTD_TRANSPRT   -0.004324\n",
       "USFASTD_VALUE      -0.000988\n",
       "USFASTD_WIRELESS    0.008371\n",
       "Length: 81, dtype: float64"
      ]
     },
     "execution_count": 19,
     "metadata": {},
     "output_type": "execute_result"
    }
   ],
   "source": [
    "facret['20040106']"
   ]
  },
  {
   "cell_type": "code",
   "execution_count": 20,
   "metadata": {},
   "outputs": [],
   "source": [
    "my_dates = sorted(list(map(lambda date: pd.to_datetime(date, format='%Y%m%d'), frames.keys())))"
   ]
  },
  {
   "cell_type": "code",
   "execution_count": 21,
   "metadata": {},
   "outputs": [
    {
     "data": {
      "text/plain": [
       "252"
      ]
     },
     "execution_count": 21,
     "metadata": {},
     "output_type": "execute_result"
    }
   ],
   "source": [
    "len(my_dates)"
   ]
  },
  {
   "cell_type": "code",
   "execution_count": 22,
   "metadata": {},
   "outputs": [
    {
     "data": {
      "text/plain": [
       "Timestamp('2004-01-06 00:00:00')"
      ]
     },
     "execution_count": 22,
     "metadata": {},
     "output_type": "execute_result"
    }
   ],
   "source": [
    "my_dates[0]"
   ]
  },
  {
   "cell_type": "code",
   "execution_count": 23,
   "metadata": {},
   "outputs": [
    {
     "data": {
      "text/plain": [
       "Timestamp('2005-01-04 00:00:00')"
      ]
     },
     "execution_count": 23,
     "metadata": {},
     "output_type": "execute_result"
    }
   ],
   "source": [
    "my_dates[-1]"
   ]
  },
  {
   "cell_type": "markdown",
   "metadata": {},
   "source": [
    "## Choose Alpha Factors\n",
    "\n",
    "We will now choose our alpha factors. Barra's factors include some alpha factors that we have seen before, such as:\n",
    "\n",
    "* **USFASTD_1DREVRSL** : Reversal\n",
    "\n",
    "* **USFASTD_EARNYILD** : Earnings Yield\n",
    "\n",
    "* **USFASTD_VALUE** : Value\n",
    "\n",
    "* **USFASTD_SENTMT** : Sentiment\n",
    "\n",
    "We will choose these alpha factors for now, but you are encouraged to come back to this later and try other factors as well."
   ]
  },
  {
   "cell_type": "code",
   "execution_count": 24,
   "metadata": {},
   "outputs": [
    {
     "name": "stderr",
     "output_type": "stream",
     "text": [
      "/anaconda3/envs/ai4trading-section2/lib/python3.6/site-packages/pandas/plotting/_converter.py:129: FutureWarning: Using an implicitly registered datetime converter for a matplotlib plotting method. The converter was registered by pandas on import. Future versions of pandas will require you to explicitly register matplotlib converters.\n",
      "\n",
      "To register the converters:\n",
      "\t>>> from pandas.plotting import register_matplotlib_converters\n",
      "\t>>> register_matplotlib_converters()\n",
      "  warnings.warn(msg, FutureWarning)\n"
     ]
    },
    {
     "data": {
      "image/png": "[encoded data removed]",
      "text/plain": [
       "<matplotlib.figure.Figure at 0x2445009b0>"
      ]
     },
     "metadata": {
      "needs_background": "light"
     },
     "output_type": "display_data"
    }
   ],
   "source": [
    "alpha_factors = [\"USFASTD_1DREVRSL\", \"USFASTD_EARNYILD\", \"USFASTD_VALUE\", \"USFASTD_SENTMT\"]\n",
    "\n",
    "facret_df = pd.DataFrame(index = my_dates)\n",
    "\n",
    "for dt in my_dates: \n",
    "    for alp in alpha_factors: \n",
    "        facret_df.at[dt, alp] = facret[dt.strftime('%Y%m%d')][alp]\n",
    "\n",
    "for column in facret_df.columns:\n",
    "        plt.plot(facret_df[column].cumsum(), label=column)\n",
    "plt.legend(loc='upper left')\n",
    "plt.xlabel('Date')\n",
    "plt.ylabel('Cumulative Factor Returns')\n",
    "plt.show()"
   ]
  },
  {
   "cell_type": "code",
   "execution_count": 25,
   "metadata": {},
   "outputs": [
    {
     "data": {
      "text/html": [
       "<div>\n",
       "<style scoped>\n",
       "    .dataframe tbody tr th:only-of-type {\n",
       "        vertical-align: middle;\n",
       "    }\n",
       "\n",
       "    .dataframe tbody tr th {\n",
       "        vertical-align: top;\n",
       "    }\n",
       "\n",
       "    .dataframe thead th {\n",
       "        text-align: right;\n",
       "    }\n",
       "</style>\n",
       "<table border=\"1\" class=\"dataframe\">\n",
       "  <thead>\n",
       "    <tr style=\"text-align: right;\">\n",
       "      <th></th>\n",
       "      <th>USFASTD_1DREVRSL</th>\n",
       "      <th>USFASTD_EARNYILD</th>\n",
       "      <th>USFASTD_VALUE</th>\n",
       "      <th>USFASTD_SENTMT</th>\n",
       "    </tr>\n",
       "  </thead>\n",
       "  <tbody>\n",
       "    <tr>\n",
       "      <th>2004-01-06</th>\n",
       "      <td>0.002149</td>\n",
       "      <td>0.000642</td>\n",
       "      <td>-0.000988</td>\n",
       "      <td>0.000851</td>\n",
       "    </tr>\n",
       "    <tr>\n",
       "      <th>2004-01-07</th>\n",
       "      <td>0.000360</td>\n",
       "      <td>-0.000856</td>\n",
       "      <td>-0.000118</td>\n",
       "      <td>0.001045</td>\n",
       "    </tr>\n",
       "    <tr>\n",
       "      <th>2004-01-08</th>\n",
       "      <td>0.000409</td>\n",
       "      <td>-0.002039</td>\n",
       "      <td>0.000769</td>\n",
       "      <td>0.002247</td>\n",
       "    </tr>\n",
       "    <tr>\n",
       "      <th>2004-01-09</th>\n",
       "      <td>0.000093</td>\n",
       "      <td>0.001255</td>\n",
       "      <td>0.000170</td>\n",
       "      <td>0.000545</td>\n",
       "    </tr>\n",
       "    <tr>\n",
       "      <th>2004-01-12</th>\n",
       "      <td>0.000029</td>\n",
       "      <td>0.001092</td>\n",
       "      <td>0.000335</td>\n",
       "      <td>0.001151</td>\n",
       "    </tr>\n",
       "  </tbody>\n",
       "</table>\n",
       "</div>"
      ],
      "text/plain": [
       "            USFASTD_1DREVRSL  USFASTD_EARNYILD  USFASTD_VALUE  USFASTD_SENTMT\n",
       "2004-01-06          0.002149          0.000642      -0.000988        0.000851\n",
       "2004-01-07          0.000360         -0.000856      -0.000118        0.001045\n",
       "2004-01-08          0.000409         -0.002039       0.000769        0.002247\n",
       "2004-01-09          0.000093          0.001255       0.000170        0.000545\n",
       "2004-01-12          0.000029          0.001092       0.000335        0.001151"
      ]
     },
     "execution_count": 25,
     "metadata": {},
     "output_type": "execute_result"
    }
   ],
   "source": [
    "facret_df.head()"
   ]
  },
  {
   "cell_type": "markdown",
   "metadata": {},
   "source": [
    "## Merge Previous Portfolio Holdings \n",
    "\n",
    "In order to optimize our portfolio we will use the previous day's holdings to estimate the trade size and transaction costs. In order to keep track of the holdings from the previous day we will include a column to hold the portfolio holdings of the previous day. These holdings of all our assets will be initialized to zero when the backtest first starts."
   ]
  },
  {
   "cell_type": "code",
   "execution_count": 26,
   "metadata": {},
   "outputs": [],
   "source": [
    "def clean_nas(df): \n",
    "    numeric_columns = df.select_dtypes(include=[np.number]).columns.tolist()\n",
    "    \n",
    "    for numeric_column in numeric_columns: \n",
    "        df[numeric_column] = np.nan_to_num(df[numeric_column])\n",
    "    \n",
    "    return df"
   ]
  },
  {
   "cell_type": "code",
   "execution_count": 27,
   "metadata": {},
   "outputs": [],
   "source": [
    "previous_holdings = pd.DataFrame(data = {\"Barrid\" : [\"USA02P1\"], \"h.opt.previous\" : np.array(0)})\n",
    "df = frames[my_dates[0].strftime('%Y%m%d')]\n",
    "\n",
    "df = df.merge(previous_holdings, how = 'left', on = 'Barrid')\n",
    "df = clean_nas(df)\n",
    "df.loc[df['SpecRisk'] == 0]['SpecRisk'] = median(df['SpecRisk'])"
   ]
  },
  {
   "cell_type": "code",
   "execution_count": 28,
   "metadata": {},
   "outputs": [
    {
     "data": {
      "text/html": [
       "<div>\n",
       "<style scoped>\n",
       "    .dataframe tbody tr th:only-of-type {\n",
       "        vertical-align: middle;\n",
       "    }\n",
       "\n",
       "    .dataframe tbody tr th {\n",
       "        vertical-align: top;\n",
       "    }\n",
       "\n",
       "    .dataframe thead th {\n",
       "        text-align: right;\n",
       "    }\n",
       "</style>\n",
       "<table border=\"1\" class=\"dataframe\">\n",
       "  <thead>\n",
       "    <tr style=\"text-align: right;\">\n",
       "      <th></th>\n",
       "      <th>Barrid</th>\n",
       "      <th>h.opt.previous</th>\n",
       "    </tr>\n",
       "  </thead>\n",
       "  <tbody>\n",
       "    <tr>\n",
       "      <th>0</th>\n",
       "      <td>USA02P1</td>\n",
       "      <td>0</td>\n",
       "    </tr>\n",
       "  </tbody>\n",
       "</table>\n",
       "</div>"
      ],
      "text/plain": [
       "    Barrid  h.opt.previous\n",
       "0  USA02P1               0"
      ]
     },
     "execution_count": 28,
     "metadata": {},
     "output_type": "execute_result"
    }
   ],
   "source": [
    "previous_holdings"
   ]
  },
  {
   "cell_type": "code",
   "execution_count": 29,
   "metadata": {},
   "outputs": [
    {
     "data": {
      "text/html": [
       "<div>\n",
       "<style scoped>\n",
       "    .dataframe tbody tr th:only-of-type {\n",
       "        vertical-align: middle;\n",
       "    }\n",
       "\n",
       "    .dataframe tbody tr th {\n",
       "        vertical-align: top;\n",
       "    }\n",
       "\n",
       "    .dataframe thead th {\n",
       "        text-align: right;\n",
       "    }\n",
       "</style>\n",
       "<table border=\"1\" class=\"dataframe\">\n",
       "  <thead>\n",
       "    <tr style=\"text-align: right;\">\n",
       "      <th></th>\n",
       "      <th>Barrid</th>\n",
       "      <th>USFASTD_1DREVRSL</th>\n",
       "      <th>USFASTD_AERODEF</th>\n",
       "      <th>USFASTD_AIRLINES</th>\n",
       "      <th>USFASTD_ALUMSTEL</th>\n",
       "      <th>USFASTD_APPAREL</th>\n",
       "      <th>USFASTD_AUTO</th>\n",
       "      <th>USFASTD_BANKS</th>\n",
       "      <th>USFASTD_BETA</th>\n",
       "      <th>USFASTD_BEVTOB</th>\n",
       "      <th>...</th>\n",
       "      <th>IssuerMarketCap</th>\n",
       "      <th>Yield</th>\n",
       "      <th>TotalRisk</th>\n",
       "      <th>SpecRisk</th>\n",
       "      <th>HistBeta</th>\n",
       "      <th>PredBeta</th>\n",
       "      <th>DataDate</th>\n",
       "      <th>DlyReturn</th>\n",
       "      <th>DlyReturnDate</th>\n",
       "      <th>h.opt.previous</th>\n",
       "    </tr>\n",
       "  </thead>\n",
       "  <tbody>\n",
       "    <tr>\n",
       "      <th>0</th>\n",
       "      <td>USA0001</td>\n",
       "      <td>-0.032</td>\n",
       "      <td>0.000</td>\n",
       "      <td>0.0</td>\n",
       "      <td>0.0</td>\n",
       "      <td>0.0</td>\n",
       "      <td>0.0</td>\n",
       "      <td>0.0</td>\n",
       "      <td>-2.177</td>\n",
       "      <td>0.0</td>\n",
       "      <td>...</td>\n",
       "      <td>5.392988e+10</td>\n",
       "      <td>0.188679</td>\n",
       "      <td>13.959397</td>\n",
       "      <td>9.014505</td>\n",
       "      <td>-0.000189</td>\n",
       "      <td>0.156387</td>\n",
       "      <td>20040102</td>\n",
       "      <td>0.0</td>\n",
       "      <td>20040106</td>\n",
       "      <td>0.0</td>\n",
       "    </tr>\n",
       "    <tr>\n",
       "      <th>1</th>\n",
       "      <td>USA0011</td>\n",
       "      <td>-0.059</td>\n",
       "      <td>0.000</td>\n",
       "      <td>0.0</td>\n",
       "      <td>0.0</td>\n",
       "      <td>0.0</td>\n",
       "      <td>0.0</td>\n",
       "      <td>0.0</td>\n",
       "      <td>-2.176</td>\n",
       "      <td>0.0</td>\n",
       "      <td>...</td>\n",
       "      <td>5.874999e+09</td>\n",
       "      <td>0.000000</td>\n",
       "      <td>17.033359</td>\n",
       "      <td>11.726327</td>\n",
       "      <td>0.000013</td>\n",
       "      <td>0.147900</td>\n",
       "      <td>20040102</td>\n",
       "      <td>0.0</td>\n",
       "      <td>20040106</td>\n",
       "      <td>0.0</td>\n",
       "    </tr>\n",
       "    <tr>\n",
       "      <th>2</th>\n",
       "      <td>USA0031</td>\n",
       "      <td>0.457</td>\n",
       "      <td>0.000</td>\n",
       "      <td>0.0</td>\n",
       "      <td>0.0</td>\n",
       "      <td>0.0</td>\n",
       "      <td>0.0</td>\n",
       "      <td>0.0</td>\n",
       "      <td>-2.061</td>\n",
       "      <td>0.0</td>\n",
       "      <td>...</td>\n",
       "      <td>7.304963e+10</td>\n",
       "      <td>2.103004</td>\n",
       "      <td>21.738218</td>\n",
       "      <td>18.047415</td>\n",
       "      <td>0.053033</td>\n",
       "      <td>0.216422</td>\n",
       "      <td>20040102</td>\n",
       "      <td>0.0</td>\n",
       "      <td>20040106</td>\n",
       "      <td>0.0</td>\n",
       "    </tr>\n",
       "    <tr>\n",
       "      <th>3</th>\n",
       "      <td>USA0062</td>\n",
       "      <td>-0.128</td>\n",
       "      <td>0.431</td>\n",
       "      <td>0.0</td>\n",
       "      <td>0.0</td>\n",
       "      <td>0.0</td>\n",
       "      <td>0.0</td>\n",
       "      <td>0.0</td>\n",
       "      <td>-2.003</td>\n",
       "      <td>0.0</td>\n",
       "      <td>...</td>\n",
       "      <td>2.866562e+10</td>\n",
       "      <td>2.243494</td>\n",
       "      <td>23.129496</td>\n",
       "      <td>20.830128</td>\n",
       "      <td>0.079755</td>\n",
       "      <td>0.355564</td>\n",
       "      <td>20040102</td>\n",
       "      <td>0.0</td>\n",
       "      <td>20040106</td>\n",
       "      <td>0.0</td>\n",
       "    </tr>\n",
       "    <tr>\n",
       "      <th>4</th>\n",
       "      <td>USA00E2</td>\n",
       "      <td>0.374</td>\n",
       "      <td>0.000</td>\n",
       "      <td>0.0</td>\n",
       "      <td>0.0</td>\n",
       "      <td>0.0</td>\n",
       "      <td>0.0</td>\n",
       "      <td>0.0</td>\n",
       "      <td>-1.967</td>\n",
       "      <td>0.0</td>\n",
       "      <td>...</td>\n",
       "      <td>5.720420e+10</td>\n",
       "      <td>2.167256</td>\n",
       "      <td>25.391653</td>\n",
       "      <td>21.458171</td>\n",
       "      <td>0.096238</td>\n",
       "      <td>0.412602</td>\n",
       "      <td>20040102</td>\n",
       "      <td>0.0</td>\n",
       "      <td>20040106</td>\n",
       "      <td>0.0</td>\n",
       "    </tr>\n",
       "  </tbody>\n",
       "</table>\n",
       "<p>5 rows × 95 columns</p>\n",
       "</div>"
      ],
      "text/plain": [
       "    Barrid  USFASTD_1DREVRSL  USFASTD_AERODEF  USFASTD_AIRLINES  \\\n",
       "0  USA0001            -0.032            0.000               0.0   \n",
       "1  USA0011            -0.059            0.000               0.0   \n",
       "2  USA0031             0.457            0.000               0.0   \n",
       "3  USA0062            -0.128            0.431               0.0   \n",
       "4  USA00E2             0.374            0.000               0.0   \n",
       "\n",
       "   USFASTD_ALUMSTEL  USFASTD_APPAREL  USFASTD_AUTO  USFASTD_BANKS  \\\n",
       "0               0.0              0.0           0.0            0.0   \n",
       "1               0.0              0.0           0.0            0.0   \n",
       "2               0.0              0.0           0.0            0.0   \n",
       "3               0.0              0.0           0.0            0.0   \n",
       "4               0.0              0.0           0.0            0.0   \n",
       "\n",
       "   USFASTD_BETA  USFASTD_BEVTOB  ...  IssuerMarketCap     Yield  TotalRisk  \\\n",
       "0        -2.177             0.0  ...     5.392988e+10  0.188679  13.959397   \n",
       "1        -2.176             0.0  ...     5.874999e+09  0.000000  17.033359   \n",
       "2        -2.061             0.0  ...     7.304963e+10  2.103004  21.738218   \n",
       "3        -2.003             0.0  ...     2.866562e+10  2.243494  23.129496   \n",
       "4        -1.967             0.0  ...     5.720420e+10  2.167256  25.391653   \n",
       "\n",
       "    SpecRisk  HistBeta  PredBeta  DataDate  DlyReturn  DlyReturnDate  \\\n",
       "0   9.014505 -0.000189  0.156387  20040102        0.0       20040106   \n",
       "1  11.726327  0.000013  0.147900  20040102        0.0       20040106   \n",
       "2  18.047415  0.053033  0.216422  20040102        0.0       20040106   \n",
       "3  20.830128  0.079755  0.355564  20040102        0.0       20040106   \n",
       "4  21.458171  0.096238  0.412602  20040102        0.0       20040106   \n",
       "\n",
       "   h.opt.previous  \n",
       "0             0.0  \n",
       "1             0.0  \n",
       "2             0.0  \n",
       "3             0.0  \n",
       "4             0.0  \n",
       "\n",
       "[5 rows x 95 columns]"
      ]
     },
     "execution_count": 29,
     "metadata": {},
     "output_type": "execute_result"
    }
   ],
   "source": [
    "df.head()"
   ]
  },
  {
   "cell_type": "code",
   "execution_count": 30,
   "metadata": {},
   "outputs": [],
   "source": [
    "df['h.opt.previous2'] = [0.0]*df.shape[0]"
   ]
  },
  {
   "cell_type": "code",
   "execution_count": 31,
   "metadata": {},
   "outputs": [
    {
     "data": {
      "text/html": [
       "<div>\n",
       "<style scoped>\n",
       "    .dataframe tbody tr th:only-of-type {\n",
       "        vertical-align: middle;\n",
       "    }\n",
       "\n",
       "    .dataframe tbody tr th {\n",
       "        vertical-align: top;\n",
       "    }\n",
       "\n",
       "    .dataframe thead th {\n",
       "        text-align: right;\n",
       "    }\n",
       "</style>\n",
       "<table border=\"1\" class=\"dataframe\">\n",
       "  <thead>\n",
       "    <tr style=\"text-align: right;\">\n",
       "      <th></th>\n",
       "      <th>Barrid</th>\n",
       "      <th>USFASTD_1DREVRSL</th>\n",
       "      <th>USFASTD_AERODEF</th>\n",
       "      <th>USFASTD_AIRLINES</th>\n",
       "      <th>USFASTD_ALUMSTEL</th>\n",
       "      <th>USFASTD_APPAREL</th>\n",
       "      <th>USFASTD_AUTO</th>\n",
       "      <th>USFASTD_BANKS</th>\n",
       "      <th>USFASTD_BETA</th>\n",
       "      <th>USFASTD_BEVTOB</th>\n",
       "      <th>...</th>\n",
       "      <th>Yield</th>\n",
       "      <th>TotalRisk</th>\n",
       "      <th>SpecRisk</th>\n",
       "      <th>HistBeta</th>\n",
       "      <th>PredBeta</th>\n",
       "      <th>DataDate</th>\n",
       "      <th>DlyReturn</th>\n",
       "      <th>DlyReturnDate</th>\n",
       "      <th>h.opt.previous</th>\n",
       "      <th>h.opt.previous2</th>\n",
       "    </tr>\n",
       "  </thead>\n",
       "  <tbody>\n",
       "    <tr>\n",
       "      <th>0</th>\n",
       "      <td>USA0001</td>\n",
       "      <td>-0.032</td>\n",
       "      <td>0.000</td>\n",
       "      <td>0.0</td>\n",
       "      <td>0.0</td>\n",
       "      <td>0.0</td>\n",
       "      <td>0.0</td>\n",
       "      <td>0.0</td>\n",
       "      <td>-2.177</td>\n",
       "      <td>0.0</td>\n",
       "      <td>...</td>\n",
       "      <td>0.188679</td>\n",
       "      <td>13.959397</td>\n",
       "      <td>9.014505</td>\n",
       "      <td>-0.000189</td>\n",
       "      <td>0.156387</td>\n",
       "      <td>20040102</td>\n",
       "      <td>0.0</td>\n",
       "      <td>20040106</td>\n",
       "      <td>0.0</td>\n",
       "      <td>0.0</td>\n",
       "    </tr>\n",
       "    <tr>\n",
       "      <th>1</th>\n",
       "      <td>USA0011</td>\n",
       "      <td>-0.059</td>\n",
       "      <td>0.000</td>\n",
       "      <td>0.0</td>\n",
       "      <td>0.0</td>\n",
       "      <td>0.0</td>\n",
       "      <td>0.0</td>\n",
       "      <td>0.0</td>\n",
       "      <td>-2.176</td>\n",
       "      <td>0.0</td>\n",
       "      <td>...</td>\n",
       "      <td>0.000000</td>\n",
       "      <td>17.033359</td>\n",
       "      <td>11.726327</td>\n",
       "      <td>0.000013</td>\n",
       "      <td>0.147900</td>\n",
       "      <td>20040102</td>\n",
       "      <td>0.0</td>\n",
       "      <td>20040106</td>\n",
       "      <td>0.0</td>\n",
       "      <td>0.0</td>\n",
       "    </tr>\n",
       "    <tr>\n",
       "      <th>2</th>\n",
       "      <td>USA0031</td>\n",
       "      <td>0.457</td>\n",
       "      <td>0.000</td>\n",
       "      <td>0.0</td>\n",
       "      <td>0.0</td>\n",
       "      <td>0.0</td>\n",
       "      <td>0.0</td>\n",
       "      <td>0.0</td>\n",
       "      <td>-2.061</td>\n",
       "      <td>0.0</td>\n",
       "      <td>...</td>\n",
       "      <td>2.103004</td>\n",
       "      <td>21.738218</td>\n",
       "      <td>18.047415</td>\n",
       "      <td>0.053033</td>\n",
       "      <td>0.216422</td>\n",
       "      <td>20040102</td>\n",
       "      <td>0.0</td>\n",
       "      <td>20040106</td>\n",
       "      <td>0.0</td>\n",
       "      <td>0.0</td>\n",
       "    </tr>\n",
       "    <tr>\n",
       "      <th>3</th>\n",
       "      <td>USA0062</td>\n",
       "      <td>-0.128</td>\n",
       "      <td>0.431</td>\n",
       "      <td>0.0</td>\n",
       "      <td>0.0</td>\n",
       "      <td>0.0</td>\n",
       "      <td>0.0</td>\n",
       "      <td>0.0</td>\n",
       "      <td>-2.003</td>\n",
       "      <td>0.0</td>\n",
       "      <td>...</td>\n",
       "      <td>2.243494</td>\n",
       "      <td>23.129496</td>\n",
       "      <td>20.830128</td>\n",
       "      <td>0.079755</td>\n",
       "      <td>0.355564</td>\n",
       "      <td>20040102</td>\n",
       "      <td>0.0</td>\n",
       "      <td>20040106</td>\n",
       "      <td>0.0</td>\n",
       "      <td>0.0</td>\n",
       "    </tr>\n",
       "    <tr>\n",
       "      <th>4</th>\n",
       "      <td>USA00E2</td>\n",
       "      <td>0.374</td>\n",
       "      <td>0.000</td>\n",
       "      <td>0.0</td>\n",
       "      <td>0.0</td>\n",
       "      <td>0.0</td>\n",
       "      <td>0.0</td>\n",
       "      <td>0.0</td>\n",
       "      <td>-1.967</td>\n",
       "      <td>0.0</td>\n",
       "      <td>...</td>\n",
       "      <td>2.167256</td>\n",
       "      <td>25.391653</td>\n",
       "      <td>21.458171</td>\n",
       "      <td>0.096238</td>\n",
       "      <td>0.412602</td>\n",
       "      <td>20040102</td>\n",
       "      <td>0.0</td>\n",
       "      <td>20040106</td>\n",
       "      <td>0.0</td>\n",
       "      <td>0.0</td>\n",
       "    </tr>\n",
       "  </tbody>\n",
       "</table>\n",
       "<p>5 rows × 96 columns</p>\n",
       "</div>"
      ],
      "text/plain": [
       "    Barrid  USFASTD_1DREVRSL  USFASTD_AERODEF  USFASTD_AIRLINES  \\\n",
       "0  USA0001            -0.032            0.000               0.0   \n",
       "1  USA0011            -0.059            0.000               0.0   \n",
       "2  USA0031             0.457            0.000               0.0   \n",
       "3  USA0062            -0.128            0.431               0.0   \n",
       "4  USA00E2             0.374            0.000               0.0   \n",
       "\n",
       "   USFASTD_ALUMSTEL  USFASTD_APPAREL  USFASTD_AUTO  USFASTD_BANKS  \\\n",
       "0               0.0              0.0           0.0            0.0   \n",
       "1               0.0              0.0           0.0            0.0   \n",
       "2               0.0              0.0           0.0            0.0   \n",
       "3               0.0              0.0           0.0            0.0   \n",
       "4               0.0              0.0           0.0            0.0   \n",
       "\n",
       "   USFASTD_BETA  USFASTD_BEVTOB  ...     Yield  TotalRisk   SpecRisk  \\\n",
       "0        -2.177             0.0  ...  0.188679  13.959397   9.014505   \n",
       "1        -2.176             0.0  ...  0.000000  17.033359  11.726327   \n",
       "2        -2.061             0.0  ...  2.103004  21.738218  18.047415   \n",
       "3        -2.003             0.0  ...  2.243494  23.129496  20.830128   \n",
       "4        -1.967             0.0  ...  2.167256  25.391653  21.458171   \n",
       "\n",
       "   HistBeta  PredBeta  DataDate  DlyReturn  DlyReturnDate  h.opt.previous  \\\n",
       "0 -0.000189  0.156387  20040102        0.0       20040106             0.0   \n",
       "1  0.000013  0.147900  20040102        0.0       20040106             0.0   \n",
       "2  0.053033  0.216422  20040102        0.0       20040106             0.0   \n",
       "3  0.079755  0.355564  20040102        0.0       20040106             0.0   \n",
       "4  0.096238  0.412602  20040102        0.0       20040106             0.0   \n",
       "\n",
       "   h.opt.previous2  \n",
       "0              0.0  \n",
       "1              0.0  \n",
       "2              0.0  \n",
       "3              0.0  \n",
       "4              0.0  \n",
       "\n",
       "[5 rows x 96 columns]"
      ]
     },
     "execution_count": 31,
     "metadata": {},
     "output_type": "execute_result"
    }
   ],
   "source": [
    "df.head()"
   ]
  },
  {
   "cell_type": "code",
   "execution_count": 32,
   "metadata": {},
   "outputs": [
    {
     "data": {
      "text/html": [
       "<div>\n",
       "<style scoped>\n",
       "    .dataframe tbody tr th:only-of-type {\n",
       "        vertical-align: middle;\n",
       "    }\n",
       "\n",
       "    .dataframe tbody tr th {\n",
       "        vertical-align: top;\n",
       "    }\n",
       "\n",
       "    .dataframe thead th {\n",
       "        text-align: right;\n",
       "    }\n",
       "</style>\n",
       "<table border=\"1\" class=\"dataframe\">\n",
       "  <thead>\n",
       "    <tr style=\"text-align: right;\">\n",
       "      <th></th>\n",
       "      <th>Barrid</th>\n",
       "      <th>USFASTD_1DREVRSL</th>\n",
       "      <th>USFASTD_AERODEF</th>\n",
       "      <th>USFASTD_AIRLINES</th>\n",
       "      <th>USFASTD_ALUMSTEL</th>\n",
       "      <th>USFASTD_APPAREL</th>\n",
       "      <th>USFASTD_AUTO</th>\n",
       "      <th>USFASTD_BANKS</th>\n",
       "      <th>USFASTD_BETA</th>\n",
       "      <th>USFASTD_BEVTOB</th>\n",
       "      <th>...</th>\n",
       "      <th>Yield</th>\n",
       "      <th>TotalRisk</th>\n",
       "      <th>SpecRisk</th>\n",
       "      <th>HistBeta</th>\n",
       "      <th>PredBeta</th>\n",
       "      <th>DataDate</th>\n",
       "      <th>DlyReturn</th>\n",
       "      <th>DlyReturnDate</th>\n",
       "      <th>h.opt.previous</th>\n",
       "      <th>h.opt.previous2</th>\n",
       "    </tr>\n",
       "  </thead>\n",
       "  <tbody>\n",
       "    <tr>\n",
       "      <th>0</th>\n",
       "      <td>USA0001</td>\n",
       "      <td>-0.032</td>\n",
       "      <td>0.000</td>\n",
       "      <td>0.0</td>\n",
       "      <td>0.0</td>\n",
       "      <td>0.0</td>\n",
       "      <td>0.0</td>\n",
       "      <td>0.0</td>\n",
       "      <td>-2.177</td>\n",
       "      <td>0.0</td>\n",
       "      <td>...</td>\n",
       "      <td>0.188679</td>\n",
       "      <td>13.959397</td>\n",
       "      <td>9.014505</td>\n",
       "      <td>-0.000189</td>\n",
       "      <td>0.156387</td>\n",
       "      <td>20040102</td>\n",
       "      <td>0.0</td>\n",
       "      <td>20040106</td>\n",
       "      <td>0.0</td>\n",
       "      <td>0.0</td>\n",
       "    </tr>\n",
       "    <tr>\n",
       "      <th>1</th>\n",
       "      <td>USA0011</td>\n",
       "      <td>-0.059</td>\n",
       "      <td>0.000</td>\n",
       "      <td>0.0</td>\n",
       "      <td>0.0</td>\n",
       "      <td>0.0</td>\n",
       "      <td>0.0</td>\n",
       "      <td>0.0</td>\n",
       "      <td>-2.176</td>\n",
       "      <td>0.0</td>\n",
       "      <td>...</td>\n",
       "      <td>0.000000</td>\n",
       "      <td>17.033359</td>\n",
       "      <td>11.726327</td>\n",
       "      <td>0.000013</td>\n",
       "      <td>0.147900</td>\n",
       "      <td>20040102</td>\n",
       "      <td>0.0</td>\n",
       "      <td>20040106</td>\n",
       "      <td>0.0</td>\n",
       "      <td>0.0</td>\n",
       "    </tr>\n",
       "    <tr>\n",
       "      <th>2</th>\n",
       "      <td>USA0031</td>\n",
       "      <td>0.457</td>\n",
       "      <td>0.000</td>\n",
       "      <td>0.0</td>\n",
       "      <td>0.0</td>\n",
       "      <td>0.0</td>\n",
       "      <td>0.0</td>\n",
       "      <td>0.0</td>\n",
       "      <td>-2.061</td>\n",
       "      <td>0.0</td>\n",
       "      <td>...</td>\n",
       "      <td>2.103004</td>\n",
       "      <td>21.738218</td>\n",
       "      <td>18.047415</td>\n",
       "      <td>0.053033</td>\n",
       "      <td>0.216422</td>\n",
       "      <td>20040102</td>\n",
       "      <td>0.0</td>\n",
       "      <td>20040106</td>\n",
       "      <td>0.0</td>\n",
       "      <td>0.0</td>\n",
       "    </tr>\n",
       "    <tr>\n",
       "      <th>3</th>\n",
       "      <td>USA0062</td>\n",
       "      <td>-0.128</td>\n",
       "      <td>0.431</td>\n",
       "      <td>0.0</td>\n",
       "      <td>0.0</td>\n",
       "      <td>0.0</td>\n",
       "      <td>0.0</td>\n",
       "      <td>0.0</td>\n",
       "      <td>-2.003</td>\n",
       "      <td>0.0</td>\n",
       "      <td>...</td>\n",
       "      <td>2.243494</td>\n",
       "      <td>23.129496</td>\n",
       "      <td>20.830128</td>\n",
       "      <td>0.079755</td>\n",
       "      <td>0.355564</td>\n",
       "      <td>20040102</td>\n",
       "      <td>0.0</td>\n",
       "      <td>20040106</td>\n",
       "      <td>0.0</td>\n",
       "      <td>0.0</td>\n",
       "    </tr>\n",
       "    <tr>\n",
       "      <th>4</th>\n",
       "      <td>USA00E2</td>\n",
       "      <td>0.374</td>\n",
       "      <td>0.000</td>\n",
       "      <td>0.0</td>\n",
       "      <td>0.0</td>\n",
       "      <td>0.0</td>\n",
       "      <td>0.0</td>\n",
       "      <td>0.0</td>\n",
       "      <td>-1.967</td>\n",
       "      <td>0.0</td>\n",
       "      <td>...</td>\n",
       "      <td>2.167256</td>\n",
       "      <td>25.391653</td>\n",
       "      <td>21.458171</td>\n",
       "      <td>0.096238</td>\n",
       "      <td>0.412602</td>\n",
       "      <td>20040102</td>\n",
       "      <td>0.0</td>\n",
       "      <td>20040106</td>\n",
       "      <td>0.0</td>\n",
       "      <td>0.0</td>\n",
       "    </tr>\n",
       "  </tbody>\n",
       "</table>\n",
       "<p>5 rows × 96 columns</p>\n",
       "</div>"
      ],
      "text/plain": [
       "    Barrid  USFASTD_1DREVRSL  USFASTD_AERODEF  USFASTD_AIRLINES  \\\n",
       "0  USA0001            -0.032            0.000               0.0   \n",
       "1  USA0011            -0.059            0.000               0.0   \n",
       "2  USA0031             0.457            0.000               0.0   \n",
       "3  USA0062            -0.128            0.431               0.0   \n",
       "4  USA00E2             0.374            0.000               0.0   \n",
       "\n",
       "   USFASTD_ALUMSTEL  USFASTD_APPAREL  USFASTD_AUTO  USFASTD_BANKS  \\\n",
       "0               0.0              0.0           0.0            0.0   \n",
       "1               0.0              0.0           0.0            0.0   \n",
       "2               0.0              0.0           0.0            0.0   \n",
       "3               0.0              0.0           0.0            0.0   \n",
       "4               0.0              0.0           0.0            0.0   \n",
       "\n",
       "   USFASTD_BETA  USFASTD_BEVTOB  ...     Yield  TotalRisk   SpecRisk  \\\n",
       "0        -2.177             0.0  ...  0.188679  13.959397   9.014505   \n",
       "1        -2.176             0.0  ...  0.000000  17.033359  11.726327   \n",
       "2        -2.061             0.0  ...  2.103004  21.738218  18.047415   \n",
       "3        -2.003             0.0  ...  2.243494  23.129496  20.830128   \n",
       "4        -1.967             0.0  ...  2.167256  25.391653  21.458171   \n",
       "\n",
       "   HistBeta  PredBeta  DataDate  DlyReturn  DlyReturnDate  h.opt.previous  \\\n",
       "0 -0.000189  0.156387  20040102        0.0       20040106             0.0   \n",
       "1  0.000013  0.147900  20040102        0.0       20040106             0.0   \n",
       "2  0.053033  0.216422  20040102        0.0       20040106             0.0   \n",
       "3  0.079755  0.355564  20040102        0.0       20040106             0.0   \n",
       "4  0.096238  0.412602  20040102        0.0       20040106             0.0   \n",
       "\n",
       "   h.opt.previous2  \n",
       "0              0.0  \n",
       "1              0.0  \n",
       "2              0.0  \n",
       "3              0.0  \n",
       "4              0.0  \n",
       "\n",
       "[5 rows x 96 columns]"
      ]
     },
     "execution_count": 32,
     "metadata": {},
     "output_type": "execute_result"
    }
   ],
   "source": [
    "df.head()"
   ]
  },
  {
   "cell_type": "markdown",
   "metadata": {},
   "source": [
    "## Build Universe Based on Filters (TODO)\n",
    "\n",
    "In the cell below, implement the function `get_universe` that creates a stock universe by selecting only those companies that have a market capitalization of at least 1 billion dollars **OR** that are in the previous day's holdings, even if on the current day, the company no longer meets the 1 billion dollar criteria.\n",
    "\n",
    "When creating the universe, make sure you use the `.copy()` attribute to create a copy of the data. Also, it is very important to make sure that we are not looking at returns when forming the portfolio! to make this impossible, make sure to drop the column containing the daily return."
   ]
  },
  {
   "cell_type": "code",
   "execution_count": 33,
   "metadata": {},
   "outputs": [
    {
     "data": {
      "text/html": [
       "<div>\n",
       "<style scoped>\n",
       "    .dataframe tbody tr th:only-of-type {\n",
       "        vertical-align: middle;\n",
       "    }\n",
       "\n",
       "    .dataframe tbody tr th {\n",
       "        vertical-align: top;\n",
       "    }\n",
       "\n",
       "    .dataframe thead th {\n",
       "        text-align: right;\n",
       "    }\n",
       "</style>\n",
       "<table border=\"1\" class=\"dataframe\">\n",
       "  <thead>\n",
       "    <tr style=\"text-align: right;\">\n",
       "      <th></th>\n",
       "      <th>Barrid</th>\n",
       "      <th>USFASTD_1DREVRSL</th>\n",
       "      <th>USFASTD_AERODEF</th>\n",
       "      <th>USFASTD_AIRLINES</th>\n",
       "      <th>USFASTD_ALUMSTEL</th>\n",
       "      <th>USFASTD_APPAREL</th>\n",
       "      <th>USFASTD_AUTO</th>\n",
       "      <th>USFASTD_BANKS</th>\n",
       "      <th>USFASTD_BETA</th>\n",
       "      <th>USFASTD_BEVTOB</th>\n",
       "      <th>...</th>\n",
       "      <th>Yield</th>\n",
       "      <th>TotalRisk</th>\n",
       "      <th>SpecRisk</th>\n",
       "      <th>HistBeta</th>\n",
       "      <th>PredBeta</th>\n",
       "      <th>DataDate</th>\n",
       "      <th>DlyReturn</th>\n",
       "      <th>DlyReturnDate</th>\n",
       "      <th>h.opt.previous</th>\n",
       "      <th>h.opt.previous2</th>\n",
       "    </tr>\n",
       "  </thead>\n",
       "  <tbody>\n",
       "    <tr>\n",
       "      <th>0</th>\n",
       "      <td>USA0001</td>\n",
       "      <td>-0.032</td>\n",
       "      <td>0.000</td>\n",
       "      <td>0.0</td>\n",
       "      <td>0.0</td>\n",
       "      <td>0.0</td>\n",
       "      <td>0.0</td>\n",
       "      <td>0.0</td>\n",
       "      <td>-2.177</td>\n",
       "      <td>0.0</td>\n",
       "      <td>...</td>\n",
       "      <td>0.188679</td>\n",
       "      <td>13.959397</td>\n",
       "      <td>9.014505</td>\n",
       "      <td>-0.000189</td>\n",
       "      <td>0.156387</td>\n",
       "      <td>20040102</td>\n",
       "      <td>0.0</td>\n",
       "      <td>20040106</td>\n",
       "      <td>0.0</td>\n",
       "      <td>0.0</td>\n",
       "    </tr>\n",
       "    <tr>\n",
       "      <th>1</th>\n",
       "      <td>USA0011</td>\n",
       "      <td>-0.059</td>\n",
       "      <td>0.000</td>\n",
       "      <td>0.0</td>\n",
       "      <td>0.0</td>\n",
       "      <td>0.0</td>\n",
       "      <td>0.0</td>\n",
       "      <td>0.0</td>\n",
       "      <td>-2.176</td>\n",
       "      <td>0.0</td>\n",
       "      <td>...</td>\n",
       "      <td>0.000000</td>\n",
       "      <td>17.033359</td>\n",
       "      <td>11.726327</td>\n",
       "      <td>0.000013</td>\n",
       "      <td>0.147900</td>\n",
       "      <td>20040102</td>\n",
       "      <td>0.0</td>\n",
       "      <td>20040106</td>\n",
       "      <td>0.0</td>\n",
       "      <td>0.0</td>\n",
       "    </tr>\n",
       "    <tr>\n",
       "      <th>2</th>\n",
       "      <td>USA0031</td>\n",
       "      <td>0.457</td>\n",
       "      <td>0.000</td>\n",
       "      <td>0.0</td>\n",
       "      <td>0.0</td>\n",
       "      <td>0.0</td>\n",
       "      <td>0.0</td>\n",
       "      <td>0.0</td>\n",
       "      <td>-2.061</td>\n",
       "      <td>0.0</td>\n",
       "      <td>...</td>\n",
       "      <td>2.103004</td>\n",
       "      <td>21.738218</td>\n",
       "      <td>18.047415</td>\n",
       "      <td>0.053033</td>\n",
       "      <td>0.216422</td>\n",
       "      <td>20040102</td>\n",
       "      <td>0.0</td>\n",
       "      <td>20040106</td>\n",
       "      <td>0.0</td>\n",
       "      <td>0.0</td>\n",
       "    </tr>\n",
       "    <tr>\n",
       "      <th>3</th>\n",
       "      <td>USA0062</td>\n",
       "      <td>-0.128</td>\n",
       "      <td>0.431</td>\n",
       "      <td>0.0</td>\n",
       "      <td>0.0</td>\n",
       "      <td>0.0</td>\n",
       "      <td>0.0</td>\n",
       "      <td>0.0</td>\n",
       "      <td>-2.003</td>\n",
       "      <td>0.0</td>\n",
       "      <td>...</td>\n",
       "      <td>2.243494</td>\n",
       "      <td>23.129496</td>\n",
       "      <td>20.830128</td>\n",
       "      <td>0.079755</td>\n",
       "      <td>0.355564</td>\n",
       "      <td>20040102</td>\n",
       "      <td>0.0</td>\n",
       "      <td>20040106</td>\n",
       "      <td>0.0</td>\n",
       "      <td>0.0</td>\n",
       "    </tr>\n",
       "    <tr>\n",
       "      <th>4</th>\n",
       "      <td>USA00E2</td>\n",
       "      <td>0.374</td>\n",
       "      <td>0.000</td>\n",
       "      <td>0.0</td>\n",
       "      <td>0.0</td>\n",
       "      <td>0.0</td>\n",
       "      <td>0.0</td>\n",
       "      <td>0.0</td>\n",
       "      <td>-1.967</td>\n",
       "      <td>0.0</td>\n",
       "      <td>...</td>\n",
       "      <td>2.167256</td>\n",
       "      <td>25.391653</td>\n",
       "      <td>21.458171</td>\n",
       "      <td>0.096238</td>\n",
       "      <td>0.412602</td>\n",
       "      <td>20040102</td>\n",
       "      <td>0.0</td>\n",
       "      <td>20040106</td>\n",
       "      <td>0.0</td>\n",
       "      <td>0.0</td>\n",
       "    </tr>\n",
       "  </tbody>\n",
       "</table>\n",
       "<p>5 rows × 96 columns</p>\n",
       "</div>"
      ],
      "text/plain": [
       "    Barrid  USFASTD_1DREVRSL  USFASTD_AERODEF  USFASTD_AIRLINES  \\\n",
       "0  USA0001            -0.032            0.000               0.0   \n",
       "1  USA0011            -0.059            0.000               0.0   \n",
       "2  USA0031             0.457            0.000               0.0   \n",
       "3  USA0062            -0.128            0.431               0.0   \n",
       "4  USA00E2             0.374            0.000               0.0   \n",
       "\n",
       "   USFASTD_ALUMSTEL  USFASTD_APPAREL  USFASTD_AUTO  USFASTD_BANKS  \\\n",
       "0               0.0              0.0           0.0            0.0   \n",
       "1               0.0              0.0           0.0            0.0   \n",
       "2               0.0              0.0           0.0            0.0   \n",
       "3               0.0              0.0           0.0            0.0   \n",
       "4               0.0              0.0           0.0            0.0   \n",
       "\n",
       "   USFASTD_BETA  USFASTD_BEVTOB  ...     Yield  TotalRisk   SpecRisk  \\\n",
       "0        -2.177             0.0  ...  0.188679  13.959397   9.014505   \n",
       "1        -2.176             0.0  ...  0.000000  17.033359  11.726327   \n",
       "2        -2.061             0.0  ...  2.103004  21.738218  18.047415   \n",
       "3        -2.003             0.0  ...  2.243494  23.129496  20.830128   \n",
       "4        -1.967             0.0  ...  2.167256  25.391653  21.458171   \n",
       "\n",
       "   HistBeta  PredBeta  DataDate  DlyReturn  DlyReturnDate  h.opt.previous  \\\n",
       "0 -0.000189  0.156387  20040102        0.0       20040106             0.0   \n",
       "1  0.000013  0.147900  20040102        0.0       20040106             0.0   \n",
       "2  0.053033  0.216422  20040102        0.0       20040106             0.0   \n",
       "3  0.079755  0.355564  20040102        0.0       20040106             0.0   \n",
       "4  0.096238  0.412602  20040102        0.0       20040106             0.0   \n",
       "\n",
       "   h.opt.previous2  \n",
       "0              0.0  \n",
       "1              0.0  \n",
       "2              0.0  \n",
       "3              0.0  \n",
       "4              0.0  \n",
       "\n",
       "[5 rows x 96 columns]"
      ]
     },
     "execution_count": 33,
     "metadata": {},
     "output_type": "execute_result"
    }
   ],
   "source": [
    "df.head()"
   ]
  },
  {
   "cell_type": "code",
   "execution_count": 34,
   "metadata": {},
   "outputs": [
    {
     "data": {
      "text/plain": [
       "(12435, 96)"
      ]
     },
     "execution_count": 34,
     "metadata": {},
     "output_type": "execute_result"
    }
   ],
   "source": [
    "df.shape"
   ]
  },
  {
   "cell_type": "code",
   "execution_count": 35,
   "metadata": {},
   "outputs": [],
   "source": [
    "def get_universe(df):\n",
    "    \"\"\"\n",
    "    Create a stock universe based on filters\n",
    "\n",
    "    Parameters\n",
    "    ----------\n",
    "    df : DataFrame\n",
    "        All stocks\n",
    "        \n",
    "    Returns\n",
    "    -------\n",
    "    universe : DataFrame\n",
    "        Selected stocks based on filters\n",
    "    \"\"\"\n",
    "    \n",
    "    # TODO: Implement\n",
    "    universe = df.loc[(df['IssuerMarketCap'] >= 1e9) | (abs(df['h.opt.previous']) > 0)].copy(deep=True)\n",
    "    # universe['h.opt.previous'] = [0.0]*universe.shape[0]\n",
    "    # universe = clean_nas(universe)\n",
    "    # universe.loc[universe['SpecRisk'] == 0]['SpecRisk'] = median(universe['SpecRisk'])\n",
    "    universe = universe.drop(['DlyReturn'],axis=1)\n",
    "    \n",
    "    \n",
    "    return universe\n",
    "\n",
    "universe = get_universe(df)"
   ]
  },
  {
   "cell_type": "code",
   "execution_count": 36,
   "metadata": {},
   "outputs": [],
   "source": [
    "date = str(int(universe['DataDate'][1])) "
   ]
  },
  {
   "cell_type": "code",
   "execution_count": 37,
   "metadata": {},
   "outputs": [
    {
     "data": {
      "text/plain": [
       "'20040102'"
      ]
     },
     "execution_count": 37,
     "metadata": {},
     "output_type": "execute_result"
    }
   ],
   "source": [
    "date"
   ]
  },
  {
   "cell_type": "code",
   "execution_count": 38,
   "metadata": {},
   "outputs": [
    {
     "data": {
      "text/html": [
       "<div>\n",
       "<style scoped>\n",
       "    .dataframe tbody tr th:only-of-type {\n",
       "        vertical-align: middle;\n",
       "    }\n",
       "\n",
       "    .dataframe tbody tr th {\n",
       "        vertical-align: top;\n",
       "    }\n",
       "\n",
       "    .dataframe thead th {\n",
       "        text-align: right;\n",
       "    }\n",
       "</style>\n",
       "<table border=\"1\" class=\"dataframe\">\n",
       "  <thead>\n",
       "    <tr style=\"text-align: right;\">\n",
       "      <th></th>\n",
       "      <th>Barrid</th>\n",
       "      <th>USFASTD_1DREVRSL</th>\n",
       "      <th>USFASTD_AERODEF</th>\n",
       "      <th>USFASTD_AIRLINES</th>\n",
       "      <th>USFASTD_ALUMSTEL</th>\n",
       "      <th>USFASTD_APPAREL</th>\n",
       "      <th>USFASTD_AUTO</th>\n",
       "      <th>USFASTD_BANKS</th>\n",
       "      <th>USFASTD_BETA</th>\n",
       "      <th>USFASTD_BEVTOB</th>\n",
       "      <th>...</th>\n",
       "      <th>IssuerMarketCap</th>\n",
       "      <th>Yield</th>\n",
       "      <th>TotalRisk</th>\n",
       "      <th>SpecRisk</th>\n",
       "      <th>HistBeta</th>\n",
       "      <th>PredBeta</th>\n",
       "      <th>DataDate</th>\n",
       "      <th>DlyReturnDate</th>\n",
       "      <th>h.opt.previous</th>\n",
       "      <th>h.opt.previous2</th>\n",
       "    </tr>\n",
       "  </thead>\n",
       "  <tbody>\n",
       "    <tr>\n",
       "      <th>0</th>\n",
       "      <td>USA0001</td>\n",
       "      <td>-0.032</td>\n",
       "      <td>0.000</td>\n",
       "      <td>0.0</td>\n",
       "      <td>0.0</td>\n",
       "      <td>0.0</td>\n",
       "      <td>0.0</td>\n",
       "      <td>0.0</td>\n",
       "      <td>-2.177</td>\n",
       "      <td>0.0</td>\n",
       "      <td>...</td>\n",
       "      <td>5.392988e+10</td>\n",
       "      <td>0.188679</td>\n",
       "      <td>13.959397</td>\n",
       "      <td>9.014505</td>\n",
       "      <td>-0.000189</td>\n",
       "      <td>0.156387</td>\n",
       "      <td>20040102</td>\n",
       "      <td>20040106</td>\n",
       "      <td>0.0</td>\n",
       "      <td>0.0</td>\n",
       "    </tr>\n",
       "    <tr>\n",
       "      <th>1</th>\n",
       "      <td>USA0011</td>\n",
       "      <td>-0.059</td>\n",
       "      <td>0.000</td>\n",
       "      <td>0.0</td>\n",
       "      <td>0.0</td>\n",
       "      <td>0.0</td>\n",
       "      <td>0.0</td>\n",
       "      <td>0.0</td>\n",
       "      <td>-2.176</td>\n",
       "      <td>0.0</td>\n",
       "      <td>...</td>\n",
       "      <td>5.874999e+09</td>\n",
       "      <td>0.000000</td>\n",
       "      <td>17.033359</td>\n",
       "      <td>11.726327</td>\n",
       "      <td>0.000013</td>\n",
       "      <td>0.147900</td>\n",
       "      <td>20040102</td>\n",
       "      <td>20040106</td>\n",
       "      <td>0.0</td>\n",
       "      <td>0.0</td>\n",
       "    </tr>\n",
       "    <tr>\n",
       "      <th>2</th>\n",
       "      <td>USA0031</td>\n",
       "      <td>0.457</td>\n",
       "      <td>0.000</td>\n",
       "      <td>0.0</td>\n",
       "      <td>0.0</td>\n",
       "      <td>0.0</td>\n",
       "      <td>0.0</td>\n",
       "      <td>0.0</td>\n",
       "      <td>-2.061</td>\n",
       "      <td>0.0</td>\n",
       "      <td>...</td>\n",
       "      <td>7.304963e+10</td>\n",
       "      <td>2.103004</td>\n",
       "      <td>21.738218</td>\n",
       "      <td>18.047415</td>\n",
       "      <td>0.053033</td>\n",
       "      <td>0.216422</td>\n",
       "      <td>20040102</td>\n",
       "      <td>20040106</td>\n",
       "      <td>0.0</td>\n",
       "      <td>0.0</td>\n",
       "    </tr>\n",
       "    <tr>\n",
       "      <th>3</th>\n",
       "      <td>USA0062</td>\n",
       "      <td>-0.128</td>\n",
       "      <td>0.431</td>\n",
       "      <td>0.0</td>\n",
       "      <td>0.0</td>\n",
       "      <td>0.0</td>\n",
       "      <td>0.0</td>\n",
       "      <td>0.0</td>\n",
       "      <td>-2.003</td>\n",
       "      <td>0.0</td>\n",
       "      <td>...</td>\n",
       "      <td>2.866562e+10</td>\n",
       "      <td>2.243494</td>\n",
       "      <td>23.129496</td>\n",
       "      <td>20.830128</td>\n",
       "      <td>0.079755</td>\n",
       "      <td>0.355564</td>\n",
       "      <td>20040102</td>\n",
       "      <td>20040106</td>\n",
       "      <td>0.0</td>\n",
       "      <td>0.0</td>\n",
       "    </tr>\n",
       "    <tr>\n",
       "      <th>4</th>\n",
       "      <td>USA00E2</td>\n",
       "      <td>0.374</td>\n",
       "      <td>0.000</td>\n",
       "      <td>0.0</td>\n",
       "      <td>0.0</td>\n",
       "      <td>0.0</td>\n",
       "      <td>0.0</td>\n",
       "      <td>0.0</td>\n",
       "      <td>-1.967</td>\n",
       "      <td>0.0</td>\n",
       "      <td>...</td>\n",
       "      <td>5.720420e+10</td>\n",
       "      <td>2.167256</td>\n",
       "      <td>25.391653</td>\n",
       "      <td>21.458171</td>\n",
       "      <td>0.096238</td>\n",
       "      <td>0.412602</td>\n",
       "      <td>20040102</td>\n",
       "      <td>20040106</td>\n",
       "      <td>0.0</td>\n",
       "      <td>0.0</td>\n",
       "    </tr>\n",
       "  </tbody>\n",
       "</table>\n",
       "<p>5 rows × 95 columns</p>\n",
       "</div>"
      ],
      "text/plain": [
       "    Barrid  USFASTD_1DREVRSL  USFASTD_AERODEF  USFASTD_AIRLINES  \\\n",
       "0  USA0001            -0.032            0.000               0.0   \n",
       "1  USA0011            -0.059            0.000               0.0   \n",
       "2  USA0031             0.457            0.000               0.0   \n",
       "3  USA0062            -0.128            0.431               0.0   \n",
       "4  USA00E2             0.374            0.000               0.0   \n",
       "\n",
       "   USFASTD_ALUMSTEL  USFASTD_APPAREL  USFASTD_AUTO  USFASTD_BANKS  \\\n",
       "0               0.0              0.0           0.0            0.0   \n",
       "1               0.0              0.0           0.0            0.0   \n",
       "2               0.0              0.0           0.0            0.0   \n",
       "3               0.0              0.0           0.0            0.0   \n",
       "4               0.0              0.0           0.0            0.0   \n",
       "\n",
       "   USFASTD_BETA  USFASTD_BEVTOB  ...  IssuerMarketCap     Yield  TotalRisk  \\\n",
       "0        -2.177             0.0  ...     5.392988e+10  0.188679  13.959397   \n",
       "1        -2.176             0.0  ...     5.874999e+09  0.000000  17.033359   \n",
       "2        -2.061             0.0  ...     7.304963e+10  2.103004  21.738218   \n",
       "3        -2.003             0.0  ...     2.866562e+10  2.243494  23.129496   \n",
       "4        -1.967             0.0  ...     5.720420e+10  2.167256  25.391653   \n",
       "\n",
       "    SpecRisk  HistBeta  PredBeta  DataDate  DlyReturnDate  h.opt.previous  \\\n",
       "0   9.014505 -0.000189  0.156387  20040102       20040106             0.0   \n",
       "1  11.726327  0.000013  0.147900  20040102       20040106             0.0   \n",
       "2  18.047415  0.053033  0.216422  20040102       20040106             0.0   \n",
       "3  20.830128  0.079755  0.355564  20040102       20040106             0.0   \n",
       "4  21.458171  0.096238  0.412602  20040102       20040106             0.0   \n",
       "\n",
       "   h.opt.previous2  \n",
       "0              0.0  \n",
       "1              0.0  \n",
       "2              0.0  \n",
       "3              0.0  \n",
       "4              0.0  \n",
       "\n",
       "[5 rows x 95 columns]"
      ]
     },
     "execution_count": 38,
     "metadata": {},
     "output_type": "execute_result"
    }
   ],
   "source": [
    "universe.head()"
   ]
  },
  {
   "cell_type": "markdown",
   "metadata": {},
   "source": [
    "## Factors\n",
    "\n",
    "We will now extract both the risk factors and alpha factors. We begin by first getting all the factors using the `factors_from_names` function defined previously."
   ]
  },
  {
   "cell_type": "code",
   "execution_count": 39,
   "metadata": {},
   "outputs": [],
   "source": [
    "all_factors = factors_from_names(list(universe))"
   ]
  },
  {
   "cell_type": "code",
   "execution_count": 40,
   "metadata": {},
   "outputs": [
    {
     "data": {
      "text/plain": [
       "['USFASTD_1DREVRSL',\n",
       " 'USFASTD_AERODEF',\n",
       " 'USFASTD_AIRLINES',\n",
       " 'USFASTD_ALUMSTEL',\n",
       " 'USFASTD_APPAREL',\n",
       " 'USFASTD_AUTO',\n",
       " 'USFASTD_BANKS',\n",
       " 'USFASTD_BETA',\n",
       " 'USFASTD_BEVTOB',\n",
       " 'USFASTD_BIOLIFE',\n",
       " 'USFASTD_BLDGPROD',\n",
       " 'USFASTD_CHEM',\n",
       " 'USFASTD_CNSTENG',\n",
       " 'USFASTD_CNSTMACH',\n",
       " 'USFASTD_CNSTMATL',\n",
       " 'USFASTD_COMMEQP',\n",
       " 'USFASTD_COMPELEC',\n",
       " 'USFASTD_COMSVCS',\n",
       " 'USFASTD_CONGLOM',\n",
       " 'USFASTD_CONTAINR',\n",
       " 'USFASTD_DISTRIB',\n",
       " 'USFASTD_DIVFIN',\n",
       " 'USFASTD_DIVYILD',\n",
       " 'USFASTD_DWNRISK',\n",
       " 'USFASTD_EARNQLTY',\n",
       " 'USFASTD_EARNYILD',\n",
       " 'USFASTD_ELECEQP',\n",
       " 'USFASTD_ELECUTIL',\n",
       " 'USFASTD_FOODPROD',\n",
       " 'USFASTD_FOODRET',\n",
       " 'USFASTD_GASUTIL',\n",
       " 'USFASTD_GROWTH',\n",
       " 'USFASTD_HLTHEQP',\n",
       " 'USFASTD_HLTHSVCS',\n",
       " 'USFASTD_HOMEBLDG',\n",
       " 'USFASTD_HOUSEDUR',\n",
       " 'USFASTD_INDMACH',\n",
       " 'USFASTD_INDMOM',\n",
       " 'USFASTD_INSURNCE',\n",
       " 'USFASTD_INTERNET',\n",
       " 'USFASTD_LEISPROD',\n",
       " 'USFASTD_LEISSVCS',\n",
       " 'USFASTD_LEVERAGE',\n",
       " 'USFASTD_LIFEINS',\n",
       " 'USFASTD_LIQUIDTY',\n",
       " 'USFASTD_LTREVRSL',\n",
       " 'USFASTD_MEDIA',\n",
       " 'USFASTD_MGDHLTH',\n",
       " 'USFASTD_MGMTQLTY',\n",
       " 'USFASTD_MIDCAP',\n",
       " 'USFASTD_MOMENTUM',\n",
       " 'USFASTD_MULTUTIL',\n",
       " 'USFASTD_OILGSCON',\n",
       " 'USFASTD_OILGSDRL',\n",
       " 'USFASTD_OILGSEQP',\n",
       " 'USFASTD_OILGSEXP',\n",
       " 'USFASTD_PAPER',\n",
       " 'USFASTD_PHARMA',\n",
       " 'USFASTD_PRECMTLS',\n",
       " 'USFASTD_PROFIT',\n",
       " 'USFASTD_PROSPECT',\n",
       " 'USFASTD_PSNLPROD',\n",
       " 'USFASTD_REALEST',\n",
       " 'USFASTD_RESTAUR',\n",
       " 'USFASTD_RESVOL',\n",
       " 'USFASTD_ROADRAIL',\n",
       " 'USFASTD_SEASON',\n",
       " 'USFASTD_SEMICOND',\n",
       " 'USFASTD_SEMIEQP',\n",
       " 'USFASTD_SENTMT',\n",
       " 'USFASTD_SIZE',\n",
       " 'USFASTD_SOFTWARE',\n",
       " 'USFASTD_SPLTYRET',\n",
       " 'USFASTD_SPTYCHEM',\n",
       " 'USFASTD_SPTYSTOR',\n",
       " 'USFASTD_STREVRSL',\n",
       " 'USFASTD_TELECOM',\n",
       " 'USFASTD_TRADECO',\n",
       " 'USFASTD_TRANSPRT',\n",
       " 'USFASTD_VALUE',\n",
       " 'USFASTD_WIRELESS']"
      ]
     },
     "execution_count": 40,
     "metadata": {},
     "output_type": "execute_result"
    }
   ],
   "source": [
    "all_factors"
   ]
  },
  {
   "cell_type": "markdown",
   "metadata": {},
   "source": [
    "We will now create the function `setdiff` to just select the factors that we have not defined as alpha factors"
   ]
  },
  {
   "cell_type": "code",
   "execution_count": 41,
   "metadata": {},
   "outputs": [],
   "source": [
    "def setdiff(temp1, temp2): \n",
    "    s = set(temp2)\n",
    "    temp3 = [x for x in temp1 if x not in s]\n",
    "    return temp3"
   ]
  },
  {
   "cell_type": "code",
   "execution_count": 42,
   "metadata": {},
   "outputs": [],
   "source": [
    "risk_factors = setdiff(all_factors, alpha_factors)"
   ]
  },
  {
   "cell_type": "markdown",
   "metadata": {},
   "source": [
    "We will also save the column that contains the previous holdings in a separate variable because we are going to use it later when we perform our portfolio optimization."
   ]
  },
  {
   "cell_type": "code",
   "execution_count": 43,
   "metadata": {},
   "outputs": [],
   "source": [
    "h0 = universe['h.opt.previous']"
   ]
  },
  {
   "cell_type": "markdown",
   "metadata": {},
   "source": [
    "## Matrix of Risk Factor Exposures\n",
    "\n",
    "Our dataframe contains several columns that we'll use as risk factors exposures.  Extract these and put them into a matrix.\n",
    "\n",
    "The data, such as industry category, are already one-hot encoded, but if this were not the case, then using `patsy.dmatrices` would help, as this function extracts categories and performs the one-hot encoding.  We'll practice using this package, as you may find it useful with future data sets.  You could also store the factors in a dataframe if you prefer.\n",
    "\n",
    "#### How to use patsy.dmatrices\n",
    "\n",
    "`patsy.dmatrices` takes in a formula and the dataframe.  The formula tells the function which columns to take.  The formula will look something like this:  \n",
    "`SpecRisk ~ 0 + USFASTD_AERODEF + USFASTD_AIRLINES + ...`  \n",
    "where the variable to the left of the ~ is the \"dependent variable\" and the others to the right are the independent variables (as if we were preparing data to be fit to a model).\n",
    "\n",
    "This just means that the `pasty.dmatrices` function will return two matrix variables, one that contains the single column for the dependent variable `outcome`, and the independent variable columns are stored in a matrix `predictors`.\n",
    "\n",
    "The `predictors` matrix will contain the matrix of risk factors, which is what we want.  We don't actually need the `outcome` matrix; it's just created because that's the way patsy.dmatrices works."
   ]
  },
  {
   "cell_type": "code",
   "execution_count": 44,
   "metadata": {},
   "outputs": [],
   "source": [
    "formula = get_formula(risk_factors, \"SpecRisk\")"
   ]
  },
  {
   "cell_type": "code",
   "execution_count": 45,
   "metadata": {},
   "outputs": [],
   "source": [
    "def model_matrix(formula, data): \n",
    "    outcome, predictors = patsy.dmatrices(formula, data)\n",
    "    return predictors"
   ]
  },
  {
   "cell_type": "code",
   "execution_count": 46,
   "metadata": {},
   "outputs": [],
   "source": [
    "B = model_matrix(formula, universe)\n",
    "BT = B.transpose()"
   ]
  },
  {
   "cell_type": "code",
   "execution_count": 47,
   "metadata": {},
   "outputs": [
    {
     "data": {
      "text/plain": [
       "(2265, 77)"
      ]
     },
     "execution_count": 47,
     "metadata": {},
     "output_type": "execute_result"
    }
   ],
   "source": [
    "B.shape"
   ]
  },
  {
   "cell_type": "code",
   "execution_count": 48,
   "metadata": {},
   "outputs": [
    {
     "data": {
      "text/plain": [
       "array([ 0.   ,  0.   ,  0.   ,  0.   ,  0.   ,  0.   , -2.177,  0.   ,\n",
       "        0.   ,  0.   ,  0.093,  0.   ,  0.   ,  0.   ,  0.227,  0.   ,\n",
       "        0.   ,  0.357,  0.   ,  0.   ,  0.   , -0.883, -0.05 ,  0.183,\n",
       "        0.   ,  0.   ,  0.   ,  0.   ,  0.   ,  0.234,  0.   ,  0.   ,\n",
       "        0.   ,  0.   ,  0.269, -0.3  ,  0.   ,  0.   ,  0.   ,  0.   ,\n",
       "        0.158,  0.   , -0.485,  0.025,  0.   ,  0.   , -1.125, -0.497,\n",
       "       -0.73 ,  0.   ,  0.   ,  0.   ,  0.   ,  0.   ,  0.   ,  0.   ,\n",
       "        0.   , -0.371,  0.253,  0.   ,  0.   ,  0.   , -0.136,  0.   ,\n",
       "        1.526,  0.   ,  0.   ,  0.858,  0.   ,  0.   ,  0.   ,  0.   ,\n",
       "        0.548,  0.054,  0.   ,  0.   ,  0.   ])"
      ]
     },
     "execution_count": 48,
     "metadata": {},
     "output_type": "execute_result"
    }
   ],
   "source": [
    "np.asarray(B)[0]"
   ]
  },
  {
   "cell_type": "markdown",
   "metadata": {},
   "source": [
    "## Calculate Specific Variance\n",
    "\n",
    "Notice that the specific risk data is in percent:"
   ]
  },
  {
   "cell_type": "code",
   "execution_count": 49,
   "metadata": {},
   "outputs": [
    {
     "data": {
      "text/plain": [
       "0     9.014505\n",
       "1    11.726327\n",
       "Name: SpecRisk, dtype: float64"
      ]
     },
     "execution_count": 49,
     "metadata": {},
     "output_type": "execute_result"
    }
   ],
   "source": [
    "universe['SpecRisk'][0:2]"
   ]
  },
  {
   "cell_type": "markdown",
   "metadata": {},
   "source": [
    "Therefore, in order to get the specific variance for each stock in the universe we first need to multiply these values by `0.01`  and then square them:"
   ]
  },
  {
   "cell_type": "code",
   "execution_count": 50,
   "metadata": {},
   "outputs": [],
   "source": [
    "specVar = (0.01 * universe['SpecRisk']) ** 2"
   ]
  },
  {
   "cell_type": "markdown",
   "metadata": {},
   "source": [
    "## Factor covariance matrix (TODO)\n",
    "\n",
    "Note that we already have factor covariances from Barra data, which is stored in the variable `covariance`.  `covariance` is a dictionary, where the key is each day's date, and the value is a dataframe containing the factor covariances."
   ]
  },
  {
   "cell_type": "code",
   "execution_count": 51,
   "metadata": {},
   "outputs": [
    {
     "data": {
      "text/html": [
       "<div>\n",
       "<style scoped>\n",
       "    .dataframe tbody tr th:only-of-type {\n",
       "        vertical-align: middle;\n",
       "    }\n",
       "\n",
       "    .dataframe tbody tr th {\n",
       "        vertical-align: top;\n",
       "    }\n",
       "\n",
       "    .dataframe thead th {\n",
       "        text-align: right;\n",
       "    }\n",
       "</style>\n",
       "<table border=\"1\" class=\"dataframe\">\n",
       "  <thead>\n",
       "    <tr style=\"text-align: right;\">\n",
       "      <th></th>\n",
       "      <th>Factor1</th>\n",
       "      <th>Factor2</th>\n",
       "      <th>VarCovar</th>\n",
       "      <th>DataDate</th>\n",
       "    </tr>\n",
       "  </thead>\n",
       "  <tbody>\n",
       "    <tr>\n",
       "      <th>0</th>\n",
       "      <td>USFASTD_1DREVRSL</td>\n",
       "      <td>USFASTD_1DREVRSL</td>\n",
       "      <td>1.958869</td>\n",
       "      <td>20040102</td>\n",
       "    </tr>\n",
       "    <tr>\n",
       "      <th>1</th>\n",
       "      <td>USFASTD_1DREVRSL</td>\n",
       "      <td>USFASTD_BETA</td>\n",
       "      <td>1.602458</td>\n",
       "      <td>20040102</td>\n",
       "    </tr>\n",
       "    <tr>\n",
       "      <th>2</th>\n",
       "      <td>USFASTD_1DREVRSL</td>\n",
       "      <td>USFASTD_DIVYILD</td>\n",
       "      <td>-0.012642</td>\n",
       "      <td>20040102</td>\n",
       "    </tr>\n",
       "    <tr>\n",
       "      <th>3</th>\n",
       "      <td>USFASTD_1DREVRSL</td>\n",
       "      <td>USFASTD_DWNRISK</td>\n",
       "      <td>-0.064387</td>\n",
       "      <td>20040102</td>\n",
       "    </tr>\n",
       "    <tr>\n",
       "      <th>4</th>\n",
       "      <td>USFASTD_1DREVRSL</td>\n",
       "      <td>USFASTD_EARNQLTY</td>\n",
       "      <td>0.046573</td>\n",
       "      <td>20040102</td>\n",
       "    </tr>\n",
       "  </tbody>\n",
       "</table>\n",
       "</div>"
      ],
      "text/plain": [
       "            Factor1           Factor2  VarCovar  DataDate\n",
       "0  USFASTD_1DREVRSL  USFASTD_1DREVRSL  1.958869  20040102\n",
       "1  USFASTD_1DREVRSL      USFASTD_BETA  1.602458  20040102\n",
       "2  USFASTD_1DREVRSL   USFASTD_DIVYILD -0.012642  20040102\n",
       "3  USFASTD_1DREVRSL   USFASTD_DWNRISK -0.064387  20040102\n",
       "4  USFASTD_1DREVRSL  USFASTD_EARNQLTY  0.046573  20040102"
      ]
     },
     "execution_count": 51,
     "metadata": {},
     "output_type": "execute_result"
    }
   ],
   "source": [
    "covariance['20040102'].head()"
   ]
  },
  {
   "cell_type": "markdown",
   "metadata": {},
   "source": [
    "In the code below, implement the function `diagonal_factor_cov` to create the factor covariance matrix. Note that the covariances are given in percentage units squared.  Therefore you must re-scale them appropriately so that they're in decimals squared. Use the given `colnames` function to get the column names from `B`. \n",
    "\n",
    "When creating factor covariance matrix, you can store the factor variances and covariances, or just store the factor variances.  Try both, and see if you notice any differences."
   ]
  },
  {
   "cell_type": "code",
   "execution_count": 52,
   "metadata": {},
   "outputs": [],
   "source": [
    "def colnames(B):\n",
    "    if type(B) == patsy.design_info.DesignMatrix: \n",
    "        return B.design_info.column_names\n",
    "    if type(B) == pandas.core.frame.DataFrame: \n",
    "        return B.columns.tolist()\n",
    "    return None"
   ]
  },
  {
   "cell_type": "code",
   "execution_count": 53,
   "metadata": {},
   "outputs": [],
   "source": [
    "def diagonal_factor_cov(date, B):\n",
    "    \"\"\"\n",
    "    Create the factor covariance matrix\n",
    "\n",
    "    Parameters\n",
    "    ----------\n",
    "    date : string\n",
    "           date. For example 20040102\n",
    "        \n",
    "    B : patsy.design_info.DesignMatrix OR pandas.core.frame.DataFrame\n",
    "        Matrix of Risk Factors\n",
    "        \n",
    "    Returns\n",
    "    -------\n",
    "    Fm : Numpy ndarray\n",
    "        factor covariance matrix\n",
    "    \"\"\"\n",
    "    \n",
    "    # TODO: Implement\n",
    "    cov = covariance[date]\n",
    "    col_names = colnames(B)\n",
    "    len_cov = len(col_names)\n",
    "    Fm = np.zeros([len_cov,len_cov])\n",
    "    for i in range(len_cov):\n",
    "        for j in range(len_cov):\n",
    "            fac_i = col_names[i]\n",
    "            fac_j = col_names[j]\n",
    "            # print(i,fac_i, j,fac_j)\n",
    "            try:\n",
    "                cov_perc = cov.loc[(cov['Factor1'] == fac_i) & (cov['Factor2'] == fac_j),'VarCovar'].iloc[0]\n",
    "            except:\n",
    "                # print(f\"didn't find covariance for: factor 1: {fac_i} factor2: {fac_j}\")\n",
    "                cov_perc = 0\n",
    "            # print(cov_perc)\n",
    "            Fm[i,j] = (0.01*cov_perc)**2\n",
    "    \n",
    "    \n",
    "    return Fm\n",
    "\n",
    "Fvar = diagonal_factor_cov(date, B)"
   ]
  },
  {
   "cell_type": "code",
   "execution_count": 54,
   "metadata": {},
   "outputs": [
    {
     "data": {
      "text/plain": [
       "(77, 77)"
      ]
     },
     "execution_count": 54,
     "metadata": {},
     "output_type": "execute_result"
    }
   ],
   "source": [
    "Fvar.shape"
   ]
  },
  {
   "cell_type": "code",
   "execution_count": 55,
   "metadata": {},
   "outputs": [
    {
     "data": {
      "text/plain": [
       "array([[7.14228773e-01, 1.05748530e-03, 0.00000000e+00, ...,\n",
       "        4.19913687e-04, 2.02255187e-03, 1.48054262e-03],\n",
       "       [0.00000000e+00, 1.85368635e+01, 0.00000000e+00, ...,\n",
       "        0.00000000e+00, 1.72332332e-01, 6.50403501e-03],\n",
       "       [1.44104829e-02, 5.12096397e-02, 5.32618455e+00, ...,\n",
       "        5.62679066e-02, 1.27380863e-02, 7.80745204e-04],\n",
       "       ...,\n",
       "       [0.00000000e+00, 2.91966984e-02, 0.00000000e+00, ...,\n",
       "        2.71834764e-01, 4.07217609e-03, 5.24577393e-03],\n",
       "       [0.00000000e+00, 0.00000000e+00, 0.00000000e+00, ...,\n",
       "        0.00000000e+00, 5.27707450e-01, 1.11926011e-04],\n",
       "       [0.00000000e+00, 0.00000000e+00, 0.00000000e+00, ...,\n",
       "        0.00000000e+00, 0.00000000e+00, 4.77658072e+00]])"
      ]
     },
     "execution_count": 55,
     "metadata": {},
     "output_type": "execute_result"
    }
   ],
   "source": [
    "Fvar"
   ]
  },
  {
   "cell_type": "markdown",
   "metadata": {},
   "source": [
    "## Transaction Costs\n",
    "\n",
    "To get the transaction cost, or slippage, we have to multiply the price change due to market impact by the amount of dollars traded:\n",
    "\n",
    "$$\n",
    "\\mbox{tcost_{i,t}} = \\% \\Delta \\mbox{price}_{i,t} \\times \\mbox{trade}_{i,t}\n",
    "$$\n",
    "\n",
    "In summation notation it looks like this:  \n",
    "$$\n",
    "\\mbox{tcost}_{i,t} = \\sum_i^{N} \\lambda_{i,t} (h_{i,t} - h_{i,t-1})^2\n",
    "$$  \n",
    "where\n",
    "$$\n",
    "\\lambda_{i,t} = \\frac{1}{10\\times \\mbox{ADV}_{i,t}}\n",
    "$$\n",
    "\n",
    "Note that since we're dividing by ADV, we'll want to handle cases when ADV is missing or zero.  In those instances, we can set ADV to a small positive number, such as 10,000, which, in practice assumes that the stock is illiquid. In the code below if there is no volume information we assume the asset is illiquid."
   ]
  },
  {
   "cell_type": "code",
   "execution_count": 56,
   "metadata": {},
   "outputs": [],
   "source": [
    "def get_lambda(universe, composite_volume_column = 'ADTCA_30'):\n",
    "    universe.loc[np.isnan(universe[composite_volume_column]), composite_volume_column] = 1.0e4\n",
    "    universe.loc[universe[composite_volume_column] == 0, composite_volume_column] = 1.0e4 \n",
    "\n",
    "    adv = universe[composite_volume_column]\n",
    "    \n",
    "    return 0.1 / adv\n",
    "\n",
    "Lambda = get_lambda(universe)"
   ]
  },
  {
   "cell_type": "markdown",
   "metadata": {},
   "source": [
    "## Alpha Combination (TODO)\n",
    "\n",
    "In the code below create a matrix of alpha factors and return it from the function `get_B_alpha`. Create this matrix in the same way you created the matrix of risk factors, i.e. using the `get_formula` and `model_matrix` functions we have defined above. Feel free to go back and look at the previous code."
   ]
  },
  {
   "cell_type": "code",
   "execution_count": 57,
   "metadata": {},
   "outputs": [],
   "source": [
    "def get_B_alpha(alpha_factors, universe):\n",
    "    # TODO: Implement\n",
    "    formula = get_formula(alpha_factors, \"SpecRisk\")\n",
    "    B_alpha = model_matrix(formula,universe)\n",
    "    return B_alpha\n",
    "\n",
    "B_alpha = get_B_alpha(alpha_factors, universe)"
   ]
  },
  {
   "cell_type": "code",
   "execution_count": 58,
   "metadata": {},
   "outputs": [
    {
     "data": {
      "text/plain": [
       "DesignMatrix with shape (2265, 4)\n",
       "  USFASTD_1DREVRSL  USFASTD_EARNYILD  USFASTD_VALUE  USFASTD_SENTMT\n",
       "            -0.032            -0.298          0.644          -0.922\n",
       "            -0.059            -1.072         -0.646          -0.991\n",
       "             0.457            -0.060         -0.668          -0.092\n",
       "            -0.128            -0.681          0.028          -0.772\n",
       "             0.374             0.392         -0.735           0.489\n",
       "            -0.254             0.185          0.188           0.033\n",
       "            -0.317             0.748          2.049           0.628\n",
       "             0.157            -0.438         -0.449           0.631\n",
       "            -0.550            -0.691         -0.645           0.225\n",
       "            -0.169             0.038         -1.002           0.053\n",
       "            -1.019            -0.946         -0.588           1.371\n",
       "             0.334            -0.197         -0.465          -0.287\n",
       "             0.490             0.036         -0.370          -0.685\n",
       "            -0.169            -0.206         -1.332           0.628\n",
       "            -0.642             0.213         -0.208          -0.082\n",
       "            -0.609            -0.491         -0.429          -0.775\n",
       "            -0.098            -0.491         -0.437          -0.775\n",
       "            -0.230             0.367         -0.050           0.168\n",
       "            -0.175            -0.126         -0.483           0.110\n",
       "            -0.116             0.514          0.233          -0.348\n",
       "             0.701            -0.611         -0.782          -0.342\n",
       "            -0.249            -0.308         -0.934           0.030\n",
       "             0.735            -1.912          0.090           2.681\n",
       "            -0.007            -0.492         -1.112           0.238\n",
       "            -0.133            -0.393         -0.676          -0.205\n",
       "             0.639            -0.869         -0.347           2.628\n",
       "            -0.339             0.799          0.451           0.715\n",
       "            -2.745             0.799          0.456           0.715\n",
       "            -0.560             1.409         -0.473           0.339\n",
       "             0.166            -0.030         -0.361          -0.455\n",
       "  [2235 rows omitted]\n",
       "  Terms:\n",
       "    'USFASTD_1DREVRSL' (column 0)\n",
       "    'USFASTD_EARNYILD' (column 1)\n",
       "    'USFASTD_VALUE' (column 2)\n",
       "    'USFASTD_SENTMT' (column 3)\n",
       "  (to view full data, use np.asarray(this_obj))"
      ]
     },
     "execution_count": 58,
     "metadata": {},
     "output_type": "execute_result"
    }
   ],
   "source": [
    "B_alpha"
   ]
  },
  {
   "cell_type": "code",
   "execution_count": 59,
   "metadata": {},
   "outputs": [
    {
     "data": {
      "text/plain": [
       "(2265, 4)"
      ]
     },
     "execution_count": 59,
     "metadata": {},
     "output_type": "execute_result"
    }
   ],
   "source": [
    "B_alpha.shape"
   ]
  },
  {
   "cell_type": "code",
   "execution_count": 60,
   "metadata": {},
   "outputs": [
    {
     "data": {
      "text/plain": [
       "(2265, 77)"
      ]
     },
     "execution_count": 60,
     "metadata": {},
     "output_type": "execute_result"
    }
   ],
   "source": [
    "B.shape"
   ]
  },
  {
   "cell_type": "markdown",
   "metadata": {},
   "source": [
    "Now that you have the matrix containing the alpha factors we will combine them by adding its rows. By doing this we will collapse the `B_alpha` matrix into a single alpha vector. We'll multiply by `1e-4` so that the expression of expected portfolio return, $\\alpha^T \\mathbf{h}$, is in dollar units. "
   ]
  },
  {
   "cell_type": "code",
   "execution_count": 61,
   "metadata": {},
   "outputs": [],
   "source": [
    "def get_alpha_vec(B_alpha):\n",
    "    \"\"\"\n",
    "    Create an alpha vecrtor\n",
    "\n",
    "    Parameters\n",
    "    ----------        \n",
    "    B_alpha : patsy.design_info.DesignMatrix \n",
    "        Matrix of Alpha Factors\n",
    "        \n",
    "    Returns\n",
    "    -------\n",
    "    alpha_vec : patsy.design_info.DesignMatrix \n",
    "        alpha vecrtor\n",
    "    \"\"\"\n",
    "    \n",
    "    # TODO: Implement\n",
    "    alpha_vec = B_alpha.sum(axis=1)*1e-4\n",
    "    #print(len(alpha_vec))\n",
    "    #print(alpha_vec)\n",
    "    return alpha_vec\n",
    "\n",
    "alpha_vec = get_alpha_vec(B_alpha)"
   ]
  },
  {
   "cell_type": "code",
   "execution_count": 79,
   "metadata": {},
   "outputs": [
    {
     "data": {
      "text/plain": [
       "array([-6.080e-05, -2.768e-04, -3.630e-05, ...,  1.900e-06,  1.679e-04,\n",
       "        3.930e-05])"
      ]
     },
     "execution_count": 79,
     "metadata": {},
     "output_type": "execute_result"
    }
   ],
   "source": [
    "alpha_vec"
   ]
  },
  {
   "cell_type": "markdown",
   "metadata": {},
   "source": [
    "#### Optional Challenge\n",
    "\n",
    "You can also try to a more sophisticated method of alpha combination, by choosing the holding for each alpha based on the same metric of its performance, such as the factor returns, or sharpe ratio.  To make this more realistic, you can calculate a rolling average of the sharpe ratio, which is updated for each day.  Remember to only use data that occurs prior to the date of each optimization, and not data that occurs in the future.  Also, since factor returns and sharpe ratios may be negative, consider using a `max` function to give the holdings a lower bound of zero."
   ]
  },
  {
   "cell_type": "markdown",
   "metadata": {},
   "source": [
    "## Objective function (TODO)\n",
    "\n",
    "The objective function is given by:\n",
    "\n",
    "$$\n",
    "f(\\mathbf{h}) = \\frac{1}{2}\\kappa \\mathbf{h}_t^T\\mathbf{Q}^T\\mathbf{Q}\\mathbf{h}_t + \\frac{1}{2} \\kappa \\mathbf{h}_t^T \\mathbf{S} \\mathbf{h}_t - \\mathbf{\\alpha}^T \\mathbf{h}_t + (\\mathbf{h}_{t} - \\mathbf{h}_{t-1})^T \\mathbf{\\Lambda} (\\mathbf{h}_{t} - \\mathbf{h}_{t-1})\n",
    "$$\n",
    "\n",
    "Where the terms correspond to: factor risk + idiosyncratic risk - expected portfolio return + transaction costs, respectively. We should also note that $\\textbf{Q}^T\\textbf{Q}$ is defined to be the same as $\\textbf{BFB}^T$.  Review the lessons if you need a refresher of how we get $\\textbf{Q}$.\n",
    "\n",
    "Our objective is to minimize this objective function. To do this, we will use Scipy's optimization function:\n",
    "\n",
    "`scipy.optimize.fmin_l_bfgs_b(func, initial_guess, func_gradient)`\n",
    "\n",
    "where:\n",
    "\n",
    "* **func** : is the function we want to minimize\n",
    "\n",
    "* **initial_guess** : is out initial guess\n",
    "\n",
    "* **func_gradient** : is the gradient of the function we want to minimize\n",
    "\n",
    "So, in order to use the `scipy.optimize.fmin_l_bfgs_b` function we first need to define its parameters.\n",
    "\n",
    "In the code below implement the function `obj_func(h)` that corresponds to the objective function above that we want to minimize. We will set the risk aversion to be `1.0e-6`."
   ]
  },
  {
   "cell_type": "code",
   "execution_count": 81,
   "metadata": {},
   "outputs": [],
   "source": [
    "risk_aversion = 1.0e-6\n",
    "\n",
    "def get_obj_func(h0, risk_aversion, Q, specVar, alpha_vec, Lambda): \n",
    "    def obj_func(h):\n",
    "        # TODO: Implement\n",
    "        #f_h = 0.5*risk_aversion*np.matmul(np.matmul(h.transpose(),Q.transpose()),np.matmul(Q,h))\n",
    "        #+ 0.5*risk_aversion*np.matmul(np.matmul(h.transpose(),specVar),h)\n",
    "        #- np.dot(h, alpha_vec)\n",
    "        #+ np.dot((h-h0)**2,Lambda)\n",
    "        f_h = 0.5*risk_aversion*np.sum(np.matmul(Q,h)**2) \n",
    "        + 0.5*risk_aversion*np.dot(h**2, specVar)\n",
    "        - np.dot(h, alpha_vec) \n",
    "        + np.dot((h-h0)**2,Lambda)\n",
    "        print(f'f_h: {f_h}')\n",
    "        return f_h\n",
    "    \n",
    "    return obj_func"
   ]
  },
  {
   "cell_type": "markdown",
   "metadata": {},
   "source": [
    "## Gradient (TODO)\n",
    "\n",
    "Now that we can generate the objective function using `get_obj_func`, we can now create a similar function with its gradient. The reason we're interested in calculating the gradient is so that we can tell the optimizer in which direction, and how much, it should shift the portfolio holdings in order to improve the objective function (minimize variance, minimize transaction cost, and maximize expected portfolio return).\n",
    "\n",
    "Before we implement the function we first need to know what the gradient looks like. The gradient, or derivative of the objective function, with respect to the portfolio holdings h, is given by:  \n",
    "\n",
    "$$\n",
    "f'(\\mathbf{h}) = \\frac{1}{2}\\kappa (2\\mathbf{Q}^T\\mathbf{Qh}) + \\frac{1}{2}\\kappa (2\\mathbf{Sh}) - \\mathbf{\\alpha} + 2(\\mathbf{h}_{t} - \\mathbf{h}_{t-1}) \\mathbf{\\Lambda}\n",
    "$$\n",
    "\n",
    "In the code below, implement the function `grad(h)` that corresponds to the function of the gradient given above."
   ]
  },
  {
   "cell_type": "code",
   "execution_count": 82,
   "metadata": {},
   "outputs": [],
   "source": [
    "def get_grad_func(h0, risk_aversion, Q, QT, specVar, alpha_vec, Lambda):\n",
    "    def grad_func(h):\n",
    "        # TODO: Implement\n",
    "        g_f = risk_aversion*(np.matmul(QT,np.matmul(Q,h)))\n",
    "        + risk_aversion*np.matmul(specVar,h)\n",
    "        - alpha_vec\n",
    "        + 2*(h-h0)*Lambda\n",
    "        print(f'g_f: {g_f}')\n",
    "        return np.asarray(g_f)\n",
    "    \n",
    "    return grad_func"
   ]
  },
  {
   "cell_type": "markdown",
   "metadata": {},
   "source": [
    "## Optimize (TODO)\n",
    "\n",
    "Now that we can generate the objective function using `get_obj_func`, and its corresponding gradient using `get_grad_func` we are ready to minimize the objective function using Scipy's optimization function. For this, we will use out initial holdings as our `initial_guess` parameter.\n",
    "\n",
    "In the cell below, implement the function `get_h_star` that optimizes the objective function. Use the objective function (`obj_func`) and gradient function (`grad_func`) provided within `get_h_star` to optimize the objective function using the `scipy.optimize.fmin_l_bfgs_b` function."
   ]
  },
  {
   "cell_type": "code",
   "execution_count": 85,
   "metadata": {},
   "outputs": [
    {
     "name": "stdout",
     "output_type": "stream",
     "text": [
      "f_h: 0.0\n",
      "g_f: [0. 0. 0. ... 0. 0. 0.]\n",
      "h1: [0. 0. 0. ... 0. 0. 0.]\n"
     ]
    }
   ],
   "source": [
    "risk_aversion = 1.0e-6\n",
    "\n",
    "Q = np.matmul(scipy.linalg.sqrtm(Fvar), BT)\n",
    "QT = Q.transpose()\n",
    "\n",
    "def get_h_star(risk_aversion, Q, QT, specVar, alpha_vec, h0, Lambda):\n",
    "    \"\"\"\n",
    "    Optimize the objective function\n",
    "\n",
    "    Parameters\n",
    "    ----------        \n",
    "    risk_aversion : int or float \n",
    "        Trader's risk aversion\n",
    "        \n",
    "    Q : patsy.design_info.DesignMatrix \n",
    "        Q Matrix\n",
    "        \n",
    "    QT : patsy.design_info.DesignMatrix \n",
    "        Transpose of the Q Matrix\n",
    "        \n",
    "    specVar: Pandas Series \n",
    "        Specific Variance\n",
    "        \n",
    "    alpha_vec: patsy.design_info.DesignMatrix \n",
    "        alpha vector\n",
    "        \n",
    "    h0 : Pandas Series  \n",
    "        initial holdings\n",
    "        \n",
    "    Lambda : Pandas Series  \n",
    "        Lambda\n",
    "        \n",
    "    Returns\n",
    "    -------\n",
    "    optimizer_result[0]: Numpy ndarray \n",
    "        optimized holdings\n",
    "    \"\"\"\n",
    "    obj_func = get_obj_func(h0, risk_aversion, Q, specVar, alpha_vec, Lambda)\n",
    "    grad_func = get_grad_func(h0, risk_aversion, Q, QT, specVar, alpha_vec, Lambda)\n",
    "    \n",
    "    # TODO: Implement \n",
    "    optimizer_result = scipy.optimize.fmin_l_bfgs_b(obj_func, h0, fprime=grad_func)\n",
    "    h1 = optimizer_result[0]\n",
    "    # print(f'type(optimizer_result): {type(optimizer_result)}, type(h1): {type(h1)}')\n",
    "    print(f'h1: {h1}')\n",
    "    return h1\n",
    "\n",
    "h_star = get_h_star(risk_aversion, Q, QT, specVar, alpha_vec, h0, Lambda)"
   ]
  },
  {
   "cell_type": "code",
   "execution_count": 80,
   "metadata": {},
   "outputs": [
    {
     "data": {
      "text/plain": [
       "array([0., 0., 0., ..., 0., 0., 0.])"
      ]
     },
     "execution_count": 80,
     "metadata": {},
     "output_type": "execute_result"
    }
   ],
   "source": [
    "h_star"
   ]
  },
  {
   "cell_type": "markdown",
   "metadata": {},
   "source": [
    "After we have optimized our objective function we can now use, `h_star` to create our optimal portfolio:"
   ]
  },
  {
   "cell_type": "code",
   "execution_count": 65,
   "metadata": {},
   "outputs": [],
   "source": [
    "opt_portfolio = pd.DataFrame(data = {\"Barrid\" : universe['Barrid'], \"h.opt\" : h_star})"
   ]
  },
  {
   "cell_type": "markdown",
   "metadata": {},
   "source": [
    "## Risk Exposures (TODO)\n",
    "\n",
    "We can also use `h_star` to calculate our portfolio's risk and alpha exposures.\n",
    "\n",
    "In the cells below implement the functions `get_risk_exposures` and `get_portfolio_alpha_exposure` that calculate the portfolio's risk and alpha exposures, respectively."
   ]
  },
  {
   "cell_type": "code",
   "execution_count": 66,
   "metadata": {},
   "outputs": [
    {
     "name": "stdout",
     "output_type": "stream",
     "text": [
      "B.shape: (2265, 77), BT.shape:(77, 2265) , h_star.shape: (2265,)\n",
      "risk_exposures.shape: (77,)\n"
     ]
    }
   ],
   "source": [
    "def get_risk_exposures(B, BT, h_star):\n",
    "    \"\"\"\n",
    "    Calculate portfolio's Risk Exposure\n",
    "\n",
    "    Parameters\n",
    "    ----------\n",
    "    B : patsy.design_info.DesignMatrix \n",
    "        Matrix of Risk Factors\n",
    "        \n",
    "    BT : patsy.design_info.DesignMatrix \n",
    "        Transpose of Matrix of Risk Factors\n",
    "        \n",
    "    h_star: Numpy ndarray \n",
    "        optimized holdings\n",
    "        \n",
    "    Returns\n",
    "    -------\n",
    "    risk_exposures : Pandas Series\n",
    "        Risk Exposures\n",
    "    \"\"\"\n",
    "    \n",
    "    # TODO: Implement\n",
    "    print('B.shape: {}, BT.shape:{} , h_star.shape: {}'.format(B.shape, BT.shape, h_star.shape))\n",
    "    #print(colnames(B))\n",
    "    risk_exposures = np.matmul(BT,h_star)\n",
    "    print('risk_exposures.shape: {}'.format(risk_exposures.shape))\n",
    "    \n",
    "    return pd.Series(risk_exposures,index=colnames(B))\n",
    "\n",
    "risk_exposures = get_risk_exposures(B, BT, h_star)"
   ]
  },
  {
   "cell_type": "code",
   "execution_count": 67,
   "metadata": {},
   "outputs": [
    {
     "name": "stdout",
     "output_type": "stream",
     "text": [
      "B_alpha.shape: (2265, 4), h_star.shape: (2265,)\n"
     ]
    }
   ],
   "source": [
    "def get_portfolio_alpha_exposure(B_alpha, h_star):\n",
    "    \"\"\"\n",
    "    Calculate portfolio's Alpha Exposure\n",
    "\n",
    "    Parameters\n",
    "    ----------\n",
    "    B_alpha : patsy.design_info.DesignMatrix \n",
    "        Matrix of Alpha Factors\n",
    "        \n",
    "    h_star: Numpy ndarray \n",
    "        optimized holdings\n",
    "        \n",
    "    Returns\n",
    "    -------\n",
    "    alpha_exposures : Pandas Series\n",
    "        Alpha Exposures\n",
    "    \"\"\"\n",
    "    \n",
    "    # TODO: Implement\n",
    "    print('B_alpha.shape: {}, h_star.shape: {}'.format(B_alpha.shape, h_star.shape))\n",
    "\n",
    "    \n",
    "    return pd.Series(np.matmul(B_alpha.transpose(), h_star), index = colnames(B_alpha))\n",
    "\n",
    "portfolio_alpha_exposure = get_portfolio_alpha_exposure(B_alpha, h_star)"
   ]
  },
  {
   "cell_type": "markdown",
   "metadata": {},
   "source": [
    "## Transaction Costs (TODO)\n",
    "\n",
    "We can also use `h_star` to calculate our total transaction costs:\n",
    "$$\n",
    "\\mbox{tcost} = \\sum_i^{N} \\lambda_{i} (h_{i,t} - h_{i,t-1})^2\n",
    "$$\n",
    "\n",
    "In the cell below, implement the function `get_total_transaction_costs` that calculates the total transaction costs according to the equation above:"
   ]
  },
  {
   "cell_type": "code",
   "execution_count": 69,
   "metadata": {},
   "outputs": [
    {
     "name": "stdout",
     "output_type": "stream",
     "text": [
      "h0.shape: (2265,), h_star.shape:(2265,), Lambda.shape: (2265,)\n",
      "total_transaction_costs: 0.0\n"
     ]
    }
   ],
   "source": [
    "def get_total_transaction_costs(h0, h_star, Lambda):\n",
    "    \"\"\"\n",
    "    Calculate Total Transaction Costs\n",
    "\n",
    "    Parameters\n",
    "    ----------\n",
    "    h0 : Pandas Series\n",
    "        initial holdings (before optimization)\n",
    "        \n",
    "    h_star: Numpy ndarray \n",
    "        optimized holdings\n",
    "        \n",
    "    Lambda : Pandas Series  \n",
    "        Lambda\n",
    "        \n",
    "    Returns\n",
    "    -------\n",
    "    total_transaction_costs : float\n",
    "        Total Transaction Costs\n",
    "    \"\"\"\n",
    "    \n",
    "    # TODO: Implement\n",
    "    print('h0.shape: {}, h_star.shape:{}, Lambda.shape: {}'.format(h0.shape, h_star.shape, Lambda.shape))\n",
    "    total_transaction_costs = np.sum(Lambda*(h_star-h0))\n",
    "    print(f'total_transaction_costs: {total_transaction_costs}')\n",
    "    return total_transaction_costs\n",
    "\n",
    "total_transaction_costs = get_total_transaction_costs(h0, h_star, Lambda)"
   ]
  },
  {
   "cell_type": "markdown",
   "metadata": {},
   "source": [
    "## Putting It All Together\n",
    "\n",
    "We can now take all the above functions we created above and use them to create a single function, `form_optimal_portfolio` that returns the optimal portfolio, the risk and alpha exposures, and the total transactions costs."
   ]
  },
  {
   "cell_type": "code",
   "execution_count": 70,
   "metadata": {},
   "outputs": [],
   "source": [
    "def form_optimal_portfolio(df, previous, risk_aversion):\n",
    "    df = df.merge(previous, how = 'left', on = 'Barrid')\n",
    "    df = clean_nas(df)\n",
    "    df.loc[df['SpecRisk'] == 0]['SpecRisk'] = median(df['SpecRisk'])\n",
    "  \n",
    "    universe = get_universe(df)\n",
    "    date = str(int(universe['DataDate'][1]))\n",
    "  \n",
    "    all_factors = factors_from_names(list(universe))\n",
    "    risk_factors = setdiff(all_factors, alpha_factors)\n",
    "  \n",
    "    h0 = universe['h.opt.previous']\n",
    "  \n",
    "    B = model_matrix(get_formula(risk_factors, \"SpecRisk\"), universe)\n",
    "    BT = B.transpose()\n",
    "  \n",
    "    specVar = (0.01 * universe['SpecRisk']) ** 2\n",
    "    Fvar = diagonal_factor_cov(date, B)\n",
    "    \n",
    "    Lambda = get_lambda(universe)\n",
    "    B_alpha = get_B_alpha(alpha_factors, universe)\n",
    "    alpha_vec = get_alpha_vec(B_alpha)\n",
    "  \n",
    "    Q = np.matmul(scipy.linalg.sqrtm(Fvar), BT)\n",
    "    QT = Q.transpose()\n",
    "    \n",
    "    h_star = get_h_star(risk_aversion, Q, QT, specVar, alpha_vec, h0, Lambda)\n",
    "    opt_portfolio = pd.DataFrame(data = {\"Barrid\" : universe['Barrid'], \"h.opt\" : h_star})\n",
    "    \n",
    "    risk_exposures = get_risk_exposures(B, BT, h_star)\n",
    "    portfolio_alpha_exposure = get_portfolio_alpha_exposure(B_alpha, h_star)\n",
    "    total_transaction_costs = get_total_transaction_costs(h0, h_star, Lambda)\n",
    "  \n",
    "    return {\n",
    "        \"opt.portfolio\" : opt_portfolio, \n",
    "        \"risk.exposures\" : risk_exposures, \n",
    "        \"alpha.exposures\" : portfolio_alpha_exposure,\n",
    "        \"total.cost\" : total_transaction_costs}"
   ]
  },
  {
   "cell_type": "markdown",
   "metadata": {},
   "source": [
    "## Build tradelist\n",
    "\n",
    "The trade list is the most recent optimal asset holdings minus the previous day's optimal holdings."
   ]
  },
  {
   "cell_type": "code",
   "execution_count": 71,
   "metadata": {},
   "outputs": [],
   "source": [
    "def build_tradelist(prev_holdings, opt_result):\n",
    "    tmp = prev_holdings.merge(opt_result['opt.portfolio'], how='outer', on = 'Barrid')\n",
    "    tmp['h.opt.previous'] = np.nan_to_num(tmp['h.opt.previous'])\n",
    "    tmp['h.opt'] = np.nan_to_num(tmp['h.opt'])\n",
    "    return tmp"
   ]
  },
  {
   "cell_type": "markdown",
   "metadata": {},
   "source": [
    "## Save optimal holdings as previous optimal holdings.\n",
    "\n",
    "As we walk through each day, we'll re-use the column for previous holdings by storing the \"current\" optimal holdings as the \"previous\" optimal holdings."
   ]
  },
  {
   "cell_type": "code",
   "execution_count": 72,
   "metadata": {},
   "outputs": [],
   "source": [
    "def convert_to_previous(result): \n",
    "    prev = result['opt.portfolio']\n",
    "    prev = prev.rename(index=str, columns={\"h.opt\": \"h.opt.previous\"}, copy=True, inplace=False)\n",
    "    return prev"
   ]
  },
  {
   "cell_type": "markdown",
   "metadata": {},
   "source": [
    "## Run the backtest\n",
    "\n",
    "Walk through each day, calculating the optimal portfolio holdings and trade list.  This may take some time, but should finish sooner if you've chosen all the optimizations you learned in the lessons."
   ]
  },
  {
   "cell_type": "code",
   "execution_count": 73,
   "metadata": {},
   "outputs": [
    {
     "name": "stderr",
     "output_type": "stream",
     "text": [
      "Optimizing Portfolio:   0%|          | 1/252 [00:10<43:19, 10.36s/day]"
     ]
    },
    {
     "name": "stdout",
     "output_type": "stream",
     "text": [
      "B.shape: (2265, 77), BT.shape:(77, 2265) , h_star.shape: (2265,)\n",
      "risk_exposures.shape: (77,)\n",
      "B_alpha.shape: (2265, 4), h_star.shape: (2265,)\n",
      "h0.shape: (2265,), h_star.shape:(2265,), Lambda.shape: (2265,)\n",
      "total_transaction_costs: 0.0\n"
     ]
    },
    {
     "name": "stderr",
     "output_type": "stream",
     "text": [
      "\r",
      "Optimizing Portfolio:   1%|          | 2/252 [00:20<43:38, 10.48s/day]"
     ]
    },
    {
     "name": "stdout",
     "output_type": "stream",
     "text": [
      "B.shape: (2284, 77), BT.shape:(77, 2284) , h_star.shape: (2284,)\n",
      "risk_exposures.shape: (77,)\n",
      "B_alpha.shape: (2284, 4), h_star.shape: (2284,)\n",
      "h0.shape: (2284,), h_star.shape:(2284,), Lambda.shape: (2284,)\n",
      "total_transaction_costs: 0.0\n"
     ]
    },
    {
     "name": "stderr",
     "output_type": "stream",
     "text": [
      "\r",
      "Optimizing Portfolio:   1%|          | 3/252 [00:30<42:10, 10.16s/day]"
     ]
    },
    {
     "name": "stdout",
     "output_type": "stream",
     "text": [
      "B.shape: (2284, 77), BT.shape:(77, 2284) , h_star.shape: (2284,)\n",
      "risk_exposures.shape: (77,)\n",
      "B_alpha.shape: (2284, 4), h_star.shape: (2284,)\n",
      "h0.shape: (2284,), h_star.shape:(2284,), Lambda.shape: (2284,)\n",
      "total_transaction_costs: 0.0\n"
     ]
    },
    {
     "name": "stderr",
     "output_type": "stream",
     "text": [
      "\r",
      "Optimizing Portfolio:   2%|▏         | 4/252 [00:39<41:08,  9.95s/day]"
     ]
    },
    {
     "name": "stdout",
     "output_type": "stream",
     "text": [
      "B.shape: (2288, 77), BT.shape:(77, 2288) , h_star.shape: (2288,)\n",
      "risk_exposures.shape: (77,)\n",
      "B_alpha.shape: (2288, 4), h_star.shape: (2288,)\n",
      "h0.shape: (2288,), h_star.shape:(2288,), Lambda.shape: (2288,)\n",
      "total_transaction_costs: 0.0\n"
     ]
    },
    {
     "name": "stderr",
     "output_type": "stream",
     "text": [
      "\r",
      "Optimizing Portfolio:   2%|▏         | 5/252 [00:49<40:30,  9.84s/day]"
     ]
    },
    {
     "name": "stdout",
     "output_type": "stream",
     "text": [
      "B.shape: (2299, 77), BT.shape:(77, 2299) , h_star.shape: (2299,)\n",
      "risk_exposures.shape: (77,)\n",
      "B_alpha.shape: (2299, 4), h_star.shape: (2299,)\n",
      "h0.shape: (2299,), h_star.shape:(2299,), Lambda.shape: (2299,)\n",
      "total_transaction_costs: 0.0\n"
     ]
    },
    {
     "name": "stderr",
     "output_type": "stream",
     "text": [
      "\r",
      "Optimizing Portfolio:   2%|▏         | 6/252 [00:58<39:59,  9.75s/day]"
     ]
    },
    {
     "name": "stdout",
     "output_type": "stream",
     "text": [
      "B.shape: (2297, 77), BT.shape:(77, 2297) , h_star.shape: (2297,)\n",
      "risk_exposures.shape: (77,)\n",
      "B_alpha.shape: (2297, 4), h_star.shape: (2297,)\n",
      "h0.shape: (2297,), h_star.shape:(2297,), Lambda.shape: (2297,)\n",
      "total_transaction_costs: 0.0\n"
     ]
    },
    {
     "name": "stderr",
     "output_type": "stream",
     "text": [
      "\r",
      "Optimizing Portfolio:   3%|▎         | 7/252 [01:07<39:35,  9.70s/day]"
     ]
    },
    {
     "name": "stdout",
     "output_type": "stream",
     "text": [
      "B.shape: (2309, 77), BT.shape:(77, 2309) , h_star.shape: (2309,)\n",
      "risk_exposures.shape: (77,)\n",
      "B_alpha.shape: (2309, 4), h_star.shape: (2309,)\n",
      "h0.shape: (2309,), h_star.shape:(2309,), Lambda.shape: (2309,)\n",
      "total_transaction_costs: 0.0\n"
     ]
    },
    {
     "name": "stderr",
     "output_type": "stream",
     "text": [
      "\r",
      "Optimizing Portfolio:   3%|▎         | 8/252 [01:17<39:13,  9.65s/day]"
     ]
    },
    {
     "name": "stdout",
     "output_type": "stream",
     "text": [
      "B.shape: (2301, 77), BT.shape:(77, 2301) , h_star.shape: (2301,)\n",
      "risk_exposures.shape: (77,)\n",
      "B_alpha.shape: (2301, 4), h_star.shape: (2301,)\n",
      "h0.shape: (2301,), h_star.shape:(2301,), Lambda.shape: (2301,)\n",
      "total_transaction_costs: 0.0\n"
     ]
    },
    {
     "name": "stderr",
     "output_type": "stream",
     "text": [
      "\r",
      "Optimizing Portfolio:   4%|▎         | 9/252 [01:26<38:56,  9.61s/day]"
     ]
    },
    {
     "name": "stdout",
     "output_type": "stream",
     "text": [
      "B.shape: (2309, 77), BT.shape:(77, 2309) , h_star.shape: (2309,)\n",
      "risk_exposures.shape: (77,)\n",
      "B_alpha.shape: (2309, 4), h_star.shape: (2309,)\n",
      "h0.shape: (2309,), h_star.shape:(2309,), Lambda.shape: (2309,)\n",
      "total_transaction_costs: 0.0\n"
     ]
    },
    {
     "name": "stderr",
     "output_type": "stream",
     "text": [
      "\r",
      "Optimizing Portfolio:   4%|▍         | 10/252 [01:35<38:40,  9.59s/day]"
     ]
    },
    {
     "name": "stdout",
     "output_type": "stream",
     "text": [
      "B.shape: (2304, 77), BT.shape:(77, 2304) , h_star.shape: (2304,)\n",
      "risk_exposures.shape: (77,)\n",
      "B_alpha.shape: (2304, 4), h_star.shape: (2304,)\n",
      "h0.shape: (2304,), h_star.shape:(2304,), Lambda.shape: (2304,)\n",
      "total_transaction_costs: 0.0\n"
     ]
    },
    {
     "name": "stderr",
     "output_type": "stream",
     "text": [
      "\r",
      "Optimizing Portfolio:   4%|▍         | 11/252 [01:45<38:26,  9.57s/day]"
     ]
    },
    {
     "name": "stdout",
     "output_type": "stream",
     "text": [
      "B.shape: (2311, 77), BT.shape:(77, 2311) , h_star.shape: (2311,)\n",
      "risk_exposures.shape: (77,)\n",
      "B_alpha.shape: (2311, 4), h_star.shape: (2311,)\n",
      "h0.shape: (2311,), h_star.shape:(2311,), Lambda.shape: (2311,)\n",
      "total_transaction_costs: 0.0\n"
     ]
    },
    {
     "name": "stderr",
     "output_type": "stream",
     "text": [
      "\r",
      "Optimizing Portfolio:   5%|▍         | 12/252 [01:54<38:14,  9.56s/day]"
     ]
    },
    {
     "name": "stdout",
     "output_type": "stream",
     "text": [
      "B.shape: (2333, 77), BT.shape:(77, 2333) , h_star.shape: (2333,)\n",
      "risk_exposures.shape: (77,)\n",
      "B_alpha.shape: (2333, 4), h_star.shape: (2333,)\n",
      "h0.shape: (2333,), h_star.shape:(2333,), Lambda.shape: (2333,)\n",
      "total_transaction_costs: 0.0\n"
     ]
    },
    {
     "name": "stderr",
     "output_type": "stream",
     "text": [
      "\r",
      "Optimizing Portfolio:   5%|▌         | 13/252 [02:04<38:01,  9.55s/day]"
     ]
    },
    {
     "name": "stdout",
     "output_type": "stream",
     "text": [
      "B.shape: (2325, 77), BT.shape:(77, 2325) , h_star.shape: (2325,)\n",
      "risk_exposures.shape: (77,)\n",
      "B_alpha.shape: (2325, 4), h_star.shape: (2325,)\n",
      "h0.shape: (2325,), h_star.shape:(2325,), Lambda.shape: (2325,)\n",
      "total_transaction_costs: 0.0\n"
     ]
    },
    {
     "name": "stderr",
     "output_type": "stream",
     "text": [
      "\r",
      "Optimizing Portfolio:   6%|▌         | 14/252 [02:13<37:48,  9.53s/day]"
     ]
    },
    {
     "name": "stdout",
     "output_type": "stream",
     "text": [
      "B.shape: (2324, 77), BT.shape:(77, 2324) , h_star.shape: (2324,)\n",
      "risk_exposures.shape: (77,)\n",
      "B_alpha.shape: (2324, 4), h_star.shape: (2324,)\n",
      "h0.shape: (2324,), h_star.shape:(2324,), Lambda.shape: (2324,)\n",
      "total_transaction_costs: 0.0\n"
     ]
    },
    {
     "name": "stderr",
     "output_type": "stream",
     "text": [
      "\r",
      "Optimizing Portfolio:   6%|▌         | 15/252 [02:22<37:36,  9.52s/day]"
     ]
    },
    {
     "name": "stdout",
     "output_type": "stream",
     "text": [
      "B.shape: (2330, 77), BT.shape:(77, 2330) , h_star.shape: (2330,)\n",
      "risk_exposures.shape: (77,)\n",
      "B_alpha.shape: (2330, 4), h_star.shape: (2330,)\n",
      "h0.shape: (2330,), h_star.shape:(2330,), Lambda.shape: (2330,)\n",
      "total_transaction_costs: 0.0\n"
     ]
    },
    {
     "name": "stderr",
     "output_type": "stream",
     "text": [
      "\r",
      "Optimizing Portfolio:   6%|▋         | 16/252 [02:32<37:26,  9.52s/day]"
     ]
    },
    {
     "name": "stdout",
     "output_type": "stream",
     "text": [
      "B.shape: (2335, 77), BT.shape:(77, 2335) , h_star.shape: (2335,)\n",
      "risk_exposures.shape: (77,)\n",
      "B_alpha.shape: (2335, 4), h_star.shape: (2335,)\n",
      "h0.shape: (2335,), h_star.shape:(2335,), Lambda.shape: (2335,)\n",
      "total_transaction_costs: 0.0\n"
     ]
    },
    {
     "name": "stderr",
     "output_type": "stream",
     "text": [
      "\r",
      "Optimizing Portfolio:   7%|▋         | 17/252 [02:42<37:24,  9.55s/day]"
     ]
    },
    {
     "name": "stdout",
     "output_type": "stream",
     "text": [
      "B.shape: (2326, 77), BT.shape:(77, 2326) , h_star.shape: (2326,)\n",
      "risk_exposures.shape: (77,)\n",
      "B_alpha.shape: (2326, 4), h_star.shape: (2326,)\n",
      "h0.shape: (2326,), h_star.shape:(2326,), Lambda.shape: (2326,)\n",
      "total_transaction_costs: 0.0\n"
     ]
    },
    {
     "name": "stderr",
     "output_type": "stream",
     "text": [
      "\r",
      "Optimizing Portfolio:   7%|▋         | 18/252 [02:56<38:09,  9.78s/day]"
     ]
    },
    {
     "name": "stdout",
     "output_type": "stream",
     "text": [
      "B.shape: (2312, 77), BT.shape:(77, 2312) , h_star.shape: (2312,)\n",
      "risk_exposures.shape: (77,)\n",
      "B_alpha.shape: (2312, 4), h_star.shape: (2312,)\n",
      "h0.shape: (2312,), h_star.shape:(2312,), Lambda.shape: (2312,)\n",
      "total_transaction_costs: 0.0\n"
     ]
    },
    {
     "name": "stderr",
     "output_type": "stream",
     "text": [
      "\r",
      "Optimizing Portfolio:   8%|▊         | 19/252 [03:09<38:46,  9.98s/day]"
     ]
    },
    {
     "name": "stdout",
     "output_type": "stream",
     "text": [
      "B.shape: (2298, 77), BT.shape:(77, 2298) , h_star.shape: (2298,)\n",
      "risk_exposures.shape: (77,)\n",
      "B_alpha.shape: (2298, 4), h_star.shape: (2298,)\n",
      "h0.shape: (2298,), h_star.shape:(2298,), Lambda.shape: (2298,)\n",
      "total_transaction_costs: 0.0\n"
     ]
    },
    {
     "name": "stderr",
     "output_type": "stream",
     "text": [
      "\r",
      "Optimizing Portfolio:   8%|▊         | 20/252 [03:22<39:10, 10.13s/day]"
     ]
    },
    {
     "name": "stdout",
     "output_type": "stream",
     "text": [
      "B.shape: (2295, 77), BT.shape:(77, 2295) , h_star.shape: (2295,)\n",
      "risk_exposures.shape: (77,)\n",
      "B_alpha.shape: (2295, 4), h_star.shape: (2295,)\n",
      "h0.shape: (2295,), h_star.shape:(2295,), Lambda.shape: (2295,)\n",
      "total_transaction_costs: 0.0\n"
     ]
    },
    {
     "name": "stderr",
     "output_type": "stream",
     "text": [
      "\r",
      "Optimizing Portfolio:   8%|▊         | 21/252 [03:38<40:08, 10.43s/day]"
     ]
    },
    {
     "name": "stdout",
     "output_type": "stream",
     "text": [
      "B.shape: (2299, 77), BT.shape:(77, 2299) , h_star.shape: (2299,)\n",
      "risk_exposures.shape: (77,)\n",
      "B_alpha.shape: (2299, 4), h_star.shape: (2299,)\n",
      "h0.shape: (2299,), h_star.shape:(2299,), Lambda.shape: (2299,)\n",
      "total_transaction_costs: 0.0\n"
     ]
    },
    {
     "name": "stderr",
     "output_type": "stream",
     "text": [
      "\r",
      "Optimizing Portfolio:   9%|▊         | 22/252 [03:56<41:09, 10.74s/day]"
     ]
    },
    {
     "name": "stdout",
     "output_type": "stream",
     "text": [
      "B.shape: (2294, 77), BT.shape:(77, 2294) , h_star.shape: (2294,)\n",
      "risk_exposures.shape: (77,)\n",
      "B_alpha.shape: (2294, 4), h_star.shape: (2294,)\n",
      "h0.shape: (2294,), h_star.shape:(2294,), Lambda.shape: (2294,)\n",
      "total_transaction_costs: 0.0\n"
     ]
    },
    {
     "name": "stderr",
     "output_type": "stream",
     "text": [
      "\r",
      "Optimizing Portfolio:   9%|▉         | 23/252 [04:08<41:13, 10.80s/day]"
     ]
    },
    {
     "name": "stdout",
     "output_type": "stream",
     "text": [
      "B.shape: (2279, 77), BT.shape:(77, 2279) , h_star.shape: (2279,)\n",
      "risk_exposures.shape: (77,)\n",
      "B_alpha.shape: (2279, 4), h_star.shape: (2279,)\n",
      "h0.shape: (2279,), h_star.shape:(2279,), Lambda.shape: (2279,)\n",
      "total_transaction_costs: 0.0\n"
     ]
    },
    {
     "name": "stderr",
     "output_type": "stream",
     "text": [
      "\r",
      "Optimizing Portfolio:  10%|▉         | 24/252 [04:25<42:00, 11.05s/day]"
     ]
    },
    {
     "name": "stdout",
     "output_type": "stream",
     "text": [
      "B.shape: (2289, 77), BT.shape:(77, 2289) , h_star.shape: (2289,)\n",
      "risk_exposures.shape: (77,)\n",
      "B_alpha.shape: (2289, 4), h_star.shape: (2289,)\n",
      "h0.shape: (2289,), h_star.shape:(2289,), Lambda.shape: (2289,)\n",
      "total_transaction_costs: 0.0\n"
     ]
    },
    {
     "name": "stderr",
     "output_type": "stream",
     "text": [
      "\r",
      "Optimizing Portfolio:  10%|▉         | 25/252 [04:36<41:50, 11.06s/day]"
     ]
    },
    {
     "name": "stdout",
     "output_type": "stream",
     "text": [
      "B.shape: (2305, 77), BT.shape:(77, 2305) , h_star.shape: (2305,)\n",
      "risk_exposures.shape: (77,)\n",
      "B_alpha.shape: (2305, 4), h_star.shape: (2305,)\n",
      "h0.shape: (2305,), h_star.shape:(2305,), Lambda.shape: (2305,)\n",
      "total_transaction_costs: 0.0\n"
     ]
    },
    {
     "name": "stderr",
     "output_type": "stream",
     "text": [
      "\r",
      "Optimizing Portfolio:  10%|█         | 26/252 [04:46<41:34, 11.04s/day]"
     ]
    },
    {
     "name": "stdout",
     "output_type": "stream",
     "text": [
      "B.shape: (2310, 77), BT.shape:(77, 2310) , h_star.shape: (2310,)\n",
      "risk_exposures.shape: (77,)\n",
      "B_alpha.shape: (2310, 4), h_star.shape: (2310,)\n",
      "h0.shape: (2310,), h_star.shape:(2310,), Lambda.shape: (2310,)\n",
      "total_transaction_costs: 0.0\n"
     ]
    },
    {
     "name": "stderr",
     "output_type": "stream",
     "text": [
      "\r",
      "Optimizing Portfolio:  11%|█         | 27/252 [05:00<41:41, 11.12s/day]"
     ]
    },
    {
     "name": "stdout",
     "output_type": "stream",
     "text": [
      "B.shape: (2318, 77), BT.shape:(77, 2318) , h_star.shape: (2318,)\n",
      "risk_exposures.shape: (77,)\n",
      "B_alpha.shape: (2318, 4), h_star.shape: (2318,)\n",
      "h0.shape: (2318,), h_star.shape:(2318,), Lambda.shape: (2318,)\n",
      "total_transaction_costs: 0.0\n"
     ]
    },
    {
     "name": "stderr",
     "output_type": "stream",
     "text": [
      "\r",
      "Optimizing Portfolio:  11%|█         | 28/252 [05:11<41:32, 11.13s/day]"
     ]
    },
    {
     "name": "stdout",
     "output_type": "stream",
     "text": [
      "B.shape: (2324, 77), BT.shape:(77, 2324) , h_star.shape: (2324,)\n",
      "risk_exposures.shape: (77,)\n",
      "B_alpha.shape: (2324, 4), h_star.shape: (2324,)\n",
      "h0.shape: (2324,), h_star.shape:(2324,), Lambda.shape: (2324,)\n",
      "total_transaction_costs: 0.0\n"
     ]
    },
    {
     "name": "stderr",
     "output_type": "stream",
     "text": [
      "\r",
      "Optimizing Portfolio:  12%|█▏        | 29/252 [05:25<41:42, 11.22s/day]"
     ]
    },
    {
     "name": "stdout",
     "output_type": "stream",
     "text": [
      "B.shape: (2324, 77), BT.shape:(77, 2324) , h_star.shape: (2324,)\n",
      "risk_exposures.shape: (77,)\n",
      "B_alpha.shape: (2324, 4), h_star.shape: (2324,)\n",
      "h0.shape: (2324,), h_star.shape:(2324,), Lambda.shape: (2324,)\n",
      "total_transaction_costs: 0.0\n"
     ]
    },
    {
     "name": "stderr",
     "output_type": "stream",
     "text": [
      "\r",
      "Optimizing Portfolio:  12%|█▏        | 30/252 [05:41<42:08, 11.39s/day]"
     ]
    },
    {
     "name": "stdout",
     "output_type": "stream",
     "text": [
      "B.shape: (2318, 77), BT.shape:(77, 2318) , h_star.shape: (2318,)\n",
      "risk_exposures.shape: (77,)\n",
      "B_alpha.shape: (2318, 4), h_star.shape: (2318,)\n",
      "h0.shape: (2318,), h_star.shape:(2318,), Lambda.shape: (2318,)\n",
      "total_transaction_costs: 0.0\n"
     ]
    },
    {
     "name": "stderr",
     "output_type": "stream",
     "text": [
      "\r",
      "Optimizing Portfolio:  12%|█▏        | 31/252 [06:01<42:56, 11.66s/day]"
     ]
    },
    {
     "name": "stdout",
     "output_type": "stream",
     "text": [
      "B.shape: (2328, 77), BT.shape:(77, 2328) , h_star.shape: (2328,)\n",
      "risk_exposures.shape: (77,)\n",
      "B_alpha.shape: (2328, 4), h_star.shape: (2328,)\n",
      "h0.shape: (2328,), h_star.shape:(2328,), Lambda.shape: (2328,)\n",
      "total_transaction_costs: 0.0\n"
     ]
    },
    {
     "name": "stderr",
     "output_type": "stream",
     "text": [
      "\r",
      "Optimizing Portfolio:  13%|█▎        | 32/252 [06:12<42:38, 11.63s/day]"
     ]
    },
    {
     "name": "stdout",
     "output_type": "stream",
     "text": [
      "B.shape: (2326, 77), BT.shape:(77, 2326) , h_star.shape: (2326,)\n",
      "risk_exposures.shape: (77,)\n",
      "B_alpha.shape: (2326, 4), h_star.shape: (2326,)\n",
      "h0.shape: (2326,), h_star.shape:(2326,), Lambda.shape: (2326,)\n",
      "total_transaction_costs: 0.0\n"
     ]
    },
    {
     "name": "stderr",
     "output_type": "stream",
     "text": [
      "\r",
      "Optimizing Portfolio:  13%|█▎        | 33/252 [06:21<42:14, 11.57s/day]"
     ]
    },
    {
     "name": "stdout",
     "output_type": "stream",
     "text": [
      "B.shape: (2314, 77), BT.shape:(77, 2314) , h_star.shape: (2314,)\n",
      "risk_exposures.shape: (77,)\n",
      "B_alpha.shape: (2314, 4), h_star.shape: (2314,)\n",
      "h0.shape: (2314,), h_star.shape:(2314,), Lambda.shape: (2314,)\n",
      "total_transaction_costs: 0.0\n"
     ]
    },
    {
     "name": "stderr",
     "output_type": "stream",
     "text": [
      "\r",
      "Optimizing Portfolio:  13%|█▎        | 34/252 [06:31<41:49, 11.51s/day]"
     ]
    },
    {
     "name": "stdout",
     "output_type": "stream",
     "text": [
      "B.shape: (2307, 77), BT.shape:(77, 2307) , h_star.shape: (2307,)\n",
      "risk_exposures.shape: (77,)\n",
      "B_alpha.shape: (2307, 4), h_star.shape: (2307,)\n",
      "h0.shape: (2307,), h_star.shape:(2307,), Lambda.shape: (2307,)\n",
      "total_transaction_costs: 0.0\n"
     ]
    },
    {
     "name": "stderr",
     "output_type": "stream",
     "text": [
      "\r",
      "Optimizing Portfolio:  14%|█▍        | 35/252 [06:40<41:25, 11.46s/day]"
     ]
    },
    {
     "name": "stdout",
     "output_type": "stream",
     "text": [
      "B.shape: (2294, 77), BT.shape:(77, 2294) , h_star.shape: (2294,)\n",
      "risk_exposures.shape: (77,)\n",
      "B_alpha.shape: (2294, 4), h_star.shape: (2294,)\n",
      "h0.shape: (2294,), h_star.shape:(2294,), Lambda.shape: (2294,)\n",
      "total_transaction_costs: 0.0\n"
     ]
    },
    {
     "name": "stderr",
     "output_type": "stream",
     "text": [
      "\r",
      "Optimizing Portfolio:  14%|█▍        | 36/252 [06:50<41:02, 11.40s/day]"
     ]
    },
    {
     "name": "stdout",
     "output_type": "stream",
     "text": [
      "B.shape: (2303, 77), BT.shape:(77, 2303) , h_star.shape: (2303,)\n",
      "risk_exposures.shape: (77,)\n",
      "B_alpha.shape: (2303, 4), h_star.shape: (2303,)\n",
      "h0.shape: (2303,), h_star.shape:(2303,), Lambda.shape: (2303,)\n",
      "total_transaction_costs: 0.0\n"
     ]
    },
    {
     "name": "stderr",
     "output_type": "stream",
     "text": [
      "\r",
      "Optimizing Portfolio:  15%|█▍        | 37/252 [06:59<40:40, 11.35s/day]"
     ]
    },
    {
     "name": "stdout",
     "output_type": "stream",
     "text": [
      "B.shape: (2312, 77), BT.shape:(77, 2312) , h_star.shape: (2312,)\n",
      "risk_exposures.shape: (77,)\n",
      "B_alpha.shape: (2312, 4), h_star.shape: (2312,)\n",
      "h0.shape: (2312,), h_star.shape:(2312,), Lambda.shape: (2312,)\n",
      "total_transaction_costs: 0.0\n"
     ]
    },
    {
     "name": "stderr",
     "output_type": "stream",
     "text": [
      "\r",
      "Optimizing Portfolio:  15%|█▌        | 38/252 [07:09<40:17, 11.30s/day]"
     ]
    },
    {
     "name": "stdout",
     "output_type": "stream",
     "text": [
      "B.shape: (2311, 77), BT.shape:(77, 2311) , h_star.shape: (2311,)\n",
      "risk_exposures.shape: (77,)\n",
      "B_alpha.shape: (2311, 4), h_star.shape: (2311,)\n",
      "h0.shape: (2311,), h_star.shape:(2311,), Lambda.shape: (2311,)\n",
      "total_transaction_costs: 0.0\n"
     ]
    },
    {
     "name": "stderr",
     "output_type": "stream",
     "text": [
      "\r",
      "Optimizing Portfolio:  15%|█▌        | 39/252 [07:18<39:56, 11.25s/day]"
     ]
    },
    {
     "name": "stdout",
     "output_type": "stream",
     "text": [
      "B.shape: (2314, 77), BT.shape:(77, 2314) , h_star.shape: (2314,)\n",
      "risk_exposures.shape: (77,)\n",
      "B_alpha.shape: (2314, 4), h_star.shape: (2314,)\n",
      "h0.shape: (2314,), h_star.shape:(2314,), Lambda.shape: (2314,)\n",
      "total_transaction_costs: 0.0\n"
     ]
    },
    {
     "name": "stderr",
     "output_type": "stream",
     "text": [
      "\r",
      "Optimizing Portfolio:  16%|█▌        | 40/252 [07:28<39:35, 11.20s/day]"
     ]
    },
    {
     "name": "stdout",
     "output_type": "stream",
     "text": [
      "B.shape: (2344, 77), BT.shape:(77, 2344) , h_star.shape: (2344,)\n",
      "risk_exposures.shape: (77,)\n",
      "B_alpha.shape: (2344, 4), h_star.shape: (2344,)\n",
      "h0.shape: (2344,), h_star.shape:(2344,), Lambda.shape: (2344,)\n",
      "total_transaction_costs: 0.0\n"
     ]
    },
    {
     "name": "stderr",
     "output_type": "stream",
     "text": [
      "\r",
      "Optimizing Portfolio:  16%|█▋        | 41/252 [07:37<39:14, 11.16s/day]"
     ]
    },
    {
     "name": "stdout",
     "output_type": "stream",
     "text": [
      "B.shape: (2339, 77), BT.shape:(77, 2339) , h_star.shape: (2339,)\n",
      "risk_exposures.shape: (77,)\n",
      "B_alpha.shape: (2339, 4), h_star.shape: (2339,)\n",
      "h0.shape: (2339,), h_star.shape:(2339,), Lambda.shape: (2339,)\n",
      "total_transaction_costs: 0.0\n"
     ]
    },
    {
     "name": "stderr",
     "output_type": "stream",
     "text": [
      "\r",
      "Optimizing Portfolio:  17%|█▋        | 42/252 [07:46<38:54, 11.12s/day]"
     ]
    },
    {
     "name": "stdout",
     "output_type": "stream",
     "text": [
      "B.shape: (2336, 77), BT.shape:(77, 2336) , h_star.shape: (2336,)\n",
      "risk_exposures.shape: (77,)\n",
      "B_alpha.shape: (2336, 4), h_star.shape: (2336,)\n",
      "h0.shape: (2336,), h_star.shape:(2336,), Lambda.shape: (2336,)\n",
      "total_transaction_costs: 0.0\n"
     ]
    },
    {
     "name": "stderr",
     "output_type": "stream",
     "text": [
      "\r",
      "Optimizing Portfolio:  17%|█▋        | 43/252 [07:56<38:35, 11.08s/day]"
     ]
    },
    {
     "name": "stdout",
     "output_type": "stream",
     "text": [
      "B.shape: (2342, 77), BT.shape:(77, 2342) , h_star.shape: (2342,)\n",
      "risk_exposures.shape: (77,)\n",
      "B_alpha.shape: (2342, 4), h_star.shape: (2342,)\n",
      "h0.shape: (2342,), h_star.shape:(2342,), Lambda.shape: (2342,)\n",
      "total_transaction_costs: 0.0\n"
     ]
    },
    {
     "name": "stderr",
     "output_type": "stream",
     "text": [
      "\r",
      "Optimizing Portfolio:  17%|█▋        | 44/252 [08:05<38:15, 11.04s/day]"
     ]
    },
    {
     "name": "stdout",
     "output_type": "stream",
     "text": [
      "B.shape: (2346, 77), BT.shape:(77, 2346) , h_star.shape: (2346,)\n",
      "risk_exposures.shape: (77,)\n",
      "B_alpha.shape: (2346, 4), h_star.shape: (2346,)\n",
      "h0.shape: (2346,), h_star.shape:(2346,), Lambda.shape: (2346,)\n",
      "total_transaction_costs: 0.0\n"
     ]
    },
    {
     "name": "stderr",
     "output_type": "stream",
     "text": [
      "\r",
      "Optimizing Portfolio:  18%|█▊        | 45/252 [08:14<37:56, 11.00s/day]"
     ]
    },
    {
     "name": "stdout",
     "output_type": "stream",
     "text": [
      "B.shape: (2325, 77), BT.shape:(77, 2325) , h_star.shape: (2325,)\n",
      "risk_exposures.shape: (77,)\n",
      "B_alpha.shape: (2325, 4), h_star.shape: (2325,)\n",
      "h0.shape: (2325,), h_star.shape:(2325,), Lambda.shape: (2325,)\n",
      "total_transaction_costs: 0.0\n"
     ]
    },
    {
     "name": "stderr",
     "output_type": "stream",
     "text": [
      "\r",
      "Optimizing Portfolio:  18%|█▊        | 46/252 [08:24<37:38, 10.96s/day]"
     ]
    },
    {
     "name": "stdout",
     "output_type": "stream",
     "text": [
      "B.shape: (2317, 77), BT.shape:(77, 2317) , h_star.shape: (2317,)\n",
      "risk_exposures.shape: (77,)\n",
      "B_alpha.shape: (2317, 4), h_star.shape: (2317,)\n",
      "h0.shape: (2317,), h_star.shape:(2317,), Lambda.shape: (2317,)\n",
      "total_transaction_costs: 0.0\n"
     ]
    },
    {
     "name": "stderr",
     "output_type": "stream",
     "text": [
      "\r",
      "Optimizing Portfolio:  19%|█▊        | 47/252 [08:33<37:20, 10.93s/day]"
     ]
    },
    {
     "name": "stdout",
     "output_type": "stream",
     "text": [
      "B.shape: (2300, 77), BT.shape:(77, 2300) , h_star.shape: (2300,)\n",
      "risk_exposures.shape: (77,)\n",
      "B_alpha.shape: (2300, 4), h_star.shape: (2300,)\n",
      "h0.shape: (2300,), h_star.shape:(2300,), Lambda.shape: (2300,)\n",
      "total_transaction_costs: 0.0\n"
     ]
    },
    {
     "name": "stderr",
     "output_type": "stream",
     "text": [
      "\r",
      "Optimizing Portfolio:  19%|█▉        | 48/252 [08:42<37:02, 10.89s/day]"
     ]
    },
    {
     "name": "stdout",
     "output_type": "stream",
     "text": [
      "B.shape: (2290, 77), BT.shape:(77, 2290) , h_star.shape: (2290,)\n",
      "risk_exposures.shape: (77,)\n",
      "B_alpha.shape: (2290, 4), h_star.shape: (2290,)\n",
      "h0.shape: (2290,), h_star.shape:(2290,), Lambda.shape: (2290,)\n",
      "total_transaction_costs: 0.0\n"
     ]
    },
    {
     "name": "stderr",
     "output_type": "stream",
     "text": [
      "\r",
      "Optimizing Portfolio:  19%|█▉        | 49/252 [08:52<36:45, 10.86s/day]"
     ]
    },
    {
     "name": "stdout",
     "output_type": "stream",
     "text": [
      "B.shape: (2310, 77), BT.shape:(77, 2310) , h_star.shape: (2310,)\n",
      "risk_exposures.shape: (77,)\n",
      "B_alpha.shape: (2310, 4), h_star.shape: (2310,)\n",
      "h0.shape: (2310,), h_star.shape:(2310,), Lambda.shape: (2310,)\n",
      "total_transaction_costs: 0.0\n"
     ]
    },
    {
     "name": "stderr",
     "output_type": "stream",
     "text": [
      "\r",
      "Optimizing Portfolio:  20%|█▉        | 50/252 [09:01<36:28, 10.83s/day]"
     ]
    },
    {
     "name": "stdout",
     "output_type": "stream",
     "text": [
      "B.shape: (2277, 77), BT.shape:(77, 2277) , h_star.shape: (2277,)\n",
      "risk_exposures.shape: (77,)\n",
      "B_alpha.shape: (2277, 4), h_star.shape: (2277,)\n",
      "h0.shape: (2277,), h_star.shape:(2277,), Lambda.shape: (2277,)\n",
      "total_transaction_costs: 0.0\n"
     ]
    },
    {
     "name": "stderr",
     "output_type": "stream",
     "text": [
      "\r",
      "Optimizing Portfolio:  20%|██        | 51/252 [09:10<36:11, 10.80s/day]"
     ]
    },
    {
     "name": "stdout",
     "output_type": "stream",
     "text": [
      "B.shape: (2277, 77), BT.shape:(77, 2277) , h_star.shape: (2277,)\n",
      "risk_exposures.shape: (77,)\n",
      "B_alpha.shape: (2277, 4), h_star.shape: (2277,)\n",
      "h0.shape: (2277,), h_star.shape:(2277,), Lambda.shape: (2277,)\n",
      "total_transaction_costs: 0.0\n"
     ]
    },
    {
     "name": "stderr",
     "output_type": "stream",
     "text": [
      "\r",
      "Optimizing Portfolio:  21%|██        | 52/252 [09:20<35:54, 10.77s/day]"
     ]
    },
    {
     "name": "stdout",
     "output_type": "stream",
     "text": [
      "B.shape: (2293, 77), BT.shape:(77, 2293) , h_star.shape: (2293,)\n",
      "risk_exposures.shape: (77,)\n",
      "B_alpha.shape: (2293, 4), h_star.shape: (2293,)\n",
      "h0.shape: (2293,), h_star.shape:(2293,), Lambda.shape: (2293,)\n",
      "total_transaction_costs: 0.0\n"
     ]
    },
    {
     "name": "stderr",
     "output_type": "stream",
     "text": [
      "\r",
      "Optimizing Portfolio:  21%|██        | 53/252 [09:29<35:38, 10.75s/day]"
     ]
    },
    {
     "name": "stdout",
     "output_type": "stream",
     "text": [
      "B.shape: (2292, 77), BT.shape:(77, 2292) , h_star.shape: (2292,)\n",
      "risk_exposures.shape: (77,)\n",
      "B_alpha.shape: (2292, 4), h_star.shape: (2292,)\n",
      "h0.shape: (2292,), h_star.shape:(2292,), Lambda.shape: (2292,)\n",
      "total_transaction_costs: 0.0\n"
     ]
    },
    {
     "name": "stderr",
     "output_type": "stream",
     "text": [
      "\r",
      "Optimizing Portfolio:  21%|██▏       | 54/252 [09:39<35:23, 10.73s/day]"
     ]
    },
    {
     "name": "stdout",
     "output_type": "stream",
     "text": [
      "B.shape: (2283, 77), BT.shape:(77, 2283) , h_star.shape: (2283,)\n",
      "risk_exposures.shape: (77,)\n",
      "B_alpha.shape: (2283, 4), h_star.shape: (2283,)\n",
      "h0.shape: (2283,), h_star.shape:(2283,), Lambda.shape: (2283,)\n",
      "total_transaction_costs: 0.0\n"
     ]
    },
    {
     "name": "stderr",
     "output_type": "stream",
     "text": [
      "\r",
      "Optimizing Portfolio:  22%|██▏       | 55/252 [09:48<35:08, 10.70s/day]"
     ]
    },
    {
     "name": "stdout",
     "output_type": "stream",
     "text": [
      "B.shape: (2264, 77), BT.shape:(77, 2264) , h_star.shape: (2264,)\n",
      "risk_exposures.shape: (77,)\n",
      "B_alpha.shape: (2264, 4), h_star.shape: (2264,)\n",
      "h0.shape: (2264,), h_star.shape:(2264,), Lambda.shape: (2264,)\n",
      "total_transaction_costs: 0.0\n"
     ]
    },
    {
     "name": "stderr",
     "output_type": "stream",
     "text": [
      "\r",
      "Optimizing Portfolio:  22%|██▏       | 56/252 [09:57<34:52, 10.68s/day]"
     ]
    },
    {
     "name": "stdout",
     "output_type": "stream",
     "text": [
      "B.shape: (2265, 77), BT.shape:(77, 2265) , h_star.shape: (2265,)\n",
      "risk_exposures.shape: (77,)\n",
      "B_alpha.shape: (2265, 4), h_star.shape: (2265,)\n",
      "h0.shape: (2265,), h_star.shape:(2265,), Lambda.shape: (2265,)\n",
      "total_transaction_costs: 0.0\n"
     ]
    },
    {
     "name": "stderr",
     "output_type": "stream",
     "text": [
      "\r",
      "Optimizing Portfolio:  23%|██▎       | 57/252 [10:07<34:37, 10.65s/day]"
     ]
    },
    {
     "name": "stdout",
     "output_type": "stream",
     "text": [
      "B.shape: (2259, 77), BT.shape:(77, 2259) , h_star.shape: (2259,)\n",
      "risk_exposures.shape: (77,)\n",
      "B_alpha.shape: (2259, 4), h_star.shape: (2259,)\n",
      "h0.shape: (2259,), h_star.shape:(2259,), Lambda.shape: (2259,)\n",
      "total_transaction_costs: 0.0\n"
     ]
    },
    {
     "name": "stderr",
     "output_type": "stream",
     "text": [
      "\r",
      "Optimizing Portfolio:  23%|██▎       | 58/252 [10:20<34:35, 10.70s/day]"
     ]
    },
    {
     "name": "stdout",
     "output_type": "stream",
     "text": [
      "B.shape: (2277, 77), BT.shape:(77, 2277) , h_star.shape: (2277,)\n",
      "risk_exposures.shape: (77,)\n",
      "B_alpha.shape: (2277, 4), h_star.shape: (2277,)\n",
      "h0.shape: (2277,), h_star.shape:(2277,), Lambda.shape: (2277,)\n",
      "total_transaction_costs: 0.0\n"
     ]
    },
    {
     "name": "stderr",
     "output_type": "stream",
     "text": [
      "\r",
      "Optimizing Portfolio:  23%|██▎       | 59/252 [10:31<34:26, 10.71s/day]"
     ]
    },
    {
     "name": "stdout",
     "output_type": "stream",
     "text": [
      "B.shape: (2276, 77), BT.shape:(77, 2276) , h_star.shape: (2276,)\n",
      "risk_exposures.shape: (77,)\n",
      "B_alpha.shape: (2276, 4), h_star.shape: (2276,)\n",
      "h0.shape: (2276,), h_star.shape:(2276,), Lambda.shape: (2276,)\n",
      "total_transaction_costs: 0.0\n"
     ]
    },
    {
     "name": "stderr",
     "output_type": "stream",
     "text": [
      "\r",
      "Optimizing Portfolio:  24%|██▍       | 60/252 [10:42<34:15, 10.71s/day]"
     ]
    },
    {
     "name": "stdout",
     "output_type": "stream",
     "text": [
      "B.shape: (2301, 77), BT.shape:(77, 2301) , h_star.shape: (2301,)\n",
      "risk_exposures.shape: (77,)\n",
      "B_alpha.shape: (2301, 4), h_star.shape: (2301,)\n",
      "h0.shape: (2301,), h_star.shape:(2301,), Lambda.shape: (2301,)\n",
      "total_transaction_costs: 0.0\n"
     ]
    },
    {
     "name": "stderr",
     "output_type": "stream",
     "text": [
      "\r",
      "Optimizing Portfolio:  24%|██▍       | 61/252 [10:55<34:13, 10.75s/day]"
     ]
    },
    {
     "name": "stdout",
     "output_type": "stream",
     "text": [
      "B.shape: (2311, 77), BT.shape:(77, 2311) , h_star.shape: (2311,)\n",
      "risk_exposures.shape: (77,)\n",
      "B_alpha.shape: (2311, 4), h_star.shape: (2311,)\n",
      "h0.shape: (2311,), h_star.shape:(2311,), Lambda.shape: (2311,)\n",
      "total_transaction_costs: 0.0\n"
     ]
    },
    {
     "name": "stderr",
     "output_type": "stream",
     "text": [
      "\r",
      "Optimizing Portfolio:  25%|██▍       | 62/252 [11:10<34:15, 10.82s/day]"
     ]
    },
    {
     "name": "stdout",
     "output_type": "stream",
     "text": [
      "B.shape: (2310, 77), BT.shape:(77, 2310) , h_star.shape: (2310,)\n",
      "risk_exposures.shape: (77,)\n",
      "B_alpha.shape: (2310, 4), h_star.shape: (2310,)\n",
      "h0.shape: (2310,), h_star.shape:(2310,), Lambda.shape: (2310,)\n",
      "total_transaction_costs: 0.0\n"
     ]
    },
    {
     "name": "stderr",
     "output_type": "stream",
     "text": [
      "\r",
      "Optimizing Portfolio:  25%|██▌       | 63/252 [11:27<34:21, 10.91s/day]"
     ]
    },
    {
     "name": "stdout",
     "output_type": "stream",
     "text": [
      "B.shape: (2325, 77), BT.shape:(77, 2325) , h_star.shape: (2325,)\n",
      "risk_exposures.shape: (77,)\n",
      "B_alpha.shape: (2325, 4), h_star.shape: (2325,)\n",
      "h0.shape: (2325,), h_star.shape:(2325,), Lambda.shape: (2325,)\n",
      "total_transaction_costs: 0.0\n"
     ]
    },
    {
     "name": "stderr",
     "output_type": "stream",
     "text": [
      "\r",
      "Optimizing Portfolio:  25%|██▌       | 64/252 [11:42<34:22, 10.97s/day]"
     ]
    },
    {
     "name": "stdout",
     "output_type": "stream",
     "text": [
      "B.shape: (2342, 77), BT.shape:(77, 2342) , h_star.shape: (2342,)\n",
      "risk_exposures.shape: (77,)\n",
      "B_alpha.shape: (2342, 4), h_star.shape: (2342,)\n",
      "h0.shape: (2342,), h_star.shape:(2342,), Lambda.shape: (2342,)\n",
      "total_transaction_costs: 0.0\n"
     ]
    },
    {
     "name": "stderr",
     "output_type": "stream",
     "text": [
      "\r",
      "Optimizing Portfolio:  26%|██▌       | 65/252 [11:55<34:19, 11.01s/day]"
     ]
    },
    {
     "name": "stdout",
     "output_type": "stream",
     "text": [
      "B.shape: (2346, 77), BT.shape:(77, 2346) , h_star.shape: (2346,)\n",
      "risk_exposures.shape: (77,)\n",
      "B_alpha.shape: (2346, 4), h_star.shape: (2346,)\n",
      "h0.shape: (2346,), h_star.shape:(2346,), Lambda.shape: (2346,)\n",
      "total_transaction_costs: 0.0\n"
     ]
    },
    {
     "name": "stderr",
     "output_type": "stream",
     "text": [
      "\r",
      "Optimizing Portfolio:  26%|██▌       | 66/252 [12:10<34:19, 11.07s/day]"
     ]
    },
    {
     "name": "stdout",
     "output_type": "stream",
     "text": [
      "B.shape: (2337, 77), BT.shape:(77, 2337) , h_star.shape: (2337,)\n",
      "risk_exposures.shape: (77,)\n",
      "B_alpha.shape: (2337, 4), h_star.shape: (2337,)\n",
      "h0.shape: (2337,), h_star.shape:(2337,), Lambda.shape: (2337,)\n",
      "total_transaction_costs: 0.0\n"
     ]
    },
    {
     "name": "stderr",
     "output_type": "stream",
     "text": [
      "\r",
      "Optimizing Portfolio:  27%|██▋       | 67/252 [12:24<34:16, 11.11s/day]"
     ]
    },
    {
     "name": "stdout",
     "output_type": "stream",
     "text": [
      "B.shape: (2339, 77), BT.shape:(77, 2339) , h_star.shape: (2339,)\n",
      "risk_exposures.shape: (77,)\n",
      "B_alpha.shape: (2339, 4), h_star.shape: (2339,)\n",
      "h0.shape: (2339,), h_star.shape:(2339,), Lambda.shape: (2339,)\n",
      "total_transaction_costs: 0.0\n"
     ]
    },
    {
     "name": "stderr",
     "output_type": "stream",
     "text": [
      "\r",
      "Optimizing Portfolio:  27%|██▋       | 68/252 [12:40<34:17, 11.18s/day]"
     ]
    },
    {
     "name": "stdout",
     "output_type": "stream",
     "text": [
      "B.shape: (2326, 77), BT.shape:(77, 2326) , h_star.shape: (2326,)\n",
      "risk_exposures.shape: (77,)\n",
      "B_alpha.shape: (2326, 4), h_star.shape: (2326,)\n",
      "h0.shape: (2326,), h_star.shape:(2326,), Lambda.shape: (2326,)\n",
      "total_transaction_costs: 0.0\n"
     ]
    },
    {
     "name": "stderr",
     "output_type": "stream",
     "text": [
      "\r",
      "Optimizing Portfolio:  27%|██▋       | 69/252 [12:51<34:05, 11.18s/day]"
     ]
    },
    {
     "name": "stdout",
     "output_type": "stream",
     "text": [
      "B.shape: (2336, 77), BT.shape:(77, 2336) , h_star.shape: (2336,)\n",
      "risk_exposures.shape: (77,)\n",
      "B_alpha.shape: (2336, 4), h_star.shape: (2336,)\n",
      "h0.shape: (2336,), h_star.shape:(2336,), Lambda.shape: (2336,)\n",
      "total_transaction_costs: 0.0\n"
     ]
    },
    {
     "name": "stderr",
     "output_type": "stream",
     "text": [
      "\r",
      "Optimizing Portfolio:  28%|██▊       | 70/252 [13:02<33:53, 11.17s/day]"
     ]
    },
    {
     "name": "stdout",
     "output_type": "stream",
     "text": [
      "B.shape: (2309, 77), BT.shape:(77, 2309) , h_star.shape: (2309,)\n",
      "risk_exposures.shape: (77,)\n",
      "B_alpha.shape: (2309, 4), h_star.shape: (2309,)\n",
      "h0.shape: (2309,), h_star.shape:(2309,), Lambda.shape: (2309,)\n",
      "total_transaction_costs: 0.0\n"
     ]
    },
    {
     "name": "stderr",
     "output_type": "stream",
     "text": [
      "\r",
      "Optimizing Portfolio:  28%|██▊       | 71/252 [13:13<33:43, 11.18s/day]"
     ]
    },
    {
     "name": "stdout",
     "output_type": "stream",
     "text": [
      "B.shape: (2304, 77), BT.shape:(77, 2304) , h_star.shape: (2304,)\n",
      "risk_exposures.shape: (77,)\n",
      "B_alpha.shape: (2304, 4), h_star.shape: (2304,)\n",
      "h0.shape: (2304,), h_star.shape:(2304,), Lambda.shape: (2304,)\n",
      "total_transaction_costs: 0.0\n"
     ]
    },
    {
     "name": "stderr",
     "output_type": "stream",
     "text": [
      "\r",
      "Optimizing Portfolio:  29%|██▊       | 72/252 [13:24<33:32, 11.18s/day]"
     ]
    },
    {
     "name": "stdout",
     "output_type": "stream",
     "text": [
      "B.shape: (2306, 77), BT.shape:(77, 2306) , h_star.shape: (2306,)\n",
      "risk_exposures.shape: (77,)\n",
      "B_alpha.shape: (2306, 4), h_star.shape: (2306,)\n",
      "h0.shape: (2306,), h_star.shape:(2306,), Lambda.shape: (2306,)\n",
      "total_transaction_costs: 0.0\n"
     ]
    },
    {
     "name": "stderr",
     "output_type": "stream",
     "text": [
      "\r",
      "Optimizing Portfolio:  29%|██▉       | 73/252 [13:38<33:26, 11.21s/day]"
     ]
    },
    {
     "name": "stdout",
     "output_type": "stream",
     "text": [
      "B.shape: (2306, 77), BT.shape:(77, 2306) , h_star.shape: (2306,)\n",
      "risk_exposures.shape: (77,)\n",
      "B_alpha.shape: (2306, 4), h_star.shape: (2306,)\n",
      "h0.shape: (2306,), h_star.shape:(2306,), Lambda.shape: (2306,)\n",
      "total_transaction_costs: 0.0\n"
     ]
    },
    {
     "name": "stderr",
     "output_type": "stream",
     "text": [
      "\r",
      "Optimizing Portfolio:  29%|██▉       | 74/252 [13:50<33:18, 11.23s/day]"
     ]
    },
    {
     "name": "stdout",
     "output_type": "stream",
     "text": [
      "B.shape: (2310, 77), BT.shape:(77, 2310) , h_star.shape: (2310,)\n",
      "risk_exposures.shape: (77,)\n",
      "B_alpha.shape: (2310, 4), h_star.shape: (2310,)\n",
      "h0.shape: (2310,), h_star.shape:(2310,), Lambda.shape: (2310,)\n",
      "total_transaction_costs: 0.0\n"
     ]
    },
    {
     "name": "stderr",
     "output_type": "stream",
     "text": [
      "\r",
      "Optimizing Portfolio:  30%|██▉       | 75/252 [14:01<33:04, 11.21s/day]"
     ]
    },
    {
     "name": "stdout",
     "output_type": "stream",
     "text": [
      "B.shape: (2295, 77), BT.shape:(77, 2295) , h_star.shape: (2295,)\n",
      "risk_exposures.shape: (77,)\n",
      "B_alpha.shape: (2295, 4), h_star.shape: (2295,)\n",
      "h0.shape: (2295,), h_star.shape:(2295,), Lambda.shape: (2295,)\n",
      "total_transaction_costs: 0.0\n"
     ]
    },
    {
     "name": "stderr",
     "output_type": "stream",
     "text": [
      "\r",
      "Optimizing Portfolio:  30%|███       | 76/252 [14:11<32:52, 11.21s/day]"
     ]
    },
    {
     "name": "stdout",
     "output_type": "stream",
     "text": [
      "B.shape: (2308, 77), BT.shape:(77, 2308) , h_star.shape: (2308,)\n",
      "risk_exposures.shape: (77,)\n",
      "B_alpha.shape: (2308, 4), h_star.shape: (2308,)\n",
      "h0.shape: (2308,), h_star.shape:(2308,), Lambda.shape: (2308,)\n",
      "total_transaction_costs: 0.0\n"
     ]
    },
    {
     "name": "stderr",
     "output_type": "stream",
     "text": [
      "\r",
      "Optimizing Portfolio:  31%|███       | 77/252 [14:23<32:41, 11.21s/day]"
     ]
    },
    {
     "name": "stdout",
     "output_type": "stream",
     "text": [
      "B.shape: (2321, 77), BT.shape:(77, 2321) , h_star.shape: (2321,)\n",
      "risk_exposures.shape: (77,)\n",
      "B_alpha.shape: (2321, 4), h_star.shape: (2321,)\n",
      "h0.shape: (2321,), h_star.shape:(2321,), Lambda.shape: (2321,)\n",
      "total_transaction_costs: 0.0\n"
     ]
    },
    {
     "name": "stderr",
     "output_type": "stream",
     "text": [
      "\r",
      "Optimizing Portfolio:  31%|███       | 78/252 [14:33<32:28, 11.20s/day]"
     ]
    },
    {
     "name": "stdout",
     "output_type": "stream",
     "text": [
      "B.shape: (2320, 77), BT.shape:(77, 2320) , h_star.shape: (2320,)\n",
      "risk_exposures.shape: (77,)\n",
      "B_alpha.shape: (2320, 4), h_star.shape: (2320,)\n",
      "h0.shape: (2320,), h_star.shape:(2320,), Lambda.shape: (2320,)\n",
      "total_transaction_costs: 0.0\n"
     ]
    },
    {
     "name": "stderr",
     "output_type": "stream",
     "text": [
      "\r",
      "Optimizing Portfolio:  31%|███▏      | 79/252 [14:43<32:15, 11.19s/day]"
     ]
    },
    {
     "name": "stdout",
     "output_type": "stream",
     "text": [
      "B.shape: (2312, 77), BT.shape:(77, 2312) , h_star.shape: (2312,)\n",
      "risk_exposures.shape: (77,)\n",
      "B_alpha.shape: (2312, 4), h_star.shape: (2312,)\n",
      "h0.shape: (2312,), h_star.shape:(2312,), Lambda.shape: (2312,)\n",
      "total_transaction_costs: 0.0\n"
     ]
    },
    {
     "name": "stderr",
     "output_type": "stream",
     "text": [
      "\r",
      "Optimizing Portfolio:  32%|███▏      | 80/252 [14:54<32:02, 11.18s/day]"
     ]
    },
    {
     "name": "stdout",
     "output_type": "stream",
     "text": [
      "B.shape: (2311, 77), BT.shape:(77, 2311) , h_star.shape: (2311,)\n",
      "risk_exposures.shape: (77,)\n",
      "B_alpha.shape: (2311, 4), h_star.shape: (2311,)\n",
      "h0.shape: (2311,), h_star.shape:(2311,), Lambda.shape: (2311,)\n",
      "total_transaction_costs: 0.0\n"
     ]
    },
    {
     "name": "stderr",
     "output_type": "stream",
     "text": [
      "\r",
      "Optimizing Portfolio:  32%|███▏      | 81/252 [15:04<31:48, 11.16s/day]"
     ]
    },
    {
     "name": "stdout",
     "output_type": "stream",
     "text": [
      "B.shape: (2287, 77), BT.shape:(77, 2287) , h_star.shape: (2287,)\n",
      "risk_exposures.shape: (77,)\n",
      "B_alpha.shape: (2287, 4), h_star.shape: (2287,)\n",
      "h0.shape: (2287,), h_star.shape:(2287,), Lambda.shape: (2287,)\n",
      "total_transaction_costs: 0.0\n"
     ]
    },
    {
     "name": "stderr",
     "output_type": "stream",
     "text": [
      "\r",
      "Optimizing Portfolio:  33%|███▎      | 82/252 [15:15<31:38, 11.17s/day]"
     ]
    },
    {
     "name": "stdout",
     "output_type": "stream",
     "text": [
      "B.shape: (2273, 77), BT.shape:(77, 2273) , h_star.shape: (2273,)\n",
      "risk_exposures.shape: (77,)\n",
      "B_alpha.shape: (2273, 4), h_star.shape: (2273,)\n",
      "h0.shape: (2273,), h_star.shape:(2273,), Lambda.shape: (2273,)\n",
      "total_transaction_costs: 0.0\n"
     ]
    },
    {
     "name": "stderr",
     "output_type": "stream",
     "text": [
      "\r",
      "Optimizing Portfolio:  33%|███▎      | 83/252 [15:28<31:31, 11.19s/day]"
     ]
    },
    {
     "name": "stdout",
     "output_type": "stream",
     "text": [
      "B.shape: (2263, 77), BT.shape:(77, 2263) , h_star.shape: (2263,)\n",
      "risk_exposures.shape: (77,)\n",
      "B_alpha.shape: (2263, 4), h_star.shape: (2263,)\n",
      "h0.shape: (2263,), h_star.shape:(2263,), Lambda.shape: (2263,)\n",
      "total_transaction_costs: 0.0\n"
     ]
    },
    {
     "name": "stderr",
     "output_type": "stream",
     "text": [
      "\r",
      "Optimizing Portfolio:  33%|███▎      | 84/252 [15:39<31:19, 11.19s/day]"
     ]
    },
    {
     "name": "stdout",
     "output_type": "stream",
     "text": [
      "B.shape: (2274, 77), BT.shape:(77, 2274) , h_star.shape: (2274,)\n",
      "risk_exposures.shape: (77,)\n",
      "B_alpha.shape: (2274, 4), h_star.shape: (2274,)\n",
      "h0.shape: (2274,), h_star.shape:(2274,), Lambda.shape: (2274,)\n",
      "total_transaction_costs: 0.0\n"
     ]
    },
    {
     "name": "stderr",
     "output_type": "stream",
     "text": [
      "\r",
      "Optimizing Portfolio:  34%|███▎      | 85/252 [15:49<31:04, 11.17s/day]"
     ]
    },
    {
     "name": "stdout",
     "output_type": "stream",
     "text": [
      "B.shape: (2291, 77), BT.shape:(77, 2291) , h_star.shape: (2291,)\n",
      "risk_exposures.shape: (77,)\n",
      "B_alpha.shape: (2291, 4), h_star.shape: (2291,)\n",
      "h0.shape: (2291,), h_star.shape:(2291,), Lambda.shape: (2291,)\n",
      "total_transaction_costs: 0.0\n"
     ]
    },
    {
     "name": "stderr",
     "output_type": "stream",
     "text": [
      "\r",
      "Optimizing Portfolio:  34%|███▍      | 86/252 [15:58<30:50, 11.15s/day]"
     ]
    },
    {
     "name": "stdout",
     "output_type": "stream",
     "text": [
      "B.shape: (2291, 77), BT.shape:(77, 2291) , h_star.shape: (2291,)\n",
      "risk_exposures.shape: (77,)\n",
      "B_alpha.shape: (2291, 4), h_star.shape: (2291,)\n",
      "h0.shape: (2291,), h_star.shape:(2291,), Lambda.shape: (2291,)\n",
      "total_transaction_costs: 0.0\n"
     ]
    },
    {
     "name": "stderr",
     "output_type": "stream",
     "text": [
      "\r",
      "Optimizing Portfolio:  35%|███▍      | 87/252 [16:07<30:35, 11.12s/day]"
     ]
    },
    {
     "name": "stdout",
     "output_type": "stream",
     "text": [
      "B.shape: (2274, 77), BT.shape:(77, 2274) , h_star.shape: (2274,)\n",
      "risk_exposures.shape: (77,)\n",
      "B_alpha.shape: (2274, 4), h_star.shape: (2274,)\n",
      "h0.shape: (2274,), h_star.shape:(2274,), Lambda.shape: (2274,)\n",
      "total_transaction_costs: 0.0\n"
     ]
    },
    {
     "name": "stderr",
     "output_type": "stream",
     "text": [
      "\r",
      "Optimizing Portfolio:  35%|███▍      | 88/252 [16:17<30:21, 11.11s/day]"
     ]
    },
    {
     "name": "stdout",
     "output_type": "stream",
     "text": [
      "B.shape: (2246, 77), BT.shape:(77, 2246) , h_star.shape: (2246,)\n",
      "risk_exposures.shape: (77,)\n",
      "B_alpha.shape: (2246, 4), h_star.shape: (2246,)\n",
      "h0.shape: (2246,), h_star.shape:(2246,), Lambda.shape: (2246,)\n",
      "total_transaction_costs: 0.0\n"
     ]
    },
    {
     "name": "stderr",
     "output_type": "stream",
     "text": [
      "\r",
      "Optimizing Portfolio:  35%|███▌      | 89/252 [16:26<30:07, 11.09s/day]"
     ]
    },
    {
     "name": "stdout",
     "output_type": "stream",
     "text": [
      "B.shape: (2227, 77), BT.shape:(77, 2227) , h_star.shape: (2227,)\n",
      "risk_exposures.shape: (77,)\n",
      "B_alpha.shape: (2227, 4), h_star.shape: (2227,)\n",
      "h0.shape: (2227,), h_star.shape:(2227,), Lambda.shape: (2227,)\n",
      "total_transaction_costs: 0.0\n"
     ]
    },
    {
     "name": "stderr",
     "output_type": "stream",
     "text": [
      "\r",
      "Optimizing Portfolio:  36%|███▌      | 90/252 [16:36<29:53, 11.07s/day]"
     ]
    },
    {
     "name": "stdout",
     "output_type": "stream",
     "text": [
      "B.shape: (2247, 77), BT.shape:(77, 2247) , h_star.shape: (2247,)\n",
      "risk_exposures.shape: (77,)\n",
      "B_alpha.shape: (2247, 4), h_star.shape: (2247,)\n",
      "h0.shape: (2247,), h_star.shape:(2247,), Lambda.shape: (2247,)\n",
      "total_transaction_costs: 0.0\n"
     ]
    },
    {
     "name": "stderr",
     "output_type": "stream",
     "text": [
      "\r",
      "Optimizing Portfolio:  36%|███▌      | 91/252 [16:45<29:39, 11.05s/day]"
     ]
    },
    {
     "name": "stdout",
     "output_type": "stream",
     "text": [
      "B.shape: (2245, 77), BT.shape:(77, 2245) , h_star.shape: (2245,)\n",
      "risk_exposures.shape: (77,)\n",
      "B_alpha.shape: (2245, 4), h_star.shape: (2245,)\n",
      "h0.shape: (2245,), h_star.shape:(2245,), Lambda.shape: (2245,)\n",
      "total_transaction_costs: 0.0\n"
     ]
    },
    {
     "name": "stderr",
     "output_type": "stream",
     "text": [
      "\r",
      "Optimizing Portfolio:  37%|███▋      | 92/252 [16:55<29:25, 11.03s/day]"
     ]
    },
    {
     "name": "stdout",
     "output_type": "stream",
     "text": [
      "B.shape: (2246, 77), BT.shape:(77, 2246) , h_star.shape: (2246,)\n",
      "risk_exposures.shape: (77,)\n",
      "B_alpha.shape: (2246, 4), h_star.shape: (2246,)\n",
      "h0.shape: (2246,), h_star.shape:(2246,), Lambda.shape: (2246,)\n",
      "total_transaction_costs: 0.0\n"
     ]
    },
    {
     "name": "stderr",
     "output_type": "stream",
     "text": [
      "\r",
      "Optimizing Portfolio:  37%|███▋      | 93/252 [17:04<29:11, 11.01s/day]"
     ]
    },
    {
     "name": "stdout",
     "output_type": "stream",
     "text": [
      "B.shape: (2245, 77), BT.shape:(77, 2245) , h_star.shape: (2245,)\n",
      "risk_exposures.shape: (77,)\n",
      "B_alpha.shape: (2245, 4), h_star.shape: (2245,)\n",
      "h0.shape: (2245,), h_star.shape:(2245,), Lambda.shape: (2245,)\n",
      "total_transaction_costs: 0.0\n"
     ]
    },
    {
     "name": "stderr",
     "output_type": "stream",
     "text": [
      "\r",
      "Optimizing Portfolio:  37%|███▋      | 94/252 [17:13<28:57, 11.00s/day]"
     ]
    },
    {
     "name": "stdout",
     "output_type": "stream",
     "text": [
      "B.shape: (2232, 77), BT.shape:(77, 2232) , h_star.shape: (2232,)\n",
      "risk_exposures.shape: (77,)\n",
      "B_alpha.shape: (2232, 4), h_star.shape: (2232,)\n",
      "h0.shape: (2232,), h_star.shape:(2232,), Lambda.shape: (2232,)\n",
      "total_transaction_costs: 0.0\n"
     ]
    },
    {
     "name": "stderr",
     "output_type": "stream",
     "text": [
      "\r",
      "Optimizing Portfolio:  38%|███▊      | 95/252 [17:23<28:44, 10.99s/day]"
     ]
    },
    {
     "name": "stdout",
     "output_type": "stream",
     "text": [
      "B.shape: (2247, 77), BT.shape:(77, 2247) , h_star.shape: (2247,)\n",
      "risk_exposures.shape: (77,)\n",
      "B_alpha.shape: (2247, 4), h_star.shape: (2247,)\n",
      "h0.shape: (2247,), h_star.shape:(2247,), Lambda.shape: (2247,)\n",
      "total_transaction_costs: 0.0\n"
     ]
    },
    {
     "name": "stderr",
     "output_type": "stream",
     "text": [
      "\r",
      "Optimizing Portfolio:  38%|███▊      | 96/252 [17:35<28:35, 10.99s/day]"
     ]
    },
    {
     "name": "stdout",
     "output_type": "stream",
     "text": [
      "B.shape: (2239, 77), BT.shape:(77, 2239) , h_star.shape: (2239,)\n",
      "risk_exposures.shape: (77,)\n",
      "B_alpha.shape: (2239, 4), h_star.shape: (2239,)\n",
      "h0.shape: (2239,), h_star.shape:(2239,), Lambda.shape: (2239,)\n",
      "total_transaction_costs: 0.0\n"
     ]
    },
    {
     "name": "stderr",
     "output_type": "stream",
     "text": [
      "\r",
      "Optimizing Portfolio:  38%|███▊      | 97/252 [17:44<28:21, 10.98s/day]"
     ]
    },
    {
     "name": "stdout",
     "output_type": "stream",
     "text": [
      "B.shape: (2241, 77), BT.shape:(77, 2241) , h_star.shape: (2241,)\n",
      "risk_exposures.shape: (77,)\n",
      "B_alpha.shape: (2241, 4), h_star.shape: (2241,)\n",
      "h0.shape: (2241,), h_star.shape:(2241,), Lambda.shape: (2241,)\n",
      "total_transaction_costs: 0.0\n"
     ]
    },
    {
     "name": "stderr",
     "output_type": "stream",
     "text": [
      "\r",
      "Optimizing Portfolio:  39%|███▉      | 98/252 [17:54<28:08, 10.96s/day]"
     ]
    },
    {
     "name": "stdout",
     "output_type": "stream",
     "text": [
      "B.shape: (2245, 77), BT.shape:(77, 2245) , h_star.shape: (2245,)\n",
      "risk_exposures.shape: (77,)\n",
      "B_alpha.shape: (2245, 4), h_star.shape: (2245,)\n",
      "h0.shape: (2245,), h_star.shape:(2245,), Lambda.shape: (2245,)\n",
      "total_transaction_costs: 0.0\n"
     ]
    },
    {
     "name": "stderr",
     "output_type": "stream",
     "text": [
      "\r",
      "Optimizing Portfolio:  39%|███▉      | 99/252 [18:04<27:55, 10.95s/day]"
     ]
    },
    {
     "name": "stdout",
     "output_type": "stream",
     "text": [
      "B.shape: (2256, 77), BT.shape:(77, 2256) , h_star.shape: (2256,)\n",
      "risk_exposures.shape: (77,)\n",
      "B_alpha.shape: (2256, 4), h_star.shape: (2256,)\n",
      "h0.shape: (2256,), h_star.shape:(2256,), Lambda.shape: (2256,)\n",
      "total_transaction_costs: 0.0\n"
     ]
    },
    {
     "name": "stderr",
     "output_type": "stream",
     "text": [
      "\r",
      "Optimizing Portfolio:  40%|███▉      | 100/252 [18:13<27:42, 10.93s/day]"
     ]
    },
    {
     "name": "stdout",
     "output_type": "stream",
     "text": [
      "B.shape: (2277, 77), BT.shape:(77, 2277) , h_star.shape: (2277,)\n",
      "risk_exposures.shape: (77,)\n",
      "B_alpha.shape: (2277, 4), h_star.shape: (2277,)\n",
      "h0.shape: (2277,), h_star.shape:(2277,), Lambda.shape: (2277,)\n",
      "total_transaction_costs: 0.0\n"
     ]
    },
    {
     "name": "stderr",
     "output_type": "stream",
     "text": [
      "\r",
      "Optimizing Portfolio:  40%|████      | 101/252 [18:22<27:28, 10.92s/day]"
     ]
    },
    {
     "name": "stdout",
     "output_type": "stream",
     "text": [
      "B.shape: (2283, 77), BT.shape:(77, 2283) , h_star.shape: (2283,)\n",
      "risk_exposures.shape: (77,)\n",
      "B_alpha.shape: (2283, 4), h_star.shape: (2283,)\n",
      "h0.shape: (2283,), h_star.shape:(2283,), Lambda.shape: (2283,)\n",
      "total_transaction_costs: 0.0\n"
     ]
    },
    {
     "name": "stderr",
     "output_type": "stream",
     "text": [
      "\r",
      "Optimizing Portfolio:  40%|████      | 102/252 [18:32<27:16, 10.91s/day]"
     ]
    },
    {
     "name": "stdout",
     "output_type": "stream",
     "text": [
      "B.shape: (2282, 77), BT.shape:(77, 2282) , h_star.shape: (2282,)\n",
      "risk_exposures.shape: (77,)\n",
      "B_alpha.shape: (2282, 4), h_star.shape: (2282,)\n",
      "h0.shape: (2282,), h_star.shape:(2282,), Lambda.shape: (2282,)\n",
      "total_transaction_costs: 0.0\n"
     ]
    },
    {
     "name": "stderr",
     "output_type": "stream",
     "text": [
      "\r",
      "Optimizing Portfolio:  41%|████      | 103/252 [18:43<27:05, 10.91s/day]"
     ]
    },
    {
     "name": "stdout",
     "output_type": "stream",
     "text": [
      "B.shape: (2280, 77), BT.shape:(77, 2280) , h_star.shape: (2280,)\n",
      "risk_exposures.shape: (77,)\n",
      "B_alpha.shape: (2280, 4), h_star.shape: (2280,)\n",
      "h0.shape: (2280,), h_star.shape:(2280,), Lambda.shape: (2280,)\n",
      "total_transaction_costs: 0.0\n"
     ]
    },
    {
     "name": "stderr",
     "output_type": "stream",
     "text": [
      "\r",
      "Optimizing Portfolio:  41%|████▏     | 104/252 [18:55<26:55, 10.92s/day]"
     ]
    },
    {
     "name": "stdout",
     "output_type": "stream",
     "text": [
      "B.shape: (2295, 77), BT.shape:(77, 2295) , h_star.shape: (2295,)\n",
      "risk_exposures.shape: (77,)\n",
      "B_alpha.shape: (2295, 4), h_star.shape: (2295,)\n",
      "h0.shape: (2295,), h_star.shape:(2295,), Lambda.shape: (2295,)\n",
      "total_transaction_costs: 0.0\n"
     ]
    },
    {
     "name": "stderr",
     "output_type": "stream",
     "text": [
      "\r",
      "Optimizing Portfolio:  42%|████▏     | 105/252 [19:06<26:44, 10.92s/day]"
     ]
    },
    {
     "name": "stdout",
     "output_type": "stream",
     "text": [
      "B.shape: (2299, 77), BT.shape:(77, 2299) , h_star.shape: (2299,)\n",
      "risk_exposures.shape: (77,)\n",
      "B_alpha.shape: (2299, 4), h_star.shape: (2299,)\n",
      "h0.shape: (2299,), h_star.shape:(2299,), Lambda.shape: (2299,)\n",
      "total_transaction_costs: 0.0\n"
     ]
    },
    {
     "name": "stderr",
     "output_type": "stream",
     "text": [
      "\r",
      "Optimizing Portfolio:  42%|████▏     | 106/252 [19:16<26:32, 10.91s/day]"
     ]
    },
    {
     "name": "stdout",
     "output_type": "stream",
     "text": [
      "B.shape: (2282, 77), BT.shape:(77, 2282) , h_star.shape: (2282,)\n",
      "risk_exposures.shape: (77,)\n",
      "B_alpha.shape: (2282, 4), h_star.shape: (2282,)\n",
      "h0.shape: (2282,), h_star.shape:(2282,), Lambda.shape: (2282,)\n",
      "total_transaction_costs: 0.0\n"
     ]
    },
    {
     "name": "stderr",
     "output_type": "stream",
     "text": [
      "\r",
      "Optimizing Portfolio:  42%|████▏     | 107/252 [19:27<26:21, 10.91s/day]"
     ]
    },
    {
     "name": "stdout",
     "output_type": "stream",
     "text": [
      "B.shape: (2286, 77), BT.shape:(77, 2286) , h_star.shape: (2286,)\n",
      "risk_exposures.shape: (77,)\n",
      "B_alpha.shape: (2286, 4), h_star.shape: (2286,)\n",
      "h0.shape: (2286,), h_star.shape:(2286,), Lambda.shape: (2286,)\n",
      "total_transaction_costs: 0.0\n"
     ]
    },
    {
     "name": "stderr",
     "output_type": "stream",
     "text": [
      "\r",
      "Optimizing Portfolio:  43%|████▎     | 108/252 [19:39<26:12, 10.92s/day]"
     ]
    },
    {
     "name": "stdout",
     "output_type": "stream",
     "text": [
      "B.shape: (2302, 77), BT.shape:(77, 2302) , h_star.shape: (2302,)\n",
      "risk_exposures.shape: (77,)\n",
      "B_alpha.shape: (2302, 4), h_star.shape: (2302,)\n",
      "h0.shape: (2302,), h_star.shape:(2302,), Lambda.shape: (2302,)\n",
      "total_transaction_costs: 0.0\n"
     ]
    },
    {
     "name": "stderr",
     "output_type": "stream",
     "text": [
      "\r",
      "Optimizing Portfolio:  43%|████▎     | 109/252 [19:50<26:01, 10.92s/day]"
     ]
    },
    {
     "name": "stdout",
     "output_type": "stream",
     "text": [
      "B.shape: (2301, 77), BT.shape:(77, 2301) , h_star.shape: (2301,)\n",
      "risk_exposures.shape: (77,)\n",
      "B_alpha.shape: (2301, 4), h_star.shape: (2301,)\n",
      "h0.shape: (2301,), h_star.shape:(2301,), Lambda.shape: (2301,)\n",
      "total_transaction_costs: 0.0\n"
     ]
    },
    {
     "name": "stderr",
     "output_type": "stream",
     "text": [
      "\r",
      "Optimizing Portfolio:  44%|████▎     | 110/252 [20:03<25:53, 10.94s/day]"
     ]
    },
    {
     "name": "stdout",
     "output_type": "stream",
     "text": [
      "B.shape: (2292, 77), BT.shape:(77, 2292) , h_star.shape: (2292,)\n",
      "risk_exposures.shape: (77,)\n",
      "B_alpha.shape: (2292, 4), h_star.shape: (2292,)\n",
      "h0.shape: (2292,), h_star.shape:(2292,), Lambda.shape: (2292,)\n",
      "total_transaction_costs: 0.0\n"
     ]
    },
    {
     "name": "stderr",
     "output_type": "stream",
     "text": [
      "\r",
      "Optimizing Portfolio:  44%|████▍     | 111/252 [20:15<25:43, 10.95s/day]"
     ]
    },
    {
     "name": "stdout",
     "output_type": "stream",
     "text": [
      "B.shape: (2298, 77), BT.shape:(77, 2298) , h_star.shape: (2298,)\n",
      "risk_exposures.shape: (77,)\n",
      "B_alpha.shape: (2298, 4), h_star.shape: (2298,)\n",
      "h0.shape: (2298,), h_star.shape:(2298,), Lambda.shape: (2298,)\n",
      "total_transaction_costs: 0.0\n"
     ]
    },
    {
     "name": "stderr",
     "output_type": "stream",
     "text": [
      "\r",
      "Optimizing Portfolio:  44%|████▍     | 112/252 [20:28<25:36, 10.97s/day]"
     ]
    },
    {
     "name": "stdout",
     "output_type": "stream",
     "text": [
      "B.shape: (2288, 77), BT.shape:(77, 2288) , h_star.shape: (2288,)\n",
      "risk_exposures.shape: (77,)\n",
      "B_alpha.shape: (2288, 4), h_star.shape: (2288,)\n",
      "h0.shape: (2288,), h_star.shape:(2288,), Lambda.shape: (2288,)\n",
      "total_transaction_costs: 0.0\n"
     ]
    },
    {
     "name": "stderr",
     "output_type": "stream",
     "text": [
      "\r",
      "Optimizing Portfolio:  45%|████▍     | 113/252 [20:42<25:28, 11.00s/day]"
     ]
    },
    {
     "name": "stdout",
     "output_type": "stream",
     "text": [
      "B.shape: (2300, 77), BT.shape:(77, 2300) , h_star.shape: (2300,)\n",
      "risk_exposures.shape: (77,)\n",
      "B_alpha.shape: (2300, 4), h_star.shape: (2300,)\n",
      "h0.shape: (2300,), h_star.shape:(2300,), Lambda.shape: (2300,)\n",
      "total_transaction_costs: 0.0\n"
     ]
    },
    {
     "name": "stderr",
     "output_type": "stream",
     "text": [
      "\r",
      "Optimizing Portfolio:  45%|████▌     | 114/252 [20:52<25:15, 10.98s/day]"
     ]
    },
    {
     "name": "stdout",
     "output_type": "stream",
     "text": [
      "B.shape: (2303, 77), BT.shape:(77, 2303) , h_star.shape: (2303,)\n",
      "risk_exposures.shape: (77,)\n",
      "B_alpha.shape: (2303, 4), h_star.shape: (2303,)\n",
      "h0.shape: (2303,), h_star.shape:(2303,), Lambda.shape: (2303,)\n",
      "total_transaction_costs: 0.0\n"
     ]
    },
    {
     "name": "stderr",
     "output_type": "stream",
     "text": [
      "\r",
      "Optimizing Portfolio:  46%|████▌     | 115/252 [21:01<25:02, 10.97s/day]"
     ]
    },
    {
     "name": "stdout",
     "output_type": "stream",
     "text": [
      "B.shape: (2301, 77), BT.shape:(77, 2301) , h_star.shape: (2301,)\n",
      "risk_exposures.shape: (77,)\n",
      "B_alpha.shape: (2301, 4), h_star.shape: (2301,)\n",
      "h0.shape: (2301,), h_star.shape:(2301,), Lambda.shape: (2301,)\n",
      "total_transaction_costs: 0.0\n"
     ]
    },
    {
     "name": "stderr",
     "output_type": "stream",
     "text": [
      "\r",
      "Optimizing Portfolio:  46%|████▌     | 116/252 [21:10<24:49, 10.95s/day]"
     ]
    },
    {
     "name": "stdout",
     "output_type": "stream",
     "text": [
      "B.shape: (2301, 77), BT.shape:(77, 2301) , h_star.shape: (2301,)\n",
      "risk_exposures.shape: (77,)\n",
      "B_alpha.shape: (2301, 4), h_star.shape: (2301,)\n",
      "h0.shape: (2301,), h_star.shape:(2301,), Lambda.shape: (2301,)\n",
      "total_transaction_costs: 0.0\n"
     ]
    },
    {
     "name": "stderr",
     "output_type": "stream",
     "text": [
      "\r",
      "Optimizing Portfolio:  46%|████▋     | 117/252 [21:20<24:36, 10.94s/day]"
     ]
    },
    {
     "name": "stdout",
     "output_type": "stream",
     "text": [
      "B.shape: (2302, 77), BT.shape:(77, 2302) , h_star.shape: (2302,)\n",
      "risk_exposures.shape: (77,)\n",
      "B_alpha.shape: (2302, 4), h_star.shape: (2302,)\n",
      "h0.shape: (2302,), h_star.shape:(2302,), Lambda.shape: (2302,)\n",
      "total_transaction_costs: 0.0\n"
     ]
    },
    {
     "name": "stderr",
     "output_type": "stream",
     "text": [
      "\r",
      "Optimizing Portfolio:  47%|████▋     | 118/252 [21:29<24:24, 10.93s/day]"
     ]
    },
    {
     "name": "stdout",
     "output_type": "stream",
     "text": [
      "B.shape: (2306, 77), BT.shape:(77, 2306) , h_star.shape: (2306,)\n",
      "risk_exposures.shape: (77,)\n",
      "B_alpha.shape: (2306, 4), h_star.shape: (2306,)\n",
      "h0.shape: (2306,), h_star.shape:(2306,), Lambda.shape: (2306,)\n",
      "total_transaction_costs: 0.0\n"
     ]
    },
    {
     "name": "stderr",
     "output_type": "stream",
     "text": [
      "\r",
      "Optimizing Portfolio:  47%|████▋     | 119/252 [21:38<24:11, 10.91s/day]"
     ]
    },
    {
     "name": "stdout",
     "output_type": "stream",
     "text": [
      "B.shape: (2320, 77), BT.shape:(77, 2320) , h_star.shape: (2320,)\n",
      "risk_exposures.shape: (77,)\n",
      "B_alpha.shape: (2320, 4), h_star.shape: (2320,)\n",
      "h0.shape: (2320,), h_star.shape:(2320,), Lambda.shape: (2320,)\n",
      "total_transaction_costs: 0.0\n"
     ]
    },
    {
     "name": "stderr",
     "output_type": "stream",
     "text": [
      "\r",
      "Optimizing Portfolio:  48%|████▊     | 120/252 [21:48<23:58, 10.90s/day]"
     ]
    },
    {
     "name": "stdout",
     "output_type": "stream",
     "text": [
      "B.shape: (2321, 77), BT.shape:(77, 2321) , h_star.shape: (2321,)\n",
      "risk_exposures.shape: (77,)\n",
      "B_alpha.shape: (2321, 4), h_star.shape: (2321,)\n",
      "h0.shape: (2321,), h_star.shape:(2321,), Lambda.shape: (2321,)\n",
      "total_transaction_costs: 0.0\n"
     ]
    },
    {
     "name": "stderr",
     "output_type": "stream",
     "text": [
      "\r",
      "Optimizing Portfolio:  48%|████▊     | 121/252 [21:57<23:46, 10.89s/day]"
     ]
    },
    {
     "name": "stdout",
     "output_type": "stream",
     "text": [
      "B.shape: (2334, 77), BT.shape:(77, 2334) , h_star.shape: (2334,)\n",
      "risk_exposures.shape: (77,)\n",
      "B_alpha.shape: (2334, 4), h_star.shape: (2334,)\n",
      "h0.shape: (2334,), h_star.shape:(2334,), Lambda.shape: (2334,)\n",
      "total_transaction_costs: 0.0\n"
     ]
    },
    {
     "name": "stderr",
     "output_type": "stream",
     "text": [
      "\r",
      "Optimizing Portfolio:  48%|████▊     | 122/252 [22:06<23:33, 10.88s/day]"
     ]
    },
    {
     "name": "stdout",
     "output_type": "stream",
     "text": [
      "B.shape: (2330, 77), BT.shape:(77, 2330) , h_star.shape: (2330,)\n",
      "risk_exposures.shape: (77,)\n",
      "B_alpha.shape: (2330, 4), h_star.shape: (2330,)\n",
      "h0.shape: (2330,), h_star.shape:(2330,), Lambda.shape: (2330,)\n",
      "total_transaction_costs: 0.0\n"
     ]
    },
    {
     "name": "stderr",
     "output_type": "stream",
     "text": [
      "\r",
      "Optimizing Portfolio:  49%|████▉     | 123/252 [22:16<23:21, 10.86s/day]"
     ]
    },
    {
     "name": "stdout",
     "output_type": "stream",
     "text": [
      "B.shape: (2334, 77), BT.shape:(77, 2334) , h_star.shape: (2334,)\n",
      "risk_exposures.shape: (77,)\n",
      "B_alpha.shape: (2334, 4), h_star.shape: (2334,)\n",
      "h0.shape: (2334,), h_star.shape:(2334,), Lambda.shape: (2334,)\n",
      "total_transaction_costs: 0.0\n"
     ]
    },
    {
     "name": "stderr",
     "output_type": "stream",
     "text": [
      "\r",
      "Optimizing Portfolio:  49%|████▉     | 124/252 [22:25<23:09, 10.85s/day]"
     ]
    },
    {
     "name": "stdout",
     "output_type": "stream",
     "text": [
      "B.shape: (2342, 77), BT.shape:(77, 2342) , h_star.shape: (2342,)\n",
      "risk_exposures.shape: (77,)\n",
      "B_alpha.shape: (2342, 4), h_star.shape: (2342,)\n",
      "h0.shape: (2342,), h_star.shape:(2342,), Lambda.shape: (2342,)\n",
      "total_transaction_costs: 0.0\n"
     ]
    },
    {
     "name": "stderr",
     "output_type": "stream",
     "text": [
      "\r",
      "Optimizing Portfolio:  50%|████▉     | 125/252 [22:35<22:56, 10.84s/day]"
     ]
    },
    {
     "name": "stdout",
     "output_type": "stream",
     "text": [
      "B.shape: (2330, 77), BT.shape:(77, 2330) , h_star.shape: (2330,)\n",
      "risk_exposures.shape: (77,)\n",
      "B_alpha.shape: (2330, 4), h_star.shape: (2330,)\n",
      "h0.shape: (2330,), h_star.shape:(2330,), Lambda.shape: (2330,)\n",
      "total_transaction_costs: 0.0\n"
     ]
    },
    {
     "name": "stderr",
     "output_type": "stream",
     "text": [
      "\r",
      "Optimizing Portfolio:  50%|█████     | 126/252 [22:45<22:45, 10.83s/day]"
     ]
    },
    {
     "name": "stdout",
     "output_type": "stream",
     "text": [
      "B.shape: (2330, 77), BT.shape:(77, 2330) , h_star.shape: (2330,)\n",
      "risk_exposures.shape: (77,)\n",
      "B_alpha.shape: (2330, 4), h_star.shape: (2330,)\n",
      "h0.shape: (2330,), h_star.shape:(2330,), Lambda.shape: (2330,)\n",
      "total_transaction_costs: 0.0\n"
     ]
    },
    {
     "name": "stderr",
     "output_type": "stream",
     "text": [
      "\r",
      "Optimizing Portfolio:  50%|█████     | 127/252 [22:56<22:34, 10.84s/day]"
     ]
    },
    {
     "name": "stdout",
     "output_type": "stream",
     "text": [
      "B.shape: (2321, 77), BT.shape:(77, 2321) , h_star.shape: (2321,)\n",
      "risk_exposures.shape: (77,)\n",
      "B_alpha.shape: (2321, 4), h_star.shape: (2321,)\n",
      "h0.shape: (2321,), h_star.shape:(2321,), Lambda.shape: (2321,)\n",
      "total_transaction_costs: 0.0\n"
     ]
    },
    {
     "name": "stderr",
     "output_type": "stream",
     "text": [
      "\r",
      "Optimizing Portfolio:  51%|█████     | 128/252 [23:07<22:23, 10.84s/day]"
     ]
    },
    {
     "name": "stdout",
     "output_type": "stream",
     "text": [
      "B.shape: (2315, 77), BT.shape:(77, 2315) , h_star.shape: (2315,)\n",
      "risk_exposures.shape: (77,)\n",
      "B_alpha.shape: (2315, 4), h_star.shape: (2315,)\n",
      "h0.shape: (2315,), h_star.shape:(2315,), Lambda.shape: (2315,)\n",
      "total_transaction_costs: 0.0\n"
     ]
    },
    {
     "name": "stderr",
     "output_type": "stream",
     "text": [
      "\r",
      "Optimizing Portfolio:  51%|█████     | 129/252 [23:16<22:11, 10.83s/day]"
     ]
    },
    {
     "name": "stdout",
     "output_type": "stream",
     "text": [
      "B.shape: (2306, 77), BT.shape:(77, 2306) , h_star.shape: (2306,)\n",
      "risk_exposures.shape: (77,)\n",
      "B_alpha.shape: (2306, 4), h_star.shape: (2306,)\n",
      "h0.shape: (2306,), h_star.shape:(2306,), Lambda.shape: (2306,)\n",
      "total_transaction_costs: 0.0\n"
     ]
    },
    {
     "name": "stderr",
     "output_type": "stream",
     "text": [
      "\r",
      "Optimizing Portfolio:  52%|█████▏    | 130/252 [23:26<21:59, 10.82s/day]"
     ]
    },
    {
     "name": "stdout",
     "output_type": "stream",
     "text": [
      "B.shape: (2306, 77), BT.shape:(77, 2306) , h_star.shape: (2306,)\n",
      "risk_exposures.shape: (77,)\n",
      "B_alpha.shape: (2306, 4), h_star.shape: (2306,)\n",
      "h0.shape: (2306,), h_star.shape:(2306,), Lambda.shape: (2306,)\n",
      "total_transaction_costs: 0.0\n"
     ]
    },
    {
     "name": "stderr",
     "output_type": "stream",
     "text": [
      "\r",
      "Optimizing Portfolio:  52%|█████▏    | 131/252 [23:35<21:47, 10.81s/day]"
     ]
    },
    {
     "name": "stdout",
     "output_type": "stream",
     "text": [
      "B.shape: (2307, 77), BT.shape:(77, 2307) , h_star.shape: (2307,)\n",
      "risk_exposures.shape: (77,)\n",
      "B_alpha.shape: (2307, 4), h_star.shape: (2307,)\n",
      "h0.shape: (2307,), h_star.shape:(2307,), Lambda.shape: (2307,)\n",
      "total_transaction_costs: 0.0\n"
     ]
    },
    {
     "name": "stderr",
     "output_type": "stream",
     "text": [
      "\r",
      "Optimizing Portfolio:  52%|█████▏    | 132/252 [23:45<21:35, 10.80s/day]"
     ]
    },
    {
     "name": "stdout",
     "output_type": "stream",
     "text": [
      "B.shape: (2305, 77), BT.shape:(77, 2305) , h_star.shape: (2305,)\n",
      "risk_exposures.shape: (77,)\n",
      "B_alpha.shape: (2305, 4), h_star.shape: (2305,)\n",
      "h0.shape: (2305,), h_star.shape:(2305,), Lambda.shape: (2305,)\n",
      "total_transaction_costs: 0.0\n"
     ]
    },
    {
     "name": "stderr",
     "output_type": "stream",
     "text": [
      "\r",
      "Optimizing Portfolio:  53%|█████▎    | 133/252 [23:54<21:23, 10.79s/day]"
     ]
    },
    {
     "name": "stdout",
     "output_type": "stream",
     "text": [
      "B.shape: (2299, 77), BT.shape:(77, 2299) , h_star.shape: (2299,)\n",
      "risk_exposures.shape: (77,)\n",
      "B_alpha.shape: (2299, 4), h_star.shape: (2299,)\n",
      "h0.shape: (2299,), h_star.shape:(2299,), Lambda.shape: (2299,)\n",
      "total_transaction_costs: 0.0\n"
     ]
    },
    {
     "name": "stderr",
     "output_type": "stream",
     "text": [
      "\r",
      "Optimizing Portfolio:  53%|█████▎    | 134/252 [24:04<21:11, 10.78s/day]"
     ]
    },
    {
     "name": "stdout",
     "output_type": "stream",
     "text": [
      "B.shape: (2299, 77), BT.shape:(77, 2299) , h_star.shape: (2299,)\n",
      "risk_exposures.shape: (77,)\n",
      "B_alpha.shape: (2299, 4), h_star.shape: (2299,)\n",
      "h0.shape: (2299,), h_star.shape:(2299,), Lambda.shape: (2299,)\n",
      "total_transaction_costs: 0.0\n"
     ]
    },
    {
     "name": "stderr",
     "output_type": "stream",
     "text": [
      "\r",
      "Optimizing Portfolio:  54%|█████▎    | 135/252 [24:14<21:00, 10.77s/day]"
     ]
    },
    {
     "name": "stdout",
     "output_type": "stream",
     "text": [
      "B.shape: (2295, 77), BT.shape:(77, 2295) , h_star.shape: (2295,)\n",
      "risk_exposures.shape: (77,)\n",
      "B_alpha.shape: (2295, 4), h_star.shape: (2295,)\n",
      "h0.shape: (2295,), h_star.shape:(2295,), Lambda.shape: (2295,)\n",
      "total_transaction_costs: 0.0\n"
     ]
    },
    {
     "name": "stderr",
     "output_type": "stream",
     "text": [
      "\r",
      "Optimizing Portfolio:  54%|█████▍    | 136/252 [24:23<20:48, 10.76s/day]"
     ]
    },
    {
     "name": "stdout",
     "output_type": "stream",
     "text": [
      "B.shape: (2294, 77), BT.shape:(77, 2294) , h_star.shape: (2294,)\n",
      "risk_exposures.shape: (77,)\n",
      "B_alpha.shape: (2294, 4), h_star.shape: (2294,)\n",
      "h0.shape: (2294,), h_star.shape:(2294,), Lambda.shape: (2294,)\n",
      "total_transaction_costs: 0.0\n"
     ]
    },
    {
     "name": "stderr",
     "output_type": "stream",
     "text": [
      "\r",
      "Optimizing Portfolio:  54%|█████▍    | 137/252 [24:33<20:36, 10.75s/day]"
     ]
    },
    {
     "name": "stdout",
     "output_type": "stream",
     "text": [
      "B.shape: (2302, 77), BT.shape:(77, 2302) , h_star.shape: (2302,)\n",
      "risk_exposures.shape: (77,)\n",
      "B_alpha.shape: (2302, 4), h_star.shape: (2302,)\n",
      "h0.shape: (2302,), h_star.shape:(2302,), Lambda.shape: (2302,)\n",
      "total_transaction_costs: 0.0\n"
     ]
    },
    {
     "name": "stderr",
     "output_type": "stream",
     "text": [
      "\r",
      "Optimizing Portfolio:  55%|█████▍    | 138/252 [24:42<20:24, 10.74s/day]"
     ]
    },
    {
     "name": "stdout",
     "output_type": "stream",
     "text": [
      "B.shape: (2287, 77), BT.shape:(77, 2287) , h_star.shape: (2287,)\n",
      "risk_exposures.shape: (77,)\n",
      "B_alpha.shape: (2287, 4), h_star.shape: (2287,)\n",
      "h0.shape: (2287,), h_star.shape:(2287,), Lambda.shape: (2287,)\n",
      "total_transaction_costs: 0.0\n"
     ]
    },
    {
     "name": "stderr",
     "output_type": "stream",
     "text": [
      "\r",
      "Optimizing Portfolio:  55%|█████▌    | 139/252 [24:52<20:13, 10.74s/day]"
     ]
    },
    {
     "name": "stdout",
     "output_type": "stream",
     "text": [
      "B.shape: (2277, 77), BT.shape:(77, 2277) , h_star.shape: (2277,)\n",
      "risk_exposures.shape: (77,)\n",
      "B_alpha.shape: (2277, 4), h_star.shape: (2277,)\n",
      "h0.shape: (2277,), h_star.shape:(2277,), Lambda.shape: (2277,)\n",
      "total_transaction_costs: 0.0\n"
     ]
    },
    {
     "name": "stderr",
     "output_type": "stream",
     "text": [
      "\r",
      "Optimizing Portfolio:  56%|█████▌    | 140/252 [25:01<20:01, 10.73s/day]"
     ]
    },
    {
     "name": "stdout",
     "output_type": "stream",
     "text": [
      "B.shape: (2265, 77), BT.shape:(77, 2265) , h_star.shape: (2265,)\n",
      "risk_exposures.shape: (77,)\n",
      "B_alpha.shape: (2265, 4), h_star.shape: (2265,)\n",
      "h0.shape: (2265,), h_star.shape:(2265,), Lambda.shape: (2265,)\n",
      "total_transaction_costs: 0.0\n"
     ]
    },
    {
     "name": "stderr",
     "output_type": "stream",
     "text": [
      "\r",
      "Optimizing Portfolio:  56%|█████▌    | 141/252 [25:11<19:49, 10.72s/day]"
     ]
    },
    {
     "name": "stdout",
     "output_type": "stream",
     "text": [
      "B.shape: (2257, 77), BT.shape:(77, 2257) , h_star.shape: (2257,)\n",
      "risk_exposures.shape: (77,)\n",
      "B_alpha.shape: (2257, 4), h_star.shape: (2257,)\n",
      "h0.shape: (2257,), h_star.shape:(2257,), Lambda.shape: (2257,)\n",
      "total_transaction_costs: 0.0\n"
     ]
    },
    {
     "name": "stderr",
     "output_type": "stream",
     "text": [
      "\r",
      "Optimizing Portfolio:  56%|█████▋    | 142/252 [25:20<19:38, 10.71s/day]"
     ]
    },
    {
     "name": "stdout",
     "output_type": "stream",
     "text": [
      "B.shape: (2264, 77), BT.shape:(77, 2264) , h_star.shape: (2264,)\n",
      "risk_exposures.shape: (77,)\n",
      "B_alpha.shape: (2264, 4), h_star.shape: (2264,)\n",
      "h0.shape: (2264,), h_star.shape:(2264,), Lambda.shape: (2264,)\n",
      "total_transaction_costs: 0.0\n"
     ]
    },
    {
     "name": "stderr",
     "output_type": "stream",
     "text": [
      "\r",
      "Optimizing Portfolio:  57%|█████▋    | 143/252 [25:30<19:26, 10.70s/day]"
     ]
    },
    {
     "name": "stdout",
     "output_type": "stream",
     "text": [
      "B.shape: (2257, 77), BT.shape:(77, 2257) , h_star.shape: (2257,)\n",
      "risk_exposures.shape: (77,)\n",
      "B_alpha.shape: (2257, 4), h_star.shape: (2257,)\n",
      "h0.shape: (2257,), h_star.shape:(2257,), Lambda.shape: (2257,)\n",
      "total_transaction_costs: 0.0\n"
     ]
    },
    {
     "name": "stderr",
     "output_type": "stream",
     "text": [
      "\r",
      "Optimizing Portfolio:  57%|█████▋    | 144/252 [25:39<19:14, 10.69s/day]"
     ]
    },
    {
     "name": "stdout",
     "output_type": "stream",
     "text": [
      "B.shape: (2265, 77), BT.shape:(77, 2265) , h_star.shape: (2265,)\n",
      "risk_exposures.shape: (77,)\n",
      "B_alpha.shape: (2265, 4), h_star.shape: (2265,)\n",
      "h0.shape: (2265,), h_star.shape:(2265,), Lambda.shape: (2265,)\n",
      "total_transaction_costs: 0.0\n"
     ]
    },
    {
     "name": "stderr",
     "output_type": "stream",
     "text": [
      "\r",
      "Optimizing Portfolio:  58%|█████▊    | 145/252 [25:49<19:03, 10.68s/day]"
     ]
    },
    {
     "name": "stdout",
     "output_type": "stream",
     "text": [
      "B.shape: (2271, 77), BT.shape:(77, 2271) , h_star.shape: (2271,)\n",
      "risk_exposures.shape: (77,)\n",
      "B_alpha.shape: (2271, 4), h_star.shape: (2271,)\n",
      "h0.shape: (2271,), h_star.shape:(2271,), Lambda.shape: (2271,)\n",
      "total_transaction_costs: 0.0\n"
     ]
    },
    {
     "name": "stderr",
     "output_type": "stream",
     "text": [
      "\r",
      "Optimizing Portfolio:  58%|█████▊    | 146/252 [25:58<18:51, 10.68s/day]"
     ]
    },
    {
     "name": "stdout",
     "output_type": "stream",
     "text": [
      "B.shape: (2274, 77), BT.shape:(77, 2274) , h_star.shape: (2274,)\n",
      "risk_exposures.shape: (77,)\n",
      "B_alpha.shape: (2274, 4), h_star.shape: (2274,)\n",
      "h0.shape: (2274,), h_star.shape:(2274,), Lambda.shape: (2274,)\n",
      "total_transaction_costs: 0.0\n"
     ]
    },
    {
     "name": "stderr",
     "output_type": "stream",
     "text": [
      "\r",
      "Optimizing Portfolio:  58%|█████▊    | 147/252 [26:08<18:40, 10.67s/day]"
     ]
    },
    {
     "name": "stdout",
     "output_type": "stream",
     "text": [
      "B.shape: (2259, 77), BT.shape:(77, 2259) , h_star.shape: (2259,)\n",
      "risk_exposures.shape: (77,)\n",
      "B_alpha.shape: (2259, 4), h_star.shape: (2259,)\n",
      "h0.shape: (2259,), h_star.shape:(2259,), Lambda.shape: (2259,)\n",
      "total_transaction_costs: 0.0\n"
     ]
    },
    {
     "name": "stderr",
     "output_type": "stream",
     "text": [
      "\r",
      "Optimizing Portfolio:  59%|█████▊    | 148/252 [26:17<18:28, 10.66s/day]"
     ]
    },
    {
     "name": "stdout",
     "output_type": "stream",
     "text": [
      "B.shape: (2259, 77), BT.shape:(77, 2259) , h_star.shape: (2259,)\n",
      "risk_exposures.shape: (77,)\n",
      "B_alpha.shape: (2259, 4), h_star.shape: (2259,)\n",
      "h0.shape: (2259,), h_star.shape:(2259,), Lambda.shape: (2259,)\n",
      "total_transaction_costs: 0.0\n"
     ]
    },
    {
     "name": "stderr",
     "output_type": "stream",
     "text": [
      "\r",
      "Optimizing Portfolio:  59%|█████▉    | 149/252 [26:27<18:17, 10.65s/day]"
     ]
    },
    {
     "name": "stdout",
     "output_type": "stream",
     "text": [
      "B.shape: (2249, 77), BT.shape:(77, 2249) , h_star.shape: (2249,)\n",
      "risk_exposures.shape: (77,)\n",
      "B_alpha.shape: (2249, 4), h_star.shape: (2249,)\n",
      "h0.shape: (2249,), h_star.shape:(2249,), Lambda.shape: (2249,)\n",
      "total_transaction_costs: 0.0\n"
     ]
    },
    {
     "name": "stderr",
     "output_type": "stream",
     "text": [
      "\r",
      "Optimizing Portfolio:  60%|█████▉    | 150/252 [26:36<18:05, 10.64s/day]"
     ]
    },
    {
     "name": "stdout",
     "output_type": "stream",
     "text": [
      "B.shape: (2237, 77), BT.shape:(77, 2237) , h_star.shape: (2237,)\n",
      "risk_exposures.shape: (77,)\n",
      "B_alpha.shape: (2237, 4), h_star.shape: (2237,)\n",
      "h0.shape: (2237,), h_star.shape:(2237,), Lambda.shape: (2237,)\n",
      "total_transaction_costs: 0.0\n"
     ]
    },
    {
     "name": "stderr",
     "output_type": "stream",
     "text": [
      "\r",
      "Optimizing Portfolio:  60%|█████▉    | 151/252 [26:45<17:54, 10.63s/day]"
     ]
    },
    {
     "name": "stdout",
     "output_type": "stream",
     "text": [
      "B.shape: (2235, 77), BT.shape:(77, 2235) , h_star.shape: (2235,)\n",
      "risk_exposures.shape: (77,)\n",
      "B_alpha.shape: (2235, 4), h_star.shape: (2235,)\n",
      "h0.shape: (2235,), h_star.shape:(2235,), Lambda.shape: (2235,)\n",
      "total_transaction_costs: 0.0\n"
     ]
    },
    {
     "name": "stderr",
     "output_type": "stream",
     "text": [
      "\r",
      "Optimizing Portfolio:  60%|██████    | 152/252 [26:55<17:42, 10.63s/day]"
     ]
    },
    {
     "name": "stdout",
     "output_type": "stream",
     "text": [
      "B.shape: (2243, 77), BT.shape:(77, 2243) , h_star.shape: (2243,)\n",
      "risk_exposures.shape: (77,)\n",
      "B_alpha.shape: (2243, 4), h_star.shape: (2243,)\n",
      "h0.shape: (2243,), h_star.shape:(2243,), Lambda.shape: (2243,)\n",
      "total_transaction_costs: 0.0\n"
     ]
    },
    {
     "name": "stderr",
     "output_type": "stream",
     "text": [
      "\r",
      "Optimizing Portfolio:  61%|██████    | 153/252 [27:04<17:31, 10.62s/day]"
     ]
    },
    {
     "name": "stdout",
     "output_type": "stream",
     "text": [
      "B.shape: (2240, 77), BT.shape:(77, 2240) , h_star.shape: (2240,)\n",
      "risk_exposures.shape: (77,)\n",
      "B_alpha.shape: (2240, 4), h_star.shape: (2240,)\n",
      "h0.shape: (2240,), h_star.shape:(2240,), Lambda.shape: (2240,)\n",
      "total_transaction_costs: 0.0\n"
     ]
    },
    {
     "name": "stderr",
     "output_type": "stream",
     "text": [
      "\r",
      "Optimizing Portfolio:  61%|██████    | 154/252 [27:14<17:19, 10.61s/day]"
     ]
    },
    {
     "name": "stdout",
     "output_type": "stream",
     "text": [
      "B.shape: (2224, 77), BT.shape:(77, 2224) , h_star.shape: (2224,)\n",
      "risk_exposures.shape: (77,)\n",
      "B_alpha.shape: (2224, 4), h_star.shape: (2224,)\n",
      "h0.shape: (2224,), h_star.shape:(2224,), Lambda.shape: (2224,)\n",
      "total_transaction_costs: 0.0\n"
     ]
    },
    {
     "name": "stderr",
     "output_type": "stream",
     "text": [
      "\r",
      "Optimizing Portfolio:  62%|██████▏   | 155/252 [27:23<17:08, 10.60s/day]"
     ]
    },
    {
     "name": "stdout",
     "output_type": "stream",
     "text": [
      "B.shape: (2220, 77), BT.shape:(77, 2220) , h_star.shape: (2220,)\n",
      "risk_exposures.shape: (77,)\n",
      "B_alpha.shape: (2220, 4), h_star.shape: (2220,)\n",
      "h0.shape: (2220,), h_star.shape:(2220,), Lambda.shape: (2220,)\n",
      "total_transaction_costs: 0.0\n"
     ]
    },
    {
     "name": "stderr",
     "output_type": "stream",
     "text": [
      "\r",
      "Optimizing Portfolio:  62%|██████▏   | 156/252 [27:33<16:57, 10.60s/day]"
     ]
    },
    {
     "name": "stdout",
     "output_type": "stream",
     "text": [
      "B.shape: (2234, 77), BT.shape:(77, 2234) , h_star.shape: (2234,)\n",
      "risk_exposures.shape: (77,)\n",
      "B_alpha.shape: (2234, 4), h_star.shape: (2234,)\n",
      "h0.shape: (2234,), h_star.shape:(2234,), Lambda.shape: (2234,)\n",
      "total_transaction_costs: 0.0\n"
     ]
    },
    {
     "name": "stderr",
     "output_type": "stream",
     "text": [
      "\r",
      "Optimizing Portfolio:  62%|██████▏   | 157/252 [27:42<16:45, 10.59s/day]"
     ]
    },
    {
     "name": "stdout",
     "output_type": "stream",
     "text": [
      "B.shape: (2242, 77), BT.shape:(77, 2242) , h_star.shape: (2242,)\n",
      "risk_exposures.shape: (77,)\n",
      "B_alpha.shape: (2242, 4), h_star.shape: (2242,)\n",
      "h0.shape: (2242,), h_star.shape:(2242,), Lambda.shape: (2242,)\n",
      "total_transaction_costs: 0.0\n"
     ]
    },
    {
     "name": "stderr",
     "output_type": "stream",
     "text": [
      "\r",
      "Optimizing Portfolio:  63%|██████▎   | 158/252 [27:51<16:34, 10.58s/day]"
     ]
    },
    {
     "name": "stdout",
     "output_type": "stream",
     "text": [
      "B.shape: (2252, 77), BT.shape:(77, 2252) , h_star.shape: (2252,)\n",
      "risk_exposures.shape: (77,)\n",
      "B_alpha.shape: (2252, 4), h_star.shape: (2252,)\n",
      "h0.shape: (2252,), h_star.shape:(2252,), Lambda.shape: (2252,)\n",
      "total_transaction_costs: 0.0\n"
     ]
    },
    {
     "name": "stderr",
     "output_type": "stream",
     "text": [
      "\r",
      "Optimizing Portfolio:  63%|██████▎   | 159/252 [28:01<16:23, 10.57s/day]"
     ]
    },
    {
     "name": "stdout",
     "output_type": "stream",
     "text": [
      "B.shape: (2254, 77), BT.shape:(77, 2254) , h_star.shape: (2254,)\n",
      "risk_exposures.shape: (77,)\n",
      "B_alpha.shape: (2254, 4), h_star.shape: (2254,)\n",
      "h0.shape: (2254,), h_star.shape:(2254,), Lambda.shape: (2254,)\n",
      "total_transaction_costs: 0.0\n"
     ]
    },
    {
     "name": "stderr",
     "output_type": "stream",
     "text": [
      "\r",
      "Optimizing Portfolio:  63%|██████▎   | 160/252 [28:10<16:12, 10.57s/day]"
     ]
    },
    {
     "name": "stdout",
     "output_type": "stream",
     "text": [
      "B.shape: (2269, 77), BT.shape:(77, 2269) , h_star.shape: (2269,)\n",
      "risk_exposures.shape: (77,)\n",
      "B_alpha.shape: (2269, 4), h_star.shape: (2269,)\n",
      "h0.shape: (2269,), h_star.shape:(2269,), Lambda.shape: (2269,)\n",
      "total_transaction_costs: 0.0\n"
     ]
    },
    {
     "name": "stderr",
     "output_type": "stream",
     "text": [
      "\r",
      "Optimizing Portfolio:  64%|██████▍   | 161/252 [28:20<16:00, 10.56s/day]"
     ]
    },
    {
     "name": "stdout",
     "output_type": "stream",
     "text": [
      "B.shape: (2264, 77), BT.shape:(77, 2264) , h_star.shape: (2264,)\n",
      "risk_exposures.shape: (77,)\n",
      "B_alpha.shape: (2264, 4), h_star.shape: (2264,)\n",
      "h0.shape: (2264,), h_star.shape:(2264,), Lambda.shape: (2264,)\n",
      "total_transaction_costs: 0.0\n"
     ]
    },
    {
     "name": "stderr",
     "output_type": "stream",
     "text": [
      "\r",
      "Optimizing Portfolio:  64%|██████▍   | 162/252 [28:29<15:49, 10.55s/day]"
     ]
    },
    {
     "name": "stdout",
     "output_type": "stream",
     "text": [
      "B.shape: (2267, 77), BT.shape:(77, 2267) , h_star.shape: (2267,)\n",
      "risk_exposures.shape: (77,)\n",
      "B_alpha.shape: (2267, 4), h_star.shape: (2267,)\n",
      "h0.shape: (2267,), h_star.shape:(2267,), Lambda.shape: (2267,)\n",
      "total_transaction_costs: 0.0\n"
     ]
    },
    {
     "name": "stderr",
     "output_type": "stream",
     "text": [
      "\r",
      "Optimizing Portfolio:  65%|██████▍   | 163/252 [28:39<15:38, 10.55s/day]"
     ]
    },
    {
     "name": "stdout",
     "output_type": "stream",
     "text": [
      "B.shape: (2272, 77), BT.shape:(77, 2272) , h_star.shape: (2272,)\n",
      "risk_exposures.shape: (77,)\n",
      "B_alpha.shape: (2272, 4), h_star.shape: (2272,)\n",
      "h0.shape: (2272,), h_star.shape:(2272,), Lambda.shape: (2272,)\n",
      "total_transaction_costs: 0.0\n"
     ]
    },
    {
     "name": "stderr",
     "output_type": "stream",
     "text": [
      "\r",
      "Optimizing Portfolio:  65%|██████▌   | 164/252 [28:48<15:27, 10.54s/day]"
     ]
    },
    {
     "name": "stdout",
     "output_type": "stream",
     "text": [
      "B.shape: (2273, 77), BT.shape:(77, 2273) , h_star.shape: (2273,)\n",
      "risk_exposures.shape: (77,)\n",
      "B_alpha.shape: (2273, 4), h_star.shape: (2273,)\n",
      "h0.shape: (2273,), h_star.shape:(2273,), Lambda.shape: (2273,)\n",
      "total_transaction_costs: 0.0\n"
     ]
    },
    {
     "name": "stderr",
     "output_type": "stream",
     "text": [
      "\r",
      "Optimizing Portfolio:  65%|██████▌   | 165/252 [28:58<15:16, 10.53s/day]"
     ]
    },
    {
     "name": "stdout",
     "output_type": "stream",
     "text": [
      "B.shape: (2275, 77), BT.shape:(77, 2275) , h_star.shape: (2275,)\n",
      "risk_exposures.shape: (77,)\n",
      "B_alpha.shape: (2275, 4), h_star.shape: (2275,)\n",
      "h0.shape: (2275,), h_star.shape:(2275,), Lambda.shape: (2275,)\n",
      "total_transaction_costs: 0.0\n"
     ]
    },
    {
     "name": "stderr",
     "output_type": "stream",
     "text": [
      "\r",
      "Optimizing Portfolio:  66%|██████▌   | 166/252 [29:07<15:05, 10.53s/day]"
     ]
    },
    {
     "name": "stdout",
     "output_type": "stream",
     "text": [
      "B.shape: (2270, 77), BT.shape:(77, 2270) , h_star.shape: (2270,)\n",
      "risk_exposures.shape: (77,)\n",
      "B_alpha.shape: (2270, 4), h_star.shape: (2270,)\n",
      "h0.shape: (2270,), h_star.shape:(2270,), Lambda.shape: (2270,)\n",
      "total_transaction_costs: 0.0\n"
     ]
    },
    {
     "name": "stderr",
     "output_type": "stream",
     "text": [
      "\r",
      "Optimizing Portfolio:  66%|██████▋   | 167/252 [29:17<14:54, 10.52s/day]"
     ]
    },
    {
     "name": "stdout",
     "output_type": "stream",
     "text": [
      "B.shape: (2272, 77), BT.shape:(77, 2272) , h_star.shape: (2272,)\n",
      "risk_exposures.shape: (77,)\n",
      "B_alpha.shape: (2272, 4), h_star.shape: (2272,)\n",
      "h0.shape: (2272,), h_star.shape:(2272,), Lambda.shape: (2272,)\n",
      "total_transaction_costs: 0.0\n"
     ]
    },
    {
     "name": "stderr",
     "output_type": "stream",
     "text": [
      "\r",
      "Optimizing Portfolio:  67%|██████▋   | 168/252 [29:26<14:43, 10.51s/day]"
     ]
    },
    {
     "name": "stdout",
     "output_type": "stream",
     "text": [
      "B.shape: (2285, 77), BT.shape:(77, 2285) , h_star.shape: (2285,)\n",
      "risk_exposures.shape: (77,)\n",
      "B_alpha.shape: (2285, 4), h_star.shape: (2285,)\n",
      "h0.shape: (2285,), h_star.shape:(2285,), Lambda.shape: (2285,)\n",
      "total_transaction_costs: 0.0\n"
     ]
    },
    {
     "name": "stderr",
     "output_type": "stream",
     "text": [
      "\r",
      "Optimizing Portfolio:  67%|██████▋   | 169/252 [29:35<14:32, 10.51s/day]"
     ]
    },
    {
     "name": "stdout",
     "output_type": "stream",
     "text": [
      "B.shape: (2297, 77), BT.shape:(77, 2297) , h_star.shape: (2297,)\n",
      "risk_exposures.shape: (77,)\n",
      "B_alpha.shape: (2297, 4), h_star.shape: (2297,)\n",
      "h0.shape: (2297,), h_star.shape:(2297,), Lambda.shape: (2297,)\n",
      "total_transaction_costs: 0.0\n"
     ]
    },
    {
     "name": "stderr",
     "output_type": "stream",
     "text": [
      "\r",
      "Optimizing Portfolio:  67%|██████▋   | 170/252 [29:45<14:21, 10.50s/day]"
     ]
    },
    {
     "name": "stdout",
     "output_type": "stream",
     "text": [
      "B.shape: (2289, 77), BT.shape:(77, 2289) , h_star.shape: (2289,)\n",
      "risk_exposures.shape: (77,)\n",
      "B_alpha.shape: (2289, 4), h_star.shape: (2289,)\n",
      "h0.shape: (2289,), h_star.shape:(2289,), Lambda.shape: (2289,)\n",
      "total_transaction_costs: 0.0\n"
     ]
    },
    {
     "name": "stderr",
     "output_type": "stream",
     "text": [
      "\r",
      "Optimizing Portfolio:  68%|██████▊   | 171/252 [29:54<14:10, 10.50s/day]"
     ]
    },
    {
     "name": "stdout",
     "output_type": "stream",
     "text": [
      "B.shape: (2297, 77), BT.shape:(77, 2297) , h_star.shape: (2297,)\n",
      "risk_exposures.shape: (77,)\n",
      "B_alpha.shape: (2297, 4), h_star.shape: (2297,)\n",
      "h0.shape: (2297,), h_star.shape:(2297,), Lambda.shape: (2297,)\n",
      "total_transaction_costs: 0.0\n"
     ]
    },
    {
     "name": "stderr",
     "output_type": "stream",
     "text": [
      "\r",
      "Optimizing Portfolio:  68%|██████▊   | 172/252 [30:04<13:59, 10.49s/day]"
     ]
    },
    {
     "name": "stdout",
     "output_type": "stream",
     "text": [
      "B.shape: (2285, 77), BT.shape:(77, 2285) , h_star.shape: (2285,)\n",
      "risk_exposures.shape: (77,)\n",
      "B_alpha.shape: (2285, 4), h_star.shape: (2285,)\n",
      "h0.shape: (2285,), h_star.shape:(2285,), Lambda.shape: (2285,)\n",
      "total_transaction_costs: 0.0\n"
     ]
    },
    {
     "name": "stderr",
     "output_type": "stream",
     "text": [
      "\r",
      "Optimizing Portfolio:  69%|██████▊   | 173/252 [30:13<13:48, 10.48s/day]"
     ]
    },
    {
     "name": "stdout",
     "output_type": "stream",
     "text": [
      "B.shape: (2301, 77), BT.shape:(77, 2301) , h_star.shape: (2301,)\n",
      "risk_exposures.shape: (77,)\n",
      "B_alpha.shape: (2301, 4), h_star.shape: (2301,)\n",
      "h0.shape: (2301,), h_star.shape:(2301,), Lambda.shape: (2301,)\n",
      "total_transaction_costs: 0.0\n"
     ]
    },
    {
     "name": "stderr",
     "output_type": "stream",
     "text": [
      "\r",
      "Optimizing Portfolio:  69%|██████▉   | 174/252 [30:23<13:37, 10.48s/day]"
     ]
    },
    {
     "name": "stdout",
     "output_type": "stream",
     "text": [
      "B.shape: (2309, 77), BT.shape:(77, 2309) , h_star.shape: (2309,)\n",
      "risk_exposures.shape: (77,)\n",
      "B_alpha.shape: (2309, 4), h_star.shape: (2309,)\n",
      "h0.shape: (2309,), h_star.shape:(2309,), Lambda.shape: (2309,)\n",
      "total_transaction_costs: 0.0\n"
     ]
    },
    {
     "name": "stderr",
     "output_type": "stream",
     "text": [
      "\r",
      "Optimizing Portfolio:  69%|██████▉   | 175/252 [30:32<13:26, 10.47s/day]"
     ]
    },
    {
     "name": "stdout",
     "output_type": "stream",
     "text": [
      "B.shape: (2312, 77), BT.shape:(77, 2312) , h_star.shape: (2312,)\n",
      "risk_exposures.shape: (77,)\n",
      "B_alpha.shape: (2312, 4), h_star.shape: (2312,)\n",
      "h0.shape: (2312,), h_star.shape:(2312,), Lambda.shape: (2312,)\n",
      "total_transaction_costs: 0.0\n"
     ]
    },
    {
     "name": "stderr",
     "output_type": "stream",
     "text": [
      "\r",
      "Optimizing Portfolio:  70%|██████▉   | 176/252 [30:42<13:15, 10.47s/day]"
     ]
    },
    {
     "name": "stdout",
     "output_type": "stream",
     "text": [
      "B.shape: (2306, 77), BT.shape:(77, 2306) , h_star.shape: (2306,)\n",
      "risk_exposures.shape: (77,)\n",
      "B_alpha.shape: (2306, 4), h_star.shape: (2306,)\n",
      "h0.shape: (2306,), h_star.shape:(2306,), Lambda.shape: (2306,)\n",
      "total_transaction_costs: 0.0\n"
     ]
    },
    {
     "name": "stderr",
     "output_type": "stream",
     "text": [
      "\r",
      "Optimizing Portfolio:  70%|███████   | 177/252 [30:51<13:04, 10.46s/day]"
     ]
    },
    {
     "name": "stdout",
     "output_type": "stream",
     "text": [
      "B.shape: (2304, 77), BT.shape:(77, 2304) , h_star.shape: (2304,)\n",
      "risk_exposures.shape: (77,)\n",
      "B_alpha.shape: (2304, 4), h_star.shape: (2304,)\n",
      "h0.shape: (2304,), h_star.shape:(2304,), Lambda.shape: (2304,)\n",
      "total_transaction_costs: 0.0\n"
     ]
    },
    {
     "name": "stderr",
     "output_type": "stream",
     "text": [
      "\r",
      "Optimizing Portfolio:  71%|███████   | 178/252 [31:00<12:53, 10.45s/day]"
     ]
    },
    {
     "name": "stdout",
     "output_type": "stream",
     "text": [
      "B.shape: (2316, 77), BT.shape:(77, 2316) , h_star.shape: (2316,)\n",
      "risk_exposures.shape: (77,)\n",
      "B_alpha.shape: (2316, 4), h_star.shape: (2316,)\n",
      "h0.shape: (2316,), h_star.shape:(2316,), Lambda.shape: (2316,)\n",
      "total_transaction_costs: 0.0\n"
     ]
    },
    {
     "name": "stderr",
     "output_type": "stream",
     "text": [
      "\r",
      "Optimizing Portfolio:  71%|███████   | 179/252 [31:10<12:42, 10.45s/day]"
     ]
    },
    {
     "name": "stdout",
     "output_type": "stream",
     "text": [
      "B.shape: (2320, 77), BT.shape:(77, 2320) , h_star.shape: (2320,)\n",
      "risk_exposures.shape: (77,)\n",
      "B_alpha.shape: (2320, 4), h_star.shape: (2320,)\n",
      "h0.shape: (2320,), h_star.shape:(2320,), Lambda.shape: (2320,)\n",
      "total_transaction_costs: 0.0\n"
     ]
    },
    {
     "name": "stderr",
     "output_type": "stream",
     "text": [
      "\r",
      "Optimizing Portfolio:  71%|███████▏  | 180/252 [31:19<12:31, 10.44s/day]"
     ]
    },
    {
     "name": "stdout",
     "output_type": "stream",
     "text": [
      "B.shape: (2309, 77), BT.shape:(77, 2309) , h_star.shape: (2309,)\n",
      "risk_exposures.shape: (77,)\n",
      "B_alpha.shape: (2309, 4), h_star.shape: (2309,)\n",
      "h0.shape: (2309,), h_star.shape:(2309,), Lambda.shape: (2309,)\n",
      "total_transaction_costs: 0.0\n"
     ]
    },
    {
     "name": "stderr",
     "output_type": "stream",
     "text": [
      "\r",
      "Optimizing Portfolio:  72%|███████▏  | 181/252 [31:29<12:21, 10.44s/day]"
     ]
    },
    {
     "name": "stdout",
     "output_type": "stream",
     "text": [
      "B.shape: (2328, 77), BT.shape:(77, 2328) , h_star.shape: (2328,)\n",
      "risk_exposures.shape: (77,)\n",
      "B_alpha.shape: (2328, 4), h_star.shape: (2328,)\n",
      "h0.shape: (2328,), h_star.shape:(2328,), Lambda.shape: (2328,)\n",
      "total_transaction_costs: 0.0\n"
     ]
    },
    {
     "name": "stderr",
     "output_type": "stream",
     "text": [
      "\r",
      "Optimizing Portfolio:  72%|███████▏  | 182/252 [31:38<12:10, 10.43s/day]"
     ]
    },
    {
     "name": "stdout",
     "output_type": "stream",
     "text": [
      "B.shape: (2311, 77), BT.shape:(77, 2311) , h_star.shape: (2311,)\n",
      "risk_exposures.shape: (77,)\n",
      "B_alpha.shape: (2311, 4), h_star.shape: (2311,)\n",
      "h0.shape: (2311,), h_star.shape:(2311,), Lambda.shape: (2311,)\n",
      "total_transaction_costs: 0.0\n"
     ]
    },
    {
     "name": "stderr",
     "output_type": "stream",
     "text": [
      "\r",
      "Optimizing Portfolio:  73%|███████▎  | 183/252 [31:48<11:59, 10.43s/day]"
     ]
    },
    {
     "name": "stdout",
     "output_type": "stream",
     "text": [
      "B.shape: (2315, 77), BT.shape:(77, 2315) , h_star.shape: (2315,)\n",
      "risk_exposures.shape: (77,)\n",
      "B_alpha.shape: (2315, 4), h_star.shape: (2315,)\n",
      "h0.shape: (2315,), h_star.shape:(2315,), Lambda.shape: (2315,)\n",
      "total_transaction_costs: 0.0\n"
     ]
    },
    {
     "name": "stderr",
     "output_type": "stream",
     "text": [
      "\r",
      "Optimizing Portfolio:  73%|███████▎  | 184/252 [31:57<11:48, 10.42s/day]"
     ]
    },
    {
     "name": "stdout",
     "output_type": "stream",
     "text": [
      "B.shape: (2314, 77), BT.shape:(77, 2314) , h_star.shape: (2314,)\n",
      "risk_exposures.shape: (77,)\n",
      "B_alpha.shape: (2314, 4), h_star.shape: (2314,)\n",
      "h0.shape: (2314,), h_star.shape:(2314,), Lambda.shape: (2314,)\n",
      "total_transaction_costs: 0.0\n"
     ]
    },
    {
     "name": "stderr",
     "output_type": "stream",
     "text": [
      "\r",
      "Optimizing Portfolio:  73%|███████▎  | 185/252 [32:06<11:37, 10.42s/day]"
     ]
    },
    {
     "name": "stdout",
     "output_type": "stream",
     "text": [
      "B.shape: (2301, 77), BT.shape:(77, 2301) , h_star.shape: (2301,)\n",
      "risk_exposures.shape: (77,)\n",
      "B_alpha.shape: (2301, 4), h_star.shape: (2301,)\n",
      "h0.shape: (2301,), h_star.shape:(2301,), Lambda.shape: (2301,)\n",
      "total_transaction_costs: 0.0\n"
     ]
    },
    {
     "name": "stderr",
     "output_type": "stream",
     "text": [
      "\r",
      "Optimizing Portfolio:  74%|███████▍  | 186/252 [32:16<11:27, 10.41s/day]"
     ]
    },
    {
     "name": "stdout",
     "output_type": "stream",
     "text": [
      "B.shape: (2315, 77), BT.shape:(77, 2315) , h_star.shape: (2315,)\n",
      "risk_exposures.shape: (77,)\n",
      "B_alpha.shape: (2315, 4), h_star.shape: (2315,)\n",
      "h0.shape: (2315,), h_star.shape:(2315,), Lambda.shape: (2315,)\n",
      "total_transaction_costs: 0.0\n"
     ]
    },
    {
     "name": "stderr",
     "output_type": "stream",
     "text": [
      "\r",
      "Optimizing Portfolio:  74%|███████▍  | 187/252 [32:25<11:16, 10.41s/day]"
     ]
    },
    {
     "name": "stdout",
     "output_type": "stream",
     "text": [
      "B.shape: (2321, 77), BT.shape:(77, 2321) , h_star.shape: (2321,)\n",
      "risk_exposures.shape: (77,)\n",
      "B_alpha.shape: (2321, 4), h_star.shape: (2321,)\n",
      "h0.shape: (2321,), h_star.shape:(2321,), Lambda.shape: (2321,)\n",
      "total_transaction_costs: 0.0\n"
     ]
    },
    {
     "name": "stderr",
     "output_type": "stream",
     "text": [
      "\r",
      "Optimizing Portfolio:  75%|███████▍  | 188/252 [32:35<11:05, 10.40s/day]"
     ]
    },
    {
     "name": "stdout",
     "output_type": "stream",
     "text": [
      "B.shape: (2330, 77), BT.shape:(77, 2330) , h_star.shape: (2330,)\n",
      "risk_exposures.shape: (77,)\n",
      "B_alpha.shape: (2330, 4), h_star.shape: (2330,)\n",
      "h0.shape: (2330,), h_star.shape:(2330,), Lambda.shape: (2330,)\n",
      "total_transaction_costs: 0.0\n"
     ]
    },
    {
     "name": "stderr",
     "output_type": "stream",
     "text": [
      "\r",
      "Optimizing Portfolio:  75%|███████▌  | 189/252 [32:44<10:54, 10.40s/day]"
     ]
    },
    {
     "name": "stdout",
     "output_type": "stream",
     "text": [
      "B.shape: (2354, 77), BT.shape:(77, 2354) , h_star.shape: (2354,)\n",
      "risk_exposures.shape: (77,)\n",
      "B_alpha.shape: (2354, 4), h_star.shape: (2354,)\n",
      "h0.shape: (2354,), h_star.shape:(2354,), Lambda.shape: (2354,)\n",
      "total_transaction_costs: 0.0\n"
     ]
    },
    {
     "name": "stderr",
     "output_type": "stream",
     "text": [
      "\r",
      "Optimizing Portfolio:  75%|███████▌  | 190/252 [32:54<10:44, 10.39s/day]"
     ]
    },
    {
     "name": "stdout",
     "output_type": "stream",
     "text": [
      "B.shape: (2361, 77), BT.shape:(77, 2361) , h_star.shape: (2361,)\n",
      "risk_exposures.shape: (77,)\n",
      "B_alpha.shape: (2361, 4), h_star.shape: (2361,)\n",
      "h0.shape: (2361,), h_star.shape:(2361,), Lambda.shape: (2361,)\n",
      "total_transaction_costs: 0.0\n"
     ]
    },
    {
     "name": "stderr",
     "output_type": "stream",
     "text": [
      "\r",
      "Optimizing Portfolio:  76%|███████▌  | 191/252 [33:03<10:33, 10.39s/day]"
     ]
    },
    {
     "name": "stdout",
     "output_type": "stream",
     "text": [
      "B.shape: (2358, 77), BT.shape:(77, 2358) , h_star.shape: (2358,)\n",
      "risk_exposures.shape: (77,)\n",
      "B_alpha.shape: (2358, 4), h_star.shape: (2358,)\n",
      "h0.shape: (2358,), h_star.shape:(2358,), Lambda.shape: (2358,)\n",
      "total_transaction_costs: 0.0\n"
     ]
    },
    {
     "name": "stderr",
     "output_type": "stream",
     "text": [
      "\r",
      "Optimizing Portfolio:  76%|███████▌  | 192/252 [33:13<10:22, 10.38s/day]"
     ]
    },
    {
     "name": "stdout",
     "output_type": "stream",
     "text": [
      "B.shape: (2370, 77), BT.shape:(77, 2370) , h_star.shape: (2370,)\n",
      "risk_exposures.shape: (77,)\n",
      "B_alpha.shape: (2370, 4), h_star.shape: (2370,)\n",
      "h0.shape: (2370,), h_star.shape:(2370,), Lambda.shape: (2370,)\n",
      "total_transaction_costs: 0.0\n"
     ]
    },
    {
     "name": "stderr",
     "output_type": "stream",
     "text": [
      "\r",
      "Optimizing Portfolio:  77%|███████▋  | 193/252 [33:22<10:12, 10.38s/day]"
     ]
    },
    {
     "name": "stdout",
     "output_type": "stream",
     "text": [
      "B.shape: (2360, 77), BT.shape:(77, 2360) , h_star.shape: (2360,)\n",
      "risk_exposures.shape: (77,)\n",
      "B_alpha.shape: (2360, 4), h_star.shape: (2360,)\n",
      "h0.shape: (2360,), h_star.shape:(2360,), Lambda.shape: (2360,)\n",
      "total_transaction_costs: 0.0\n"
     ]
    },
    {
     "name": "stderr",
     "output_type": "stream",
     "text": [
      "\r",
      "Optimizing Portfolio:  77%|███████▋  | 194/252 [33:33<10:01, 10.38s/day]"
     ]
    },
    {
     "name": "stdout",
     "output_type": "stream",
     "text": [
      "B.shape: (2349, 77), BT.shape:(77, 2349) , h_star.shape: (2349,)\n",
      "risk_exposures.shape: (77,)\n",
      "B_alpha.shape: (2349, 4), h_star.shape: (2349,)\n",
      "h0.shape: (2349,), h_star.shape:(2349,), Lambda.shape: (2349,)\n",
      "total_transaction_costs: 0.0\n"
     ]
    },
    {
     "name": "stderr",
     "output_type": "stream",
     "text": [
      "\r",
      "Optimizing Portfolio:  77%|███████▋  | 195/252 [33:43<09:51, 10.38s/day]"
     ]
    },
    {
     "name": "stdout",
     "output_type": "stream",
     "text": [
      "B.shape: (2349, 77), BT.shape:(77, 2349) , h_star.shape: (2349,)\n",
      "risk_exposures.shape: (77,)\n",
      "B_alpha.shape: (2349, 4), h_star.shape: (2349,)\n",
      "h0.shape: (2349,), h_star.shape:(2349,), Lambda.shape: (2349,)\n",
      "total_transaction_costs: 0.0\n"
     ]
    },
    {
     "name": "stderr",
     "output_type": "stream",
     "text": [
      "\r",
      "Optimizing Portfolio:  78%|███████▊  | 196/252 [35:06<10:01, 10.74s/day]"
     ]
    },
    {
     "name": "stdout",
     "output_type": "stream",
     "text": [
      "B.shape: (2343, 77), BT.shape:(77, 2343) , h_star.shape: (2343,)\n",
      "risk_exposures.shape: (77,)\n",
      "B_alpha.shape: (2343, 4), h_star.shape: (2343,)\n",
      "h0.shape: (2343,), h_star.shape:(2343,), Lambda.shape: (2343,)\n",
      "total_transaction_costs: 0.0\n"
     ]
    },
    {
     "name": "stderr",
     "output_type": "stream",
     "text": [
      "\r",
      "Optimizing Portfolio:  78%|███████▊  | 197/252 [35:14<09:50, 10.74s/day]"
     ]
    },
    {
     "name": "stdout",
     "output_type": "stream",
     "text": [
      "B.shape: (2333, 77), BT.shape:(77, 2333) , h_star.shape: (2333,)\n",
      "risk_exposures.shape: (77,)\n",
      "B_alpha.shape: (2333, 4), h_star.shape: (2333,)\n",
      "h0.shape: (2333,), h_star.shape:(2333,), Lambda.shape: (2333,)\n",
      "total_transaction_costs: 0.0\n"
     ]
    },
    {
     "name": "stderr",
     "output_type": "stream",
     "text": [
      "\r",
      "Optimizing Portfolio:  79%|███████▊  | 198/252 [35:24<09:39, 10.73s/day]"
     ]
    },
    {
     "name": "stdout",
     "output_type": "stream",
     "text": [
      "B.shape: (2329, 77), BT.shape:(77, 2329) , h_star.shape: (2329,)\n",
      "risk_exposures.shape: (77,)\n",
      "B_alpha.shape: (2329, 4), h_star.shape: (2329,)\n",
      "h0.shape: (2329,), h_star.shape:(2329,), Lambda.shape: (2329,)\n",
      "total_transaction_costs: 0.0\n"
     ]
    },
    {
     "name": "stderr",
     "output_type": "stream",
     "text": [
      "\r",
      "Optimizing Portfolio:  79%|███████▉  | 199/252 [35:45<09:31, 10.78s/day]"
     ]
    },
    {
     "name": "stdout",
     "output_type": "stream",
     "text": [
      "B.shape: (2333, 77), BT.shape:(77, 2333) , h_star.shape: (2333,)\n",
      "risk_exposures.shape: (77,)\n",
      "B_alpha.shape: (2333, 4), h_star.shape: (2333,)\n",
      "h0.shape: (2333,), h_star.shape:(2333,), Lambda.shape: (2333,)\n",
      "total_transaction_costs: 0.0\n"
     ]
    },
    {
     "name": "stderr",
     "output_type": "stream",
     "text": [
      "\r",
      "Optimizing Portfolio:  79%|███████▉  | 200/252 [35:56<09:20, 10.78s/day]"
     ]
    },
    {
     "name": "stdout",
     "output_type": "stream",
     "text": [
      "B.shape: (2337, 77), BT.shape:(77, 2337) , h_star.shape: (2337,)\n",
      "risk_exposures.shape: (77,)\n",
      "B_alpha.shape: (2337, 4), h_star.shape: (2337,)\n",
      "h0.shape: (2337,), h_star.shape:(2337,), Lambda.shape: (2337,)\n",
      "total_transaction_costs: 0.0\n"
     ]
    },
    {
     "name": "stderr",
     "output_type": "stream",
     "text": [
      "\r",
      "Optimizing Portfolio:  80%|███████▉  | 201/252 [36:06<09:09, 10.78s/day]"
     ]
    },
    {
     "name": "stdout",
     "output_type": "stream",
     "text": [
      "B.shape: (2325, 77), BT.shape:(77, 2325) , h_star.shape: (2325,)\n",
      "risk_exposures.shape: (77,)\n",
      "B_alpha.shape: (2325, 4), h_star.shape: (2325,)\n",
      "h0.shape: (2325,), h_star.shape:(2325,), Lambda.shape: (2325,)\n",
      "total_transaction_costs: 0.0\n"
     ]
    },
    {
     "name": "stderr",
     "output_type": "stream",
     "text": [
      "\r",
      "Optimizing Portfolio:  80%|████████  | 202/252 [36:16<08:58, 10.77s/day]"
     ]
    },
    {
     "name": "stdout",
     "output_type": "stream",
     "text": [
      "B.shape: (2329, 77), BT.shape:(77, 2329) , h_star.shape: (2329,)\n",
      "risk_exposures.shape: (77,)\n",
      "B_alpha.shape: (2329, 4), h_star.shape: (2329,)\n",
      "h0.shape: (2329,), h_star.shape:(2329,), Lambda.shape: (2329,)\n",
      "total_transaction_costs: 0.0\n"
     ]
    },
    {
     "name": "stderr",
     "output_type": "stream",
     "text": [
      "\r",
      "Optimizing Portfolio:  81%|████████  | 203/252 [36:26<08:47, 10.77s/day]"
     ]
    },
    {
     "name": "stdout",
     "output_type": "stream",
     "text": [
      "B.shape: (2346, 77), BT.shape:(77, 2346) , h_star.shape: (2346,)\n",
      "risk_exposures.shape: (77,)\n",
      "B_alpha.shape: (2346, 4), h_star.shape: (2346,)\n",
      "h0.shape: (2346,), h_star.shape:(2346,), Lambda.shape: (2346,)\n",
      "total_transaction_costs: 0.0\n"
     ]
    },
    {
     "name": "stderr",
     "output_type": "stream",
     "text": [
      "\r",
      "Optimizing Portfolio:  81%|████████  | 204/252 [36:37<08:37, 10.77s/day]"
     ]
    },
    {
     "name": "stdout",
     "output_type": "stream",
     "text": [
      "B.shape: (2327, 77), BT.shape:(77, 2327) , h_star.shape: (2327,)\n",
      "risk_exposures.shape: (77,)\n",
      "B_alpha.shape: (2327, 4), h_star.shape: (2327,)\n",
      "h0.shape: (2327,), h_star.shape:(2327,), Lambda.shape: (2327,)\n",
      "total_transaction_costs: 0.0\n"
     ]
    },
    {
     "name": "stderr",
     "output_type": "stream",
     "text": [
      "\r",
      "Optimizing Portfolio:  81%|████████▏ | 205/252 [36:48<08:26, 10.77s/day]"
     ]
    },
    {
     "name": "stdout",
     "output_type": "stream",
     "text": [
      "B.shape: (2332, 77), BT.shape:(77, 2332) , h_star.shape: (2332,)\n",
      "risk_exposures.shape: (77,)\n",
      "B_alpha.shape: (2332, 4), h_star.shape: (2332,)\n",
      "h0.shape: (2332,), h_star.shape:(2332,), Lambda.shape: (2332,)\n",
      "total_transaction_costs: 0.0\n"
     ]
    },
    {
     "name": "stderr",
     "output_type": "stream",
     "text": [
      "\r",
      "Optimizing Portfolio:  82%|████████▏ | 206/252 [36:58<08:15, 10.77s/day]"
     ]
    },
    {
     "name": "stdout",
     "output_type": "stream",
     "text": [
      "B.shape: (2347, 77), BT.shape:(77, 2347) , h_star.shape: (2347,)\n",
      "risk_exposures.shape: (77,)\n",
      "B_alpha.shape: (2347, 4), h_star.shape: (2347,)\n",
      "h0.shape: (2347,), h_star.shape:(2347,), Lambda.shape: (2347,)\n",
      "total_transaction_costs: 0.0\n"
     ]
    },
    {
     "name": "stderr",
     "output_type": "stream",
     "text": [
      "\r",
      "Optimizing Portfolio:  82%|████████▏ | 207/252 [37:07<08:04, 10.76s/day]"
     ]
    },
    {
     "name": "stdout",
     "output_type": "stream",
     "text": [
      "B.shape: (2360, 77), BT.shape:(77, 2360) , h_star.shape: (2360,)\n",
      "risk_exposures.shape: (77,)\n",
      "B_alpha.shape: (2360, 4), h_star.shape: (2360,)\n",
      "h0.shape: (2360,), h_star.shape:(2360,), Lambda.shape: (2360,)\n",
      "total_transaction_costs: 0.0\n"
     ]
    },
    {
     "name": "stderr",
     "output_type": "stream",
     "text": [
      "\r",
      "Optimizing Portfolio:  83%|████████▎ | 208/252 [37:17<07:53, 10.76s/day]"
     ]
    },
    {
     "name": "stdout",
     "output_type": "stream",
     "text": [
      "B.shape: (2357, 77), BT.shape:(77, 2357) , h_star.shape: (2357,)\n",
      "risk_exposures.shape: (77,)\n",
      "B_alpha.shape: (2357, 4), h_star.shape: (2357,)\n",
      "h0.shape: (2357,), h_star.shape:(2357,), Lambda.shape: (2357,)\n",
      "total_transaction_costs: 0.0\n"
     ]
    },
    {
     "name": "stderr",
     "output_type": "stream",
     "text": [
      "\r",
      "Optimizing Portfolio:  83%|████████▎ | 209/252 [37:29<07:42, 10.76s/day]"
     ]
    },
    {
     "name": "stdout",
     "output_type": "stream",
     "text": [
      "B.shape: (2351, 77), BT.shape:(77, 2351) , h_star.shape: (2351,)\n",
      "risk_exposures.shape: (77,)\n",
      "B_alpha.shape: (2351, 4), h_star.shape: (2351,)\n",
      "h0.shape: (2351,), h_star.shape:(2351,), Lambda.shape: (2351,)\n",
      "total_transaction_costs: 0.0\n"
     ]
    },
    {
     "name": "stderr",
     "output_type": "stream",
     "text": [
      "\r",
      "Optimizing Portfolio:  83%|████████▎ | 210/252 [37:38<07:31, 10.76s/day]"
     ]
    },
    {
     "name": "stdout",
     "output_type": "stream",
     "text": [
      "B.shape: (2360, 77), BT.shape:(77, 2360) , h_star.shape: (2360,)\n",
      "risk_exposures.shape: (77,)\n",
      "B_alpha.shape: (2360, 4), h_star.shape: (2360,)\n",
      "h0.shape: (2360,), h_star.shape:(2360,), Lambda.shape: (2360,)\n",
      "total_transaction_costs: 0.0\n"
     ]
    },
    {
     "name": "stderr",
     "output_type": "stream",
     "text": [
      "\r",
      "Optimizing Portfolio:  84%|████████▎ | 211/252 [37:48<07:20, 10.75s/day]"
     ]
    },
    {
     "name": "stdout",
     "output_type": "stream",
     "text": [
      "B.shape: (2359, 77), BT.shape:(77, 2359) , h_star.shape: (2359,)\n",
      "risk_exposures.shape: (77,)\n",
      "B_alpha.shape: (2359, 4), h_star.shape: (2359,)\n",
      "h0.shape: (2359,), h_star.shape:(2359,), Lambda.shape: (2359,)\n",
      "total_transaction_costs: 0.0\n"
     ]
    },
    {
     "name": "stderr",
     "output_type": "stream",
     "text": [
      "\r",
      "Optimizing Portfolio:  84%|████████▍ | 212/252 [37:57<07:09, 10.74s/day]"
     ]
    },
    {
     "name": "stdout",
     "output_type": "stream",
     "text": [
      "B.shape: (2376, 77), BT.shape:(77, 2376) , h_star.shape: (2376,)\n",
      "risk_exposures.shape: (77,)\n",
      "B_alpha.shape: (2376, 4), h_star.shape: (2376,)\n",
      "h0.shape: (2376,), h_star.shape:(2376,), Lambda.shape: (2376,)\n",
      "total_transaction_costs: 0.0\n"
     ]
    },
    {
     "name": "stderr",
     "output_type": "stream",
     "text": [
      "\r",
      "Optimizing Portfolio:  85%|████████▍ | 213/252 [38:06<06:58, 10.74s/day]"
     ]
    },
    {
     "name": "stdout",
     "output_type": "stream",
     "text": [
      "B.shape: (2395, 77), BT.shape:(77, 2395) , h_star.shape: (2395,)\n",
      "risk_exposures.shape: (77,)\n",
      "B_alpha.shape: (2395, 4), h_star.shape: (2395,)\n",
      "h0.shape: (2395,), h_star.shape:(2395,), Lambda.shape: (2395,)\n",
      "total_transaction_costs: 0.0\n"
     ]
    },
    {
     "name": "stderr",
     "output_type": "stream",
     "text": [
      "\r",
      "Optimizing Portfolio:  85%|████████▍ | 214/252 [38:16<06:47, 10.73s/day]"
     ]
    },
    {
     "name": "stdout",
     "output_type": "stream",
     "text": [
      "B.shape: (2400, 77), BT.shape:(77, 2400) , h_star.shape: (2400,)\n",
      "risk_exposures.shape: (77,)\n",
      "B_alpha.shape: (2400, 4), h_star.shape: (2400,)\n",
      "h0.shape: (2400,), h_star.shape:(2400,), Lambda.shape: (2400,)\n",
      "total_transaction_costs: 0.0\n"
     ]
    },
    {
     "name": "stderr",
     "output_type": "stream",
     "text": [
      "\r",
      "Optimizing Portfolio:  85%|████████▌ | 215/252 [38:25<06:36, 10.72s/day]"
     ]
    },
    {
     "name": "stdout",
     "output_type": "stream",
     "text": [
      "B.shape: (2391, 77), BT.shape:(77, 2391) , h_star.shape: (2391,)\n",
      "risk_exposures.shape: (77,)\n",
      "B_alpha.shape: (2391, 4), h_star.shape: (2391,)\n",
      "h0.shape: (2391,), h_star.shape:(2391,), Lambda.shape: (2391,)\n",
      "total_transaction_costs: 0.0\n"
     ]
    },
    {
     "name": "stderr",
     "output_type": "stream",
     "text": [
      "\r",
      "Optimizing Portfolio:  86%|████████▌ | 216/252 [38:35<06:25, 10.72s/day]"
     ]
    },
    {
     "name": "stdout",
     "output_type": "stream",
     "text": [
      "B.shape: (2406, 77), BT.shape:(77, 2406) , h_star.shape: (2406,)\n",
      "risk_exposures.shape: (77,)\n",
      "B_alpha.shape: (2406, 4), h_star.shape: (2406,)\n",
      "h0.shape: (2406,), h_star.shape:(2406,), Lambda.shape: (2406,)\n",
      "total_transaction_costs: 0.0\n"
     ]
    },
    {
     "name": "stderr",
     "output_type": "stream",
     "text": [
      "\r",
      "Optimizing Portfolio:  86%|████████▌ | 217/252 [38:44<06:14, 10.71s/day]"
     ]
    },
    {
     "name": "stdout",
     "output_type": "stream",
     "text": [
      "B.shape: (2418, 77), BT.shape:(77, 2418) , h_star.shape: (2418,)\n",
      "risk_exposures.shape: (77,)\n",
      "B_alpha.shape: (2418, 4), h_star.shape: (2418,)\n",
      "h0.shape: (2418,), h_star.shape:(2418,), Lambda.shape: (2418,)\n",
      "total_transaction_costs: 0.0\n"
     ]
    },
    {
     "name": "stderr",
     "output_type": "stream",
     "text": [
      "\r",
      "Optimizing Portfolio:  87%|████████▋ | 218/252 [38:53<06:04, 10.71s/day]"
     ]
    },
    {
     "name": "stdout",
     "output_type": "stream",
     "text": [
      "B.shape: (2426, 77), BT.shape:(77, 2426) , h_star.shape: (2426,)\n",
      "risk_exposures.shape: (77,)\n",
      "B_alpha.shape: (2426, 4), h_star.shape: (2426,)\n",
      "h0.shape: (2426,), h_star.shape:(2426,), Lambda.shape: (2426,)\n",
      "total_transaction_costs: 0.0\n"
     ]
    },
    {
     "name": "stderr",
     "output_type": "stream",
     "text": [
      "\r",
      "Optimizing Portfolio:  87%|████████▋ | 219/252 [39:03<05:53, 10.70s/day]"
     ]
    },
    {
     "name": "stdout",
     "output_type": "stream",
     "text": [
      "B.shape: (2434, 77), BT.shape:(77, 2434) , h_star.shape: (2434,)\n",
      "risk_exposures.shape: (77,)\n",
      "B_alpha.shape: (2434, 4), h_star.shape: (2434,)\n",
      "h0.shape: (2434,), h_star.shape:(2434,), Lambda.shape: (2434,)\n",
      "total_transaction_costs: 0.0\n"
     ]
    },
    {
     "name": "stderr",
     "output_type": "stream",
     "text": [
      "\r",
      "Optimizing Portfolio:  87%|████████▋ | 220/252 [39:12<05:42, 10.69s/day]"
     ]
    },
    {
     "name": "stdout",
     "output_type": "stream",
     "text": [
      "B.shape: (2439, 77), BT.shape:(77, 2439) , h_star.shape: (2439,)\n",
      "risk_exposures.shape: (77,)\n",
      "B_alpha.shape: (2439, 4), h_star.shape: (2439,)\n",
      "h0.shape: (2439,), h_star.shape:(2439,), Lambda.shape: (2439,)\n",
      "total_transaction_costs: 0.0\n"
     ]
    },
    {
     "name": "stderr",
     "output_type": "stream",
     "text": [
      "\r",
      "Optimizing Portfolio:  88%|████████▊ | 221/252 [39:22<05:31, 10.69s/day]"
     ]
    },
    {
     "name": "stdout",
     "output_type": "stream",
     "text": [
      "B.shape: (2433, 77), BT.shape:(77, 2433) , h_star.shape: (2433,)\n",
      "risk_exposures.shape: (77,)\n",
      "B_alpha.shape: (2433, 4), h_star.shape: (2433,)\n",
      "h0.shape: (2433,), h_star.shape:(2433,), Lambda.shape: (2433,)\n",
      "total_transaction_costs: 0.0\n"
     ]
    },
    {
     "name": "stderr",
     "output_type": "stream",
     "text": [
      "\r",
      "Optimizing Portfolio:  88%|████████▊ | 222/252 [39:31<05:20, 10.68s/day]"
     ]
    },
    {
     "name": "stdout",
     "output_type": "stream",
     "text": [
      "B.shape: (2447, 77), BT.shape:(77, 2447) , h_star.shape: (2447,)\n",
      "risk_exposures.shape: (77,)\n",
      "B_alpha.shape: (2447, 4), h_star.shape: (2447,)\n",
      "h0.shape: (2447,), h_star.shape:(2447,), Lambda.shape: (2447,)\n",
      "total_transaction_costs: 0.0\n"
     ]
    },
    {
     "name": "stderr",
     "output_type": "stream",
     "text": [
      "\r",
      "Optimizing Portfolio:  88%|████████▊ | 223/252 [39:42<05:09, 10.69s/day]"
     ]
    },
    {
     "name": "stdout",
     "output_type": "stream",
     "text": [
      "B.shape: (2443, 77), BT.shape:(77, 2443) , h_star.shape: (2443,)\n",
      "risk_exposures.shape: (77,)\n",
      "B_alpha.shape: (2443, 4), h_star.shape: (2443,)\n",
      "h0.shape: (2443,), h_star.shape:(2443,), Lambda.shape: (2443,)\n",
      "total_transaction_costs: 0.0\n"
     ]
    },
    {
     "name": "stderr",
     "output_type": "stream",
     "text": [
      "\r",
      "Optimizing Portfolio:  89%|████████▉ | 224/252 [39:52<04:59, 10.68s/day]"
     ]
    },
    {
     "name": "stdout",
     "output_type": "stream",
     "text": [
      "B.shape: (2430, 77), BT.shape:(77, 2430) , h_star.shape: (2430,)\n",
      "risk_exposures.shape: (77,)\n",
      "B_alpha.shape: (2430, 4), h_star.shape: (2430,)\n",
      "h0.shape: (2430,), h_star.shape:(2430,), Lambda.shape: (2430,)\n",
      "total_transaction_costs: 0.0\n"
     ]
    },
    {
     "name": "stderr",
     "output_type": "stream",
     "text": [
      "\r",
      "Optimizing Portfolio:  89%|████████▉ | 225/252 [40:03<04:48, 10.68s/day]"
     ]
    },
    {
     "name": "stdout",
     "output_type": "stream",
     "text": [
      "B.shape: (2438, 77), BT.shape:(77, 2438) , h_star.shape: (2438,)\n",
      "risk_exposures.shape: (77,)\n",
      "B_alpha.shape: (2438, 4), h_star.shape: (2438,)\n",
      "h0.shape: (2438,), h_star.shape:(2438,), Lambda.shape: (2438,)\n",
      "total_transaction_costs: 0.0\n"
     ]
    },
    {
     "name": "stderr",
     "output_type": "stream",
     "text": [
      "\r",
      "Optimizing Portfolio:  90%|████████▉ | 226/252 [40:13<04:37, 10.68s/day]"
     ]
    },
    {
     "name": "stdout",
     "output_type": "stream",
     "text": [
      "B.shape: (2440, 77), BT.shape:(77, 2440) , h_star.shape: (2440,)\n",
      "risk_exposures.shape: (77,)\n",
      "B_alpha.shape: (2440, 4), h_star.shape: (2440,)\n",
      "h0.shape: (2440,), h_star.shape:(2440,), Lambda.shape: (2440,)\n",
      "total_transaction_costs: 0.0\n"
     ]
    },
    {
     "name": "stderr",
     "output_type": "stream",
     "text": [
      "\r",
      "Optimizing Portfolio:  90%|█████████ | 227/252 [40:22<04:26, 10.67s/day]"
     ]
    },
    {
     "name": "stdout",
     "output_type": "stream",
     "text": [
      "B.shape: (2452, 77), BT.shape:(77, 2452) , h_star.shape: (2452,)\n",
      "risk_exposures.shape: (77,)\n",
      "B_alpha.shape: (2452, 4), h_star.shape: (2452,)\n",
      "h0.shape: (2452,), h_star.shape:(2452,), Lambda.shape: (2452,)\n",
      "total_transaction_costs: 0.0\n"
     ]
    },
    {
     "name": "stderr",
     "output_type": "stream",
     "text": [
      "\r",
      "Optimizing Portfolio:  90%|█████████ | 228/252 [40:34<04:16, 10.68s/day]"
     ]
    },
    {
     "name": "stdout",
     "output_type": "stream",
     "text": [
      "B.shape: (2452, 77), BT.shape:(77, 2452) , h_star.shape: (2452,)\n",
      "risk_exposures.shape: (77,)\n",
      "B_alpha.shape: (2452, 4), h_star.shape: (2452,)\n",
      "h0.shape: (2452,), h_star.shape:(2452,), Lambda.shape: (2452,)\n",
      "total_transaction_costs: 0.0\n"
     ]
    },
    {
     "name": "stderr",
     "output_type": "stream",
     "text": [
      "\r",
      "Optimizing Portfolio:  91%|█████████ | 229/252 [40:44<04:05, 10.68s/day]"
     ]
    },
    {
     "name": "stdout",
     "output_type": "stream",
     "text": [
      "B.shape: (2459, 77), BT.shape:(77, 2459) , h_star.shape: (2459,)\n",
      "risk_exposures.shape: (77,)\n",
      "B_alpha.shape: (2459, 4), h_star.shape: (2459,)\n",
      "h0.shape: (2459,), h_star.shape:(2459,), Lambda.shape: (2459,)\n",
      "total_transaction_costs: 0.0\n"
     ]
    },
    {
     "name": "stderr",
     "output_type": "stream",
     "text": [
      "\r",
      "Optimizing Portfolio:  91%|█████████▏| 230/252 [40:54<03:54, 10.67s/day]"
     ]
    },
    {
     "name": "stdout",
     "output_type": "stream",
     "text": [
      "B.shape: (2449, 77), BT.shape:(77, 2449) , h_star.shape: (2449,)\n",
      "risk_exposures.shape: (77,)\n",
      "B_alpha.shape: (2449, 4), h_star.shape: (2449,)\n",
      "h0.shape: (2449,), h_star.shape:(2449,), Lambda.shape: (2449,)\n",
      "total_transaction_costs: 0.0\n"
     ]
    },
    {
     "name": "stderr",
     "output_type": "stream",
     "text": [
      "\r",
      "Optimizing Portfolio:  92%|█████████▏| 231/252 [41:06<03:44, 10.68s/day]"
     ]
    },
    {
     "name": "stdout",
     "output_type": "stream",
     "text": [
      "B.shape: (2467, 77), BT.shape:(77, 2467) , h_star.shape: (2467,)\n",
      "risk_exposures.shape: (77,)\n",
      "B_alpha.shape: (2467, 4), h_star.shape: (2467,)\n",
      "h0.shape: (2467,), h_star.shape:(2467,), Lambda.shape: (2467,)\n",
      "total_transaction_costs: 0.0\n"
     ]
    },
    {
     "name": "stderr",
     "output_type": "stream",
     "text": [
      "\r",
      "Optimizing Portfolio:  92%|█████████▏| 232/252 [41:16<03:33, 10.67s/day]"
     ]
    },
    {
     "name": "stdout",
     "output_type": "stream",
     "text": [
      "B.shape: (2466, 77), BT.shape:(77, 2466) , h_star.shape: (2466,)\n",
      "risk_exposures.shape: (77,)\n",
      "B_alpha.shape: (2466, 4), h_star.shape: (2466,)\n",
      "h0.shape: (2466,), h_star.shape:(2466,), Lambda.shape: (2466,)\n",
      "total_transaction_costs: 0.0\n"
     ]
    },
    {
     "name": "stderr",
     "output_type": "stream",
     "text": [
      "\r",
      "Optimizing Portfolio:  92%|█████████▏| 233/252 [41:27<03:22, 10.67s/day]"
     ]
    },
    {
     "name": "stdout",
     "output_type": "stream",
     "text": [
      "B.shape: (2466, 77), BT.shape:(77, 2466) , h_star.shape: (2466,)\n",
      "risk_exposures.shape: (77,)\n",
      "B_alpha.shape: (2466, 4), h_star.shape: (2466,)\n",
      "h0.shape: (2466,), h_star.shape:(2466,), Lambda.shape: (2466,)\n",
      "total_transaction_costs: 0.0\n"
     ]
    },
    {
     "name": "stderr",
     "output_type": "stream",
     "text": [
      "\r",
      "Optimizing Portfolio:  93%|█████████▎| 234/252 [41:37<03:12, 10.67s/day]"
     ]
    },
    {
     "name": "stdout",
     "output_type": "stream",
     "text": [
      "B.shape: (2461, 77), BT.shape:(77, 2461) , h_star.shape: (2461,)\n",
      "risk_exposures.shape: (77,)\n",
      "B_alpha.shape: (2461, 4), h_star.shape: (2461,)\n",
      "h0.shape: (2461,), h_star.shape:(2461,), Lambda.shape: (2461,)\n",
      "total_transaction_costs: 0.0\n"
     ]
    },
    {
     "name": "stderr",
     "output_type": "stream",
     "text": [
      "\r",
      "Optimizing Portfolio:  93%|█████████▎| 235/252 [41:46<03:01, 10.67s/day]"
     ]
    },
    {
     "name": "stdout",
     "output_type": "stream",
     "text": [
      "B.shape: (2445, 77), BT.shape:(77, 2445) , h_star.shape: (2445,)\n",
      "risk_exposures.shape: (77,)\n",
      "B_alpha.shape: (2445, 4), h_star.shape: (2445,)\n",
      "h0.shape: (2445,), h_star.shape:(2445,), Lambda.shape: (2445,)\n",
      "total_transaction_costs: 0.0\n"
     ]
    },
    {
     "name": "stderr",
     "output_type": "stream",
     "text": [
      "\r",
      "Optimizing Portfolio:  94%|█████████▎| 236/252 [41:56<02:50, 10.66s/day]"
     ]
    },
    {
     "name": "stdout",
     "output_type": "stream",
     "text": [
      "B.shape: (2448, 77), BT.shape:(77, 2448) , h_star.shape: (2448,)\n",
      "risk_exposures.shape: (77,)\n",
      "B_alpha.shape: (2448, 4), h_star.shape: (2448,)\n",
      "h0.shape: (2448,), h_star.shape:(2448,), Lambda.shape: (2448,)\n",
      "total_transaction_costs: 0.0\n"
     ]
    },
    {
     "name": "stderr",
     "output_type": "stream",
     "text": [
      "\r",
      "Optimizing Portfolio:  94%|█████████▍| 237/252 [42:05<02:39, 10.66s/day]"
     ]
    },
    {
     "name": "stdout",
     "output_type": "stream",
     "text": [
      "B.shape: (2452, 77), BT.shape:(77, 2452) , h_star.shape: (2452,)\n",
      "risk_exposures.shape: (77,)\n",
      "B_alpha.shape: (2452, 4), h_star.shape: (2452,)\n",
      "h0.shape: (2452,), h_star.shape:(2452,), Lambda.shape: (2452,)\n",
      "total_transaction_costs: 0.0\n"
     ]
    },
    {
     "name": "stderr",
     "output_type": "stream",
     "text": [
      "\r",
      "Optimizing Portfolio:  94%|█████████▍| 238/252 [42:15<02:29, 10.65s/day]"
     ]
    },
    {
     "name": "stdout",
     "output_type": "stream",
     "text": [
      "B.shape: (2454, 77), BT.shape:(77, 2454) , h_star.shape: (2454,)\n",
      "risk_exposures.shape: (77,)\n",
      "B_alpha.shape: (2454, 4), h_star.shape: (2454,)\n",
      "h0.shape: (2454,), h_star.shape:(2454,), Lambda.shape: (2454,)\n",
      "total_transaction_costs: 0.0\n"
     ]
    },
    {
     "name": "stderr",
     "output_type": "stream",
     "text": [
      "\r",
      "Optimizing Portfolio:  95%|█████████▍| 239/252 [42:24<02:18, 10.65s/day]"
     ]
    },
    {
     "name": "stdout",
     "output_type": "stream",
     "text": [
      "B.shape: (2454, 77), BT.shape:(77, 2454) , h_star.shape: (2454,)\n",
      "risk_exposures.shape: (77,)\n",
      "B_alpha.shape: (2454, 4), h_star.shape: (2454,)\n",
      "h0.shape: (2454,), h_star.shape:(2454,), Lambda.shape: (2454,)\n",
      "total_transaction_costs: 0.0\n"
     ]
    },
    {
     "name": "stderr",
     "output_type": "stream",
     "text": [
      "\r",
      "Optimizing Portfolio:  95%|█████████▌| 240/252 [42:34<02:07, 10.64s/day]"
     ]
    },
    {
     "name": "stdout",
     "output_type": "stream",
     "text": [
      "B.shape: (2466, 77), BT.shape:(77, 2466) , h_star.shape: (2466,)\n",
      "risk_exposures.shape: (77,)\n",
      "B_alpha.shape: (2466, 4), h_star.shape: (2466,)\n",
      "h0.shape: (2466,), h_star.shape:(2466,), Lambda.shape: (2466,)\n",
      "total_transaction_costs: 0.0\n"
     ]
    },
    {
     "name": "stderr",
     "output_type": "stream",
     "text": [
      "\r",
      "Optimizing Portfolio:  96%|█████████▌| 241/252 [42:44<01:57, 10.64s/day]"
     ]
    },
    {
     "name": "stdout",
     "output_type": "stream",
     "text": [
      "B.shape: (2475, 77), BT.shape:(77, 2475) , h_star.shape: (2475,)\n",
      "risk_exposures.shape: (77,)\n",
      "B_alpha.shape: (2475, 4), h_star.shape: (2475,)\n",
      "h0.shape: (2475,), h_star.shape:(2475,), Lambda.shape: (2475,)\n",
      "total_transaction_costs: 0.0\n"
     ]
    },
    {
     "name": "stderr",
     "output_type": "stream",
     "text": [
      "\r",
      "Optimizing Portfolio:  96%|█████████▌| 242/252 [42:54<01:46, 10.64s/day]"
     ]
    },
    {
     "name": "stdout",
     "output_type": "stream",
     "text": [
      "B.shape: (2469, 77), BT.shape:(77, 2469) , h_star.shape: (2469,)\n",
      "risk_exposures.shape: (77,)\n",
      "B_alpha.shape: (2469, 4), h_star.shape: (2469,)\n",
      "h0.shape: (2469,), h_star.shape:(2469,), Lambda.shape: (2469,)\n",
      "total_transaction_costs: 0.0\n"
     ]
    },
    {
     "name": "stderr",
     "output_type": "stream",
     "text": [
      "\r",
      "Optimizing Portfolio:  96%|█████████▋| 243/252 [43:03<01:35, 10.63s/day]"
     ]
    },
    {
     "name": "stdout",
     "output_type": "stream",
     "text": [
      "B.shape: (2473, 77), BT.shape:(77, 2473) , h_star.shape: (2473,)\n",
      "risk_exposures.shape: (77,)\n",
      "B_alpha.shape: (2473, 4), h_star.shape: (2473,)\n",
      "h0.shape: (2473,), h_star.shape:(2473,), Lambda.shape: (2473,)\n",
      "total_transaction_costs: 0.0\n"
     ]
    },
    {
     "name": "stderr",
     "output_type": "stream",
     "text": [
      "\r",
      "Optimizing Portfolio:  97%|█████████▋| 244/252 [43:13<01:25, 10.63s/day]"
     ]
    },
    {
     "name": "stdout",
     "output_type": "stream",
     "text": [
      "B.shape: (2470, 77), BT.shape:(77, 2470) , h_star.shape: (2470,)\n",
      "risk_exposures.shape: (77,)\n",
      "B_alpha.shape: (2470, 4), h_star.shape: (2470,)\n",
      "h0.shape: (2470,), h_star.shape:(2470,), Lambda.shape: (2470,)\n",
      "total_transaction_costs: 0.0\n"
     ]
    },
    {
     "name": "stderr",
     "output_type": "stream",
     "text": [
      "\r",
      "Optimizing Portfolio:  97%|█████████▋| 245/252 [43:24<01:14, 10.63s/day]"
     ]
    },
    {
     "name": "stdout",
     "output_type": "stream",
     "text": [
      "B.shape: (2477, 77), BT.shape:(77, 2477) , h_star.shape: (2477,)\n",
      "risk_exposures.shape: (77,)\n",
      "B_alpha.shape: (2477, 4), h_star.shape: (2477,)\n",
      "h0.shape: (2477,), h_star.shape:(2477,), Lambda.shape: (2477,)\n",
      "total_transaction_costs: 0.0\n"
     ]
    },
    {
     "name": "stderr",
     "output_type": "stream",
     "text": [
      "\r",
      "Optimizing Portfolio:  98%|█████████▊| 246/252 [43:36<01:03, 10.64s/day]"
     ]
    },
    {
     "name": "stdout",
     "output_type": "stream",
     "text": [
      "B.shape: (2484, 77), BT.shape:(77, 2484) , h_star.shape: (2484,)\n",
      "risk_exposures.shape: (77,)\n",
      "B_alpha.shape: (2484, 4), h_star.shape: (2484,)\n",
      "h0.shape: (2484,), h_star.shape:(2484,), Lambda.shape: (2484,)\n",
      "total_transaction_costs: 0.0\n"
     ]
    },
    {
     "name": "stderr",
     "output_type": "stream",
     "text": [
      "\r",
      "Optimizing Portfolio:  98%|█████████▊| 247/252 [43:46<00:53, 10.63s/day]"
     ]
    },
    {
     "name": "stdout",
     "output_type": "stream",
     "text": [
      "B.shape: (2482, 77), BT.shape:(77, 2482) , h_star.shape: (2482,)\n",
      "risk_exposures.shape: (77,)\n",
      "B_alpha.shape: (2482, 4), h_star.shape: (2482,)\n",
      "h0.shape: (2482,), h_star.shape:(2482,), Lambda.shape: (2482,)\n",
      "total_transaction_costs: 0.0\n"
     ]
    },
    {
     "name": "stderr",
     "output_type": "stream",
     "text": [
      "\r",
      "Optimizing Portfolio:  98%|█████████▊| 248/252 [43:56<00:42, 10.63s/day]"
     ]
    },
    {
     "name": "stdout",
     "output_type": "stream",
     "text": [
      "B.shape: (2479, 77), BT.shape:(77, 2479) , h_star.shape: (2479,)\n",
      "risk_exposures.shape: (77,)\n",
      "B_alpha.shape: (2479, 4), h_star.shape: (2479,)\n",
      "h0.shape: (2479,), h_star.shape:(2479,), Lambda.shape: (2479,)\n",
      "total_transaction_costs: 0.0\n"
     ]
    },
    {
     "name": "stderr",
     "output_type": "stream",
     "text": [
      "\r",
      "Optimizing Portfolio:  99%|█████████▉| 249/252 [44:05<00:31, 10.63s/day]"
     ]
    },
    {
     "name": "stdout",
     "output_type": "stream",
     "text": [
      "B.shape: (2493, 77), BT.shape:(77, 2493) , h_star.shape: (2493,)\n",
      "risk_exposures.shape: (77,)\n",
      "B_alpha.shape: (2493, 4), h_star.shape: (2493,)\n",
      "h0.shape: (2493,), h_star.shape:(2493,), Lambda.shape: (2493,)\n",
      "total_transaction_costs: 0.0\n"
     ]
    },
    {
     "name": "stderr",
     "output_type": "stream",
     "text": [
      "\r",
      "Optimizing Portfolio:  99%|█████████▉| 250/252 [44:15<00:21, 10.62s/day]"
     ]
    },
    {
     "name": "stdout",
     "output_type": "stream",
     "text": [
      "B.shape: (2491, 77), BT.shape:(77, 2491) , h_star.shape: (2491,)\n",
      "risk_exposures.shape: (77,)\n",
      "B_alpha.shape: (2491, 4), h_star.shape: (2491,)\n",
      "h0.shape: (2491,), h_star.shape:(2491,), Lambda.shape: (2491,)\n",
      "total_transaction_costs: 0.0\n"
     ]
    },
    {
     "name": "stderr",
     "output_type": "stream",
     "text": [
      "\r",
      "Optimizing Portfolio: 100%|█████████▉| 251/252 [44:24<00:10, 10.62s/day]"
     ]
    },
    {
     "name": "stdout",
     "output_type": "stream",
     "text": [
      "B.shape: (2493, 77), BT.shape:(77, 2493) , h_star.shape: (2493,)\n",
      "risk_exposures.shape: (77,)\n",
      "B_alpha.shape: (2493, 4), h_star.shape: (2493,)\n",
      "h0.shape: (2493,), h_star.shape:(2493,), Lambda.shape: (2493,)\n",
      "total_transaction_costs: 0.0\n"
     ]
    },
    {
     "name": "stderr",
     "output_type": "stream",
     "text": [
      "\r",
      "Optimizing Portfolio: 100%|██████████| 252/252 [44:33<00:00, 10.61s/day]"
     ]
    },
    {
     "name": "stdout",
     "output_type": "stream",
     "text": [
      "B.shape: (2489, 77), BT.shape:(77, 2489) , h_star.shape: (2489,)\n",
      "risk_exposures.shape: (77,)\n",
      "B_alpha.shape: (2489, 4), h_star.shape: (2489,)\n",
      "h0.shape: (2489,), h_star.shape:(2489,), Lambda.shape: (2489,)\n",
      "total_transaction_costs: 0.0\n"
     ]
    },
    {
     "name": "stderr",
     "output_type": "stream",
     "text": [
      "\n"
     ]
    }
   ],
   "source": [
    "trades = {}\n",
    "port = {}\n",
    "\n",
    "for dt in tqdm(my_dates, desc='Optimizing Portfolio', unit='day'):\n",
    "    date = dt.strftime('%Y%m%d')\n",
    "\n",
    "    result = form_optimal_portfolio(frames[date], previous_holdings, risk_aversion)\n",
    "    trades[date] = build_tradelist(previous_holdings, result)\n",
    "    port[date] = result\n",
    "    previous_holdings = convert_to_previous(result)"
   ]
  },
  {
   "cell_type": "markdown",
   "metadata": {},
   "source": [
    "## Profit-and-Loss (PnL) attribution (TODO)\n",
    "\n",
    "Profit and Loss is the aggregate realized daily returns of the assets, weighted by the optimal portfolio holdings chosen, and summed up to get the portfolio's profit and loss.\n",
    "\n",
    "The PnL attributed to the alpha factors equals the factor returns times factor exposures for the alpha factors.  \n",
    "\n",
    "$$\n",
    "\\mbox{PnL}_{alpha}= f \\times b_{alpha}\n",
    "$$\n",
    "\n",
    "Similarly, the PnL attributed to the risk factors equals the factor returns times factor exposures of the risk factors.\n",
    "\n",
    "$$\n",
    "\\mbox{PnL}_{risk} = f \\times b_{risk}\n",
    "$$\n",
    "\n",
    "In the code below, in the function `build_pnl_attribution` calculate the PnL attributed to the alpha factors, the PnL attributed to the risk factors, and attribution to cost. "
   ]
  },
  {
   "cell_type": "code",
   "execution_count": 74,
   "metadata": {},
   "outputs": [],
   "source": [
    "## assumes v, w are pandas Series \n",
    "def partial_dot_product(v, w):\n",
    "    common = v.index.intersection(w.index)\n",
    "    return np.sum(v[common] * w[common])\n",
    "\n",
    "def build_pnl_attribution(): \n",
    "\n",
    "    df = pd.DataFrame(index = my_dates)\n",
    "    \n",
    "    for dt in my_dates:\n",
    "        date = dt.strftime('%Y%m%d')\n",
    "\n",
    "        p = port[date]\n",
    "        fr = facret[date]\n",
    "\n",
    "        mf = p['opt.portfolio'].merge(frames[date], how = 'left', on = \"Barrid\")\n",
    "        \n",
    "        mf['DlyReturn'] = wins(mf['DlyReturn'], -0.5, 0.5)\n",
    "        df.at[dt,\"daily.pnl\"] = np.sum(mf['h.opt'] * mf['DlyReturn'])\n",
    "        \n",
    "        # TODO: Implement\n",
    "        #print(p)\n",
    "        df.at[dt,\"attribution.alpha.pnl\"] = partial_dot_product(p[\"alpha.exposures\"],fr)\n",
    "        df.at[dt,\"attribution.risk.pnl\"] = partial_dot_product(p[\"risk.exposures\"],fr)\n",
    "        df.at[dt,\"attribution.cost\"] = p[\"total.cost\"]\n",
    "        \n",
    "    return df"
   ]
  },
  {
   "cell_type": "code",
   "execution_count": 75,
   "metadata": {},
   "outputs": [
    {
     "data": {
      "image/png": "[encoded data removed]",
      "text/plain": [
       "<matplotlib.figure.Figure at 0x1cc81db38>"
      ]
     },
     "metadata": {
      "needs_background": "light"
     },
     "output_type": "display_data"
    }
   ],
   "source": [
    "attr = build_pnl_attribution()\n",
    "\n",
    "for column in attr.columns:\n",
    "        plt.plot(attr[column].cumsum(), label=column)\n",
    "plt.legend(loc='upper left')\n",
    "plt.xlabel('Date')\n",
    "plt.ylabel('PnL Attribution')\n",
    "plt.show()"
   ]
  },
  {
   "cell_type": "markdown",
   "metadata": {},
   "source": [
    "## Build portfolio characteristics (TODO)\n",
    "Calculate the sum of long positions, short positions, net positions, gross market value, and amount of dollars traded.\n",
    "\n",
    "In the code below, in the function `build_portfolio_characteristics` calculate the sum of long positions, short positions, net positions, gross market value, and amount of dollars traded.  "
   ]
  },
  {
   "cell_type": "code",
   "execution_count": 76,
   "metadata": {},
   "outputs": [],
   "source": [
    "def build_portfolio_characteristics(): \n",
    "    df = pd.DataFrame(index = my_dates)\n",
    "    \n",
    "    for dt in my_dates:\n",
    "        date = dt.strftime('%Y%m%d')\n",
    "  \n",
    "        p = port[date]\n",
    "        tradelist = trades[date]\n",
    "        h = p['opt.portfolio']['h.opt']\n",
    "        \n",
    "        # TODO: Implement\n",
    "        #print(h.shape)\n",
    "        df.at[dt,\"long\"] = np.sum(h>0)\n",
    "        df.at[dt,\"short\"] = np.sum(h<0)\n",
    "        df.at[dt,\"net\"] = df.at[dt,\"long\"] +  df.at[dt,\"short\"]\n",
    "        df.at[dt,\"gmv\"] = abs(df.at[dt,\"long\"]) +  abs(df.at[dt,\"short\"])\n",
    "        df.at[dt,\"traded\"] = np.nansum(h.shift(-1)-h)\n",
    "        \n",
    "    return df"
   ]
  },
  {
   "cell_type": "code",
   "execution_count": 77,
   "metadata": {},
   "outputs": [
    {
     "data": {
      "image/png": "[encoded data removed]",
      "text/plain": [
       "<matplotlib.figure.Figure at 0x1d507e5c0>"
      ]
     },
     "metadata": {
      "needs_background": "light"
     },
     "output_type": "display_data"
    }
   ],
   "source": [
    "pchar = build_portfolio_characteristics()\n",
    "\n",
    "for column in pchar.columns:\n",
    "        plt.plot(pchar[column], label=column)\n",
    "plt.legend(loc='upper left')\n",
    "plt.xlabel('Date')\n",
    "plt.ylabel('Portfolio')\n",
    "plt.show()"
   ]
  },
  {
   "cell_type": "markdown",
   "metadata": {},
   "source": [
    "#### Optional\n",
    "Choose additional metrics to evaluate your portfolio."
   ]
  },
  {
   "cell_type": "code",
   "execution_count": 78,
   "metadata": {},
   "outputs": [],
   "source": [
    "# Optional\n"
   ]
  },
  {
   "cell_type": "markdown",
   "metadata": {},
   "source": [
    "## Submission\n",
    "Now that you're done with the project, it's time to submit it. Click the submit button in the bottom right. One of our reviewers will give you feedback on your project with a pass or not passed grade."
   ]
  }
 ],
 "metadata": {
  "kernelspec": {
   "display_name": "Python 3",
   "language": "python",
   "name": "python3"
  },
  "language_info": {
   "codemirror_mode": {
    "name": "ipython",
    "version": 3
   },
   "file_extension": ".py",
   "mimetype": "text/x-python",
   "name": "python",
   "nbconvert_exporter": "python",
   "pygments_lexer": "ipython3",
   "version": "3.6.10"
  }
 },
 "nbformat": 4,
 "nbformat_minor": 2
}

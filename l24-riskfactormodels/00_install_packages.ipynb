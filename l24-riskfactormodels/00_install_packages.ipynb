{
 "cells": [
  {
   "cell_type": "markdown",
   "metadata": {},
   "source": [
    "# Install libraries for all code exercises in this lesson\n",
    "\n",
    "It takes about 8 to 9 minutes to install the libraries that are used in the exercises of this lesson.  To make your learning experience a bit smoother, please open this page in a new tab and run this code cell to install, then in your original page, continue onto the next video as the installation is running.  You should only have to install once for this lesson.  If you do \"menu\"->\"reset data\" at some point, you will have to reinstall the libraries again."
   ]
  },
  {
   "cell_type": "code",
   "execution_count": 1,
   "metadata": {},
   "outputs": [],
   "source": [
    "import sys"
   ]
  },
  {
   "cell_type": "code",
   "execution_count": 2,
   "metadata": {},
   "outputs": [
    {
     "name": "stdout",
     "output_type": "stream",
     "text": [
      "Processing /Users/anirudh/Library/Caches/pip/wheels/3b/63/08/bfacfd43d79c1851c5d03a6e8c27582203c5746fe00579b5db/plotly-2.2.3-py3-none-any.whl\n",
      "Collecting scikit-learn==0.19.1\n",
      "  Using cached scikit_learn-0.19.1-cp36-cp36m-macosx_10_6_intel.macosx_10_9_intel.macosx_10_9_x86_64.macosx_10_10_intel.macosx_10_10_x86_64.whl (7.6 MB)\n",
      "Collecting six==1.11.0\n",
      "  Using cached six-1.11.0-py2.py3-none-any.whl (10 kB)\n",
      "Collecting zipline===1.2.0\n",
      "  Using cached zipline-1.2.0.tar.gz (659 kB)\n",
      "Requirement already satisfied: nbformat>=4.2 in /anaconda3/lib/python3.6/site-packages (from plotly==2.2.3->-r requirements.txt (line 1)) (4.4.0)\n",
      "Requirement already satisfied: requests in /anaconda3/lib/python3.6/site-packages (from plotly==2.2.3->-r requirements.txt (line 1)) (2.22.0)\n",
      "Requirement already satisfied: decorator>=4.0.6 in /anaconda3/lib/python3.6/site-packages (from plotly==2.2.3->-r requirements.txt (line 1)) (4.4.0)\n",
      "Requirement already satisfied: pytz in /anaconda3/lib/python3.6/site-packages (from plotly==2.2.3->-r requirements.txt (line 1)) (2019.2)\n",
      "Requirement already satisfied: pip>=7.1.0 in /anaconda3/lib/python3.6/site-packages (from zipline===1.2.0->-r requirements.txt (line 4)) (20.0.2)\n",
      "Requirement already satisfied: setuptools>18.0 in /anaconda3/lib/python3.6/site-packages (from zipline===1.2.0->-r requirements.txt (line 4)) (41.0.1)\n",
      "Requirement already satisfied: Logbook>=0.12.5 in /anaconda3/lib/python3.6/site-packages (from zipline===1.2.0->-r requirements.txt (line 4)) (1.5.3)\n",
      "Requirement already satisfied: numpy>=1.11.1 in /anaconda3/lib/python3.6/site-packages (from zipline===1.2.0->-r requirements.txt (line 4)) (1.16.4)\n",
      "Requirement already satisfied: requests-file>=1.4.1 in /anaconda3/lib/python3.6/site-packages (from zipline===1.2.0->-r requirements.txt (line 4)) (1.4.3)\n",
      "Requirement already satisfied: scipy>=0.17.1 in /anaconda3/lib/python3.6/site-packages (from zipline===1.2.0->-r requirements.txt (line 4)) (1.3.1)\n",
      "Processing /Users/anirudh/Library/Caches/pip/wheels/32/15/fe/873be370134a62a116784ac2e08df00bad7ef4bec708e1f73c/pandas-0.18.1-cp36-cp36m-macosx_10_9_x86_64.whl\n",
      "Collecting pandas-datareader<0.6,>=0.2.1\n",
      "  Using cached pandas_datareader-0.5.0-py2.py3-none-any.whl (74 kB)\n",
      "Requirement already satisfied: patsy>=0.4.0 in /anaconda3/lib/python3.6/site-packages (from zipline===1.2.0->-r requirements.txt (line 4)) (0.5.1)\n",
      "Requirement already satisfied: statsmodels>=0.6.1 in /anaconda3/lib/python3.6/site-packages (from zipline===1.2.0->-r requirements.txt (line 4)) (0.9.0)\n",
      "Requirement already satisfied: python-dateutil>=2.4.2 in /anaconda3/lib/python3.6/site-packages (from zipline===1.2.0->-r requirements.txt (line 4)) (2.8.0)\n",
      "Requirement already satisfied: Cython>=0.25.2 in /anaconda3/lib/python3.6/site-packages (from zipline===1.2.0->-r requirements.txt (line 4)) (0.29.8)\n",
      "Requirement already satisfied: cyordereddict>=0.2.2 in /anaconda3/lib/python3.6/site-packages (from zipline===1.2.0->-r requirements.txt (line 4)) (1.0.0)\n",
      "Requirement already satisfied: bottleneck>=1.0.0 in /anaconda3/lib/python3.6/site-packages (from zipline===1.2.0->-r requirements.txt (line 4)) (1.2.1)\n",
      "Requirement already satisfied: contextlib2>=0.4.0 in /anaconda3/lib/python3.6/site-packages (from zipline===1.2.0->-r requirements.txt (line 4)) (0.5.5)\n",
      "Requirement already satisfied: networkx<2.0,>=1.9.1 in /anaconda3/lib/python3.6/site-packages (from zipline===1.2.0->-r requirements.txt (line 4)) (1.11)\n",
      "Requirement already satisfied: numexpr>=2.6.1 in /anaconda3/lib/python3.6/site-packages (from zipline===1.2.0->-r requirements.txt (line 4)) (2.7.0)\n",
      "Requirement already satisfied: bcolz<1,>=0.12.1 in /anaconda3/lib/python3.6/site-packages (from zipline===1.2.0->-r requirements.txt (line 4)) (0.12.1)\n",
      "Requirement already satisfied: click>=4.0.0 in /anaconda3/lib/python3.6/site-packages (from zipline===1.2.0->-r requirements.txt (line 4)) (7.0)\n",
      "Requirement already satisfied: toolz>=0.8.2 in /anaconda3/lib/python3.6/site-packages (from zipline===1.2.0->-r requirements.txt (line 4)) (0.10.0)\n",
      "Requirement already satisfied: multipledispatch>=0.4.8 in /anaconda3/lib/python3.6/site-packages (from zipline===1.2.0->-r requirements.txt (line 4)) (0.6.0)\n",
      "Requirement already satisfied: MarkupSafe>=0.23 in /anaconda3/lib/python3.6/site-packages (from zipline===1.2.0->-r requirements.txt (line 4)) (1.1.1)\n",
      "Requirement already satisfied: Mako>=1.0.1 in /anaconda3/lib/python3.6/site-packages (from zipline===1.2.0->-r requirements.txt (line 4)) (1.1.2)\n",
      "Requirement already satisfied: sqlalchemy>=1.0.8 in /anaconda3/lib/python3.6/site-packages (from zipline===1.2.0->-r requirements.txt (line 4)) (1.3.7)\n",
      "Requirement already satisfied: alembic>=0.7.7 in /anaconda3/lib/python3.6/site-packages (from zipline===1.2.0->-r requirements.txt (line 4)) (1.4.2)\n",
      "Requirement already satisfied: sortedcontainers>=1.4.4 in /anaconda3/lib/python3.6/site-packages (from zipline===1.2.0->-r requirements.txt (line 4)) (2.1.0)\n",
      "Requirement already satisfied: intervaltree>=2.1.0 in /anaconda3/lib/python3.6/site-packages (from zipline===1.2.0->-r requirements.txt (line 4)) (3.0.2)\n",
      "Requirement already satisfied: lru-dict>=1.1.4 in /anaconda3/lib/python3.6/site-packages (from zipline===1.2.0->-r requirements.txt (line 4)) (1.1.6)\n",
      "Requirement already satisfied: empyrical>=0.4.2 in /anaconda3/lib/python3.6/site-packages (from zipline===1.2.0->-r requirements.txt (line 4)) (0.5.3)\n",
      "Requirement already satisfied: tables>=3.3.0 in /anaconda3/lib/python3.6/site-packages (from zipline===1.2.0->-r requirements.txt (line 4)) (3.5.2)\n",
      "Requirement already satisfied: ipython_genutils in /anaconda3/lib/python3.6/site-packages (from nbformat>=4.2->plotly==2.2.3->-r requirements.txt (line 1)) (0.2.0)\n",
      "Requirement already satisfied: traitlets>=4.1 in /anaconda3/lib/python3.6/site-packages (from nbformat>=4.2->plotly==2.2.3->-r requirements.txt (line 1)) (4.3.2)\n",
      "Requirement already satisfied: jsonschema!=2.5.0,>=2.4 in /anaconda3/lib/python3.6/site-packages (from nbformat>=4.2->plotly==2.2.3->-r requirements.txt (line 1)) (3.0.2)\n",
      "Requirement already satisfied: jupyter_core in /anaconda3/lib/python3.6/site-packages (from nbformat>=4.2->plotly==2.2.3->-r requirements.txt (line 1)) (4.5.0)\n",
      "Requirement already satisfied: urllib3!=1.25.0,!=1.25.1,<1.26,>=1.21.1 in /anaconda3/lib/python3.6/site-packages (from requests->plotly==2.2.3->-r requirements.txt (line 1)) (1.24.2)\n",
      "Requirement already satisfied: idna<2.9,>=2.5 in /anaconda3/lib/python3.6/site-packages (from requests->plotly==2.2.3->-r requirements.txt (line 1)) (2.8)\n",
      "Requirement already satisfied: chardet<3.1.0,>=3.0.2 in /anaconda3/lib/python3.6/site-packages (from requests->plotly==2.2.3->-r requirements.txt (line 1)) (3.0.4)\n",
      "Requirement already satisfied: certifi>=2017.4.17 in /anaconda3/lib/python3.6/site-packages (from requests->plotly==2.2.3->-r requirements.txt (line 1)) (2019.11.28)\n",
      "Collecting requests-ftp\n",
      "  Using cached requests-ftp-0.3.1.tar.gz (7.8 kB)\n",
      "Requirement already satisfied: python-editor>=0.3 in /anaconda3/lib/python3.6/site-packages (from alembic>=0.7.7->zipline===1.2.0->-r requirements.txt (line 4)) (1.0.4)\n",
      "Requirement already satisfied: mock>=2.0 in /anaconda3/lib/python3.6/site-packages (from tables>=3.3.0->zipline===1.2.0->-r requirements.txt (line 4)) (3.0.5)\n",
      "Requirement already satisfied: pyrsistent>=0.14.0 in /anaconda3/lib/python3.6/site-packages (from jsonschema!=2.5.0,>=2.4->nbformat>=4.2->plotly==2.2.3->-r requirements.txt (line 1)) (0.14.11)\n",
      "Requirement already satisfied: attrs>=17.4.0 in /anaconda3/lib/python3.6/site-packages (from jsonschema!=2.5.0,>=2.4->nbformat>=4.2->plotly==2.2.3->-r requirements.txt (line 1)) (19.1.0)\n",
      "Building wheels for collected packages: zipline, requests-ftp\n",
      "  Building wheel for zipline (setup.py) ... \u001b[?25ldone\n",
      "\u001b[?25h  Created wheel for zipline: filename=zipline-1.2.0-cp36-cp36m-macosx_10_9_x86_64.whl size=1778232 sha256=85ac3926a620fd68541c6cdaf6c7290c6ef8c28ee33d0e65b748b30aada93380\n",
      "  Stored in directory: /Users/anirudh/Library/Caches/pip/wheels/05/13/88/164e4ac4e2662016300b12a0ab0920780bbb725120ccdb858a\n",
      "  Building wheel for requests-ftp (setup.py) ... \u001b[?25ldone\n",
      "\u001b[?25h  Created wheel for requests-ftp: filename=requests_ftp-0.3.1-py3-none-any.whl size=8172 sha256=5ddb4ef876a6b2b5b98a324d6dca6683339cb4d610f979506e9ead832a748115\n",
      "  Stored in directory: /Users/anirudh/Library/Caches/pip/wheels/ea/e4/5d/72f7aad2c589cd6b0fa0c38feda872115bff8512a46d6c7b74\n",
      "Successfully built zipline requests-ftp\n"
     ]
    },
    {
     "name": "stdout",
     "output_type": "stream",
     "text": [
      "Installing collected packages: six, plotly, scikit-learn, pandas, requests-ftp, pandas-datareader, zipline\n",
      "  Attempting uninstall: six\n",
      "    Found existing installation: six 1.12.0\n",
      "    Uninstalling six-1.12.0:\n",
      "      Successfully uninstalled six-1.12.0\n",
      "  Attempting uninstall: scikit-learn\n",
      "    Found existing installation: scikit-learn 0.21.1\n",
      "    Uninstalling scikit-learn-0.21.1:\n",
      "      Successfully uninstalled scikit-learn-0.21.1\n",
      "  Attempting uninstall: pandas\n",
      "    Found existing installation: pandas 0.22.0\n",
      "    Uninstalling pandas-0.22.0:\n",
      "      Successfully uninstalled pandas-0.22.0\n",
      "  Attempting uninstall: pandas-datareader\n",
      "    Found existing installation: pandas-datareader 0.8.1\n",
      "    Uninstalling pandas-datareader-0.8.1:\n",
      "      Successfully uninstalled pandas-datareader-0.8.1\n",
      "  Attempting uninstall: zipline\n",
      "    Found existing installation: zipline 1.3.0\n",
      "    Uninstalling zipline-1.3.0:\n",
      "      Successfully uninstalled zipline-1.3.0\n",
      "Successfully installed pandas-0.18.1 pandas-datareader-0.5.0 plotly-2.2.3 requests-ftp-0.3.1 scikit-learn-0.19.1 six-1.11.0 zipline-1.2.0\n"
     ]
    }
   ],
   "source": [
    "!{sys.executable} -m pip install -r requirements.txt"
   ]
  },
  {
   "cell_type": "code",
   "execution_count": null,
   "metadata": {
    "collapsed": true
   },
   "outputs": [],
   "source": []
  }
 ],
 "metadata": {
  "kernelspec": {
   "display_name": "Python 3",
   "language": "python",
   "name": "python3"
  },
  "language_info": {
   "codemirror_mode": {
    "name": "ipython",
    "version": 3
   },
   "file_extension": ".py",
   "mimetype": "text/x-python",
   "name": "python",
   "nbconvert_exporter": "python",
   "pygments_lexer": "ipython3",
   "version": "3.6.9"
  }
 },
 "nbformat": 4,
 "nbformat_minor": 2
}
